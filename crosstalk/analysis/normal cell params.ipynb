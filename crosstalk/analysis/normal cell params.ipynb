{
 "cells": [
  {
   "cell_type": "code",
   "execution_count": 1,
   "metadata": {},
   "outputs": [],
   "source": [
    "import numpy as np\n",
    "import pandas as pd\n",
    "import matplotlib.pyplot as plt\n",
    "import matplotlib as mpl\n",
    "from matplotlib.colors import Normalize\n",
    "import os\n",
    "import math\n",
    "from matplotlib.patches import Patch\n",
    "from matplotlib.lines import Line2D\n",
    "import matplotlib.gridspec as gridspec"
   ]
  },
  {
   "cell_type": "code",
   "execution_count": 2,
   "metadata": {},
   "outputs": [],
   "source": [
    "from aux_func_States import *\n",
    "\n",
    "from functions_for_plotting import *"
   ]
  },
  {
   "cell_type": "code",
   "execution_count": 3,
   "metadata": {},
   "outputs": [],
   "source": [
    "mpl.rcParams['xtick.labelsize'] = 20\n",
    "mpl.rcParams['ytick.labelsize'] = 20\n",
    "mpl.rcParams.update({'font.size': 20})"
   ]
  },
  {
   "cell_type": "code",
   "execution_count": 4,
   "metadata": {},
   "outputs": [
    {
     "name": "stdout",
     "output_type": "stream",
     "text": [
      "kh =0.25, y=3   [ 69.817 199.687] [ 31. 396.] 893 893\n",
      "kh =0.4, y=3   [ 79.487 206.612] [ 22. 276.] 856 856\n",
      "kh =0.35, y=8   [ 86.233 441.46 ] [ 19. 318.] 374 374\n",
      "kh =0.35, y=6   [ 79.398 385.07 ] [ 20. 325.] 557 557\n",
      "kh =0.4, y=4   [ 81.11  290.177] [ 20. 275.] 813 813\n",
      "kh =0.4, y=5   [ 83.438 344.782] [ 18. 273.] 654 654\n",
      "kh =0.35, y=4   [ 75.855 288.892] [ 22. 328.] 847 847\n",
      "kh =0.35, y=5   [ 77.397 343.557] [ 21. 327.] 682 682\n"
     ]
    }
   ],
   "source": [
    "df_og = pd.read_csv(\"/home/madeline/Research/EMT_MR/crosstalk/normalCells_coupled/tests/check_uh_par2/og_normal/EMT_MR_1000_res.txt\")\n",
    "print 'kh =0.25, y=3  ',np.unique(np.round(df_og['A'],3)), np.unique(np.round(df_og['h'])), np.sum(df_og['A']<100), np.sum(df_og['h']>100)\n",
    "\n",
    "df_og2 = pd.read_csv(\"/home/madeline/Research/EMT_MR/crosstalk/normalCells_coupled/tests/check_uh_par2/og_normal/EMT_MR_kh4_1000_res.txt\")\n",
    "print 'kh =0.4, y=3  ',np.unique(np.round(df_og2['A'],3)), np.unique(np.round(df_og2['h'])), np.sum(df_og2['A']<100), np.sum(df_og2['h']>100)\n",
    "\n",
    "df_og2 = pd.read_csv(\"/home/madeline/Research/EMT_MR/crosstalk/normalCells_coupled/tests/check_uh_par2/og_normal/EMT_MR_kh35_y8_1000_res.txt\")\n",
    "print 'kh =0.35, y=8  ',np.unique(np.round(df_og2['A'],3)), np.unique(np.round(df_og2['h'])), np.sum(df_og2['A']<100), np.sum(df_og2['h']>100)\n",
    "\n",
    "df_og2 = pd.read_csv(\"/home/madeline/Research/EMT_MR/crosstalk/normalCells_coupled/tests/check_uh_par2/og_normal/EMT_MR_kh35_y6_1000_res.txt\")\n",
    "print 'kh =0.35, y=6  ',np.unique(np.round(df_og2['A'],3)), np.unique(np.round(df_og2['h'])), np.sum(df_og2['A']<100), np.sum(df_og2['h']>100)\n",
    "\n",
    "df_og2 = pd.read_csv(\"/home/madeline/Research/EMT_MR/crosstalk/normalCells_coupled/tests/check_uh_par2/og_normal/EMT_MR_kh4_y4_1000_res.txt\")\n",
    "print 'kh =0.4, y=4  ',np.unique(np.round(df_og2['A'],3)), np.unique(np.round(df_og2['h'])), np.sum(df_og2['A']<100), np.sum(df_og2['h']>100)\n",
    "\n",
    "df_og2 = pd.read_csv(\"/home/madeline/Research/EMT_MR/crosstalk/normalCells_coupled/tests/check_uh_par2/og_normal/EMT_MR_kh4_y5_1000_res.txt\")\n",
    "print 'kh =0.4, y=5  ',np.unique(np.round(df_og2['A'],3)), np.unique(np.round(df_og2['h'])), np.sum(df_og2['A']<100), np.sum(df_og2['h']>100)\n",
    "\n",
    "df_og2 = pd.read_csv(\"/home/madeline/Research/EMT_MR/crosstalk/normalCells_coupled/tests/check_uh_par2/og_normal/EMT_MR_kh35_y4_1000_res.txt\")\n",
    "print 'kh =0.35, y=4  ',np.unique(np.round(df_og2['A'],3)), np.unique(np.round(df_og2['h'])), np.sum(df_og2['A']<100), np.sum(df_og2['h']>100)\n",
    "\n",
    "df_og2 = pd.read_csv(\"/home/madeline/Research/EMT_MR/crosstalk/normalCells_coupled/tests/check_uh_par2/og_normal/EMT_MR_kh35_y5_1000_res.txt\")\n",
    "print 'kh =0.35, y=5  ',np.unique(np.round(df_og2['A'],3)), np.unique(np.round(df_og2['h'])), np.sum(df_og2['A']<100), np.sum(df_og2['h']>100)"
   ]
  },
  {
   "cell_type": "code",
   "execution_count": 5,
   "metadata": {},
   "outputs": [
    {
     "name": "stdout",
     "output_type": "stream",
     "text": [
      "kh =0.35, y=6   [ 79.398 385.07 ] [ 20. 325.] 557 557\n"
     ]
    }
   ],
   "source": [
    "df_og2 = pd.read_csv(\"/home/madeline/Research/EMT_MR/crosstalk/normalCells_coupled/tests/check_uh_par2/og_normal/EMT_MR_kh35_y6_1000_res.txt\")\n",
    "print 'kh =0.35, y=6  ',np.unique(np.round(df_og2['A'],3)), np.unique(np.round(df_og2['h'])), np.sum(df_og2['A']<100), np.sum(df_og2['h']>100)\n"
   ]
  },
  {
   "cell_type": "code",
   "execution_count": 6,
   "metadata": {},
   "outputs": [],
   "source": [
    "\n",
    "dir_pars = \"/home/madeline/Research/EMT_MR/crosstalk/normalCells_coupled/tests/check_uh_par2/regs_norm\""
   ]
  },
  {
   "cell_type": "code",
   "execution_count": 7,
   "metadata": {},
   "outputs": [
    {
     "name": "stdout",
     "output_type": "stream",
     "text": [
      "[ 73.098 307.762 383.343] [ 23. 223. 392.] 52 80\n",
      "[ 79.08  384.998] [ 20. 328.] 42 42\n",
      "[ 83.711 385.898] [ 18. 290.] 53 53\n",
      "[ 86.143 386.254] [ 17. 275.] 35 35\n"
     ]
    }
   ],
   "source": [
    "res_og =getStates(df_og)#,stateThresholds())\n",
    "\n",
    "\n",
    "for i in range(4):\n",
    "    df = pd.read_csv(dir_pars+'/EMT_MR_'+str(i)+\"_100_res.txt\")\n",
    "    print np.unique(np.round(df['A'],3)), np.unique(np.round(df['h'])), np.sum(df['A']<100), np.sum(df['h']>100)"
   ]
  },
  {
   "cell_type": "code",
   "execution_count": null,
   "metadata": {
    "scrolled": true
   },
   "outputs": [],
   "source": []
  },
  {
   "cell_type": "code",
   "execution_count": null,
   "metadata": {},
   "outputs": [],
   "source": []
  },
  {
   "cell_type": "code",
   "execution_count": null,
   "metadata": {},
   "outputs": [],
   "source": []
  },
  {
   "cell_type": "code",
   "execution_count": null,
   "metadata": {},
   "outputs": [],
   "source": []
  },
  {
   "cell_type": "code",
   "execution_count": null,
   "metadata": {},
   "outputs": [],
   "source": []
  },
  {
   "cell_type": "code",
   "execution_count": 8,
   "metadata": {},
   "outputs": [],
   "source": [
    "dir_pare = \"/home/madeline/Research/EMT_MR/crosstalk/normalCells_coupled/tests/check_emt_pars\""
   ]
  },
  {
   "cell_type": "code",
   "execution_count": 10,
   "metadata": {
    "scrolled": false
   },
   "outputs": [
    {
     "name": "stdout",
     "output_type": "stream",
     "text": [
      "[ 1500. 19900. 31500.] [ 107.  424. 1698.] 489 0 511 499 12\n",
      "[ 1600. 33900.] [ 101. 1673.] 422 0 578 578 578\n",
      "[ 1400. 18600. 29700.] [  98.  408. 1600.] 474 0 526 514 12\n",
      "[ 1400. 17700. 30200.] [ 112.  472. 1710.] 535 0 465 535 6\n",
      "[ 1500. 19900. 31500.] [ 107.  424. 1698.] 489 0 511 499 12\n"
     ]
    }
   ],
   "source": [
    "for i in range(5):\n",
    "    df = pd.read_csv(dir_pare+'/EMT_MR_'+str(i)+\"_1000_res.txt\")\n",
    "    #plt.hist(df['u'])\n",
    "    #plt.show()\n",
    "    med = np.median(np.round(df['u'],-2))\n",
    "    maxv = np.max(np.round(df['u'],-2))\n",
    "    print np.unique(np.round(df['u'],-2)), np.unique(np.round(df['mz'])),  np.sum(df['u']<4000),  np.sum((df['u']>=4000)*(df['u']<=15000)),  np.sum((df['u']>15000)),np.sum(med==np.round(df['u'],-2)),np.sum(maxv==np.round(df['u'],-2))"
   ]
  },
  {
   "cell_type": "code",
   "execution_count": null,
   "metadata": {},
   "outputs": [],
   "source": []
  },
  {
   "cell_type": "code",
   "execution_count": 11,
   "metadata": {},
   "outputs": [
    {
     "data": {
      "image/png": "[encoded data removed]",
      "text/plain": [
       "<Figure size 432x288 with 1 Axes>"
      ]
     },
     "metadata": {
      "needs_background": "light"
     },
     "output_type": "display_data"
    },
    {
     "data": {
      "image/png": "[encoded data removed]",
      "text/plain": [
       "<Figure size 432x288 with 1 Axes>"
      ]
     },
     "metadata": {
      "needs_background": "light"
     },
     "output_type": "display_data"
    }
   ],
   "source": [
    "df = pd.read_csv(\"../normalCells_coupled/tests/test_both/EMT_MR_1000_res.txt\")\n",
    "plt.plot(df['u'],df['h'],'*')\n",
    "plt.show()\n",
    "\n",
    "plt.plot(df['A'],df['mz'],'*')\n",
    "\n",
    "res=getStates(df)"
   ]
  },
  {
   "cell_type": "code",
   "execution_count": 12,
   "metadata": {},
   "outputs": [
    {
     "name": "stdout",
     "output_type": "stream",
     "text": [
      "0 EM 499\n",
      "1 E 12\n",
      "2 WO 0\n",
      "3 M 489\n",
      "4 M/W 196\n",
      "5 EM/WO 0\n",
      "6 M/O 293\n",
      "7 O 585\n",
      "8 W 415\n",
      "9 M/WO 0\n",
      "10 EM/W 215\n",
      "11 E/O 8\n",
      "12 E/WO 0\n",
      "13 EM/O 284\n",
      "14 E/W 4\n"
     ]
    },
    {
     "data": {
      "image/png": "[encoded data removed]",
      "text/plain": [
       "<Figure size 432x288 with 1 Axes>"
      ]
     },
     "metadata": {
      "needs_background": "light"
     },
     "output_type": "display_data"
    }
   ],
   "source": [
    "i=0\n",
    "for key in res:\n",
    "    print i,key,res[key]\n",
    "    plt.bar(i,res[key])\n",
    "    i+=1"
   ]
  },
  {
   "cell_type": "code",
   "execution_count": 32,
   "metadata": {},
   "outputs": [
    {
     "name": "stdout",
     "output_type": "stream",
     "text": [
      "[ 79.08  384.998] [ 20. 328.] 415 415\n",
      "[ 1557.824 33948.268] [ 101. 1673.] 422 422\n"
     ]
    },
    {
     "data": {
      "image/png": "[encoded data removed]",
      "text/plain": [
       "<Figure size 432x288 with 1 Axes>"
      ]
     },
     "metadata": {
      "needs_background": "light"
     },
     "output_type": "display_data"
    },
    {
     "data": {
      "image/png": "[encoded data removed]",
      "text/plain": [
       "<Figure size 432x288 with 1 Axes>"
      ]
     },
     "metadata": {
      "needs_background": "light"
     },
     "output_type": "display_data"
    },
    {
     "name": "stdout",
     "output_type": "stream",
     "text": [
      "0 EM 0\n",
      "1 E 578\n",
      "2 WO 0\n",
      "3 M 422\n",
      "4 M/W 167\n",
      "5 EM/WO 0\n",
      "6 M/O 255\n",
      "7 O 585\n",
      "8 W 415\n",
      "9 M/WO 0\n",
      "10 EM/W 0\n",
      "11 E/O 330\n",
      "12 E/WO 0\n",
      "13 EM/O 0\n",
      "14 E/W 248\n"
     ]
    },
    {
     "data": {
      "image/png": "[encoded data removed]",
      "text/plain": [
       "<Figure size 432x288 with 1 Axes>"
      ]
     },
     "metadata": {
      "needs_background": "light"
     },
     "output_type": "display_data"
    }
   ],
   "source": [
    "df = pd.read_csv(\"../normalCells_coupled/bothModified/crosstalk_comparison/EMT_MR_comp_0_1000_res.txt\")\n",
    "print np.unique(np.round(df['A'],3)), np.unique(np.round(df['h'])), np.sum(df['A']<100), np.sum(df['h']>100)\n",
    "print np.unique(np.round(df['u'],3)), np.unique(np.round(df['mz'])), np.sum(df['u']<10000), np.sum(df['mz']>1000)\n",
    "\n",
    "plt.plot(df['u'],df['h'],'*')\n",
    "plt.show()\n",
    "\n",
    "plt.plot(df['A'],df['mz'],'*')\n",
    "plt.show()\n",
    "res=getStates(df)\n",
    "\n",
    "i=0\n",
    "for key in res:\n",
    "    print i,key,res[key]\n",
    "    plt.bar(i,res[key])\n",
    "    i+=1"
   ]
  },
  {
   "cell_type": "code",
   "execution_count": null,
   "metadata": {},
   "outputs": [],
   "source": []
  },
  {
   "cell_type": "code",
   "execution_count": null,
   "metadata": {},
   "outputs": [],
   "source": []
  }
 ],
 "metadata": {
  "kernelspec": {
   "display_name": "Python 3",
   "language": "python",
   "name": "python3"
  },
  "language_info": {
   "codemirror_mode": {
    "name": "ipython",
    "version": 2
   },
   "file_extension": ".py",
   "mimetype": "text/x-python",
   "name": "python",
   "nbconvert_exporter": "python",
   "pygments_lexer": "ipython2",
   "version": "2.7.17"
  }
 },
 "nbformat": 4,
 "nbformat_minor": 2
}
