{
 "cells": [
  {
   "cell_type": "code",
   "execution_count": 1,
   "metadata": {},
   "outputs": [],
   "source": [
    "import numpy as np\n",
    "import pandas as pd"
   ]
  },
  {
   "cell_type": "code",
   "execution_count": 1,
   "metadata": {},
   "outputs": [],
   "source": [
    "links = ['AS','AZ','uh','Hu','Au','u3m','u3n','input','HS']\n",
    "res = ['E','E','W','M','E','WO','WO','EM','M']"
   ]
  },
  {
   "cell_type": "code",
   "execution_count": 3,
   "metadata": {},
   "outputs": [],
   "source": [
    "N = len(links)\n",
    "active_links=[]\n",
    "potential_results=[]\n",
    "for i in range(N):\n",
    "    active_links +=[[links[i]]]\n",
    "    potential_results +=[res[i]]\n",
    "    for j in range(i+1,N):\n",
    "        if (res[i] in ['E','M','EM']) and (res[j] in ['E','M','EM']):\n",
    "            if res[i]!=res[j]:\n",
    "                potential_results+=['EM']\n",
    "            else:\n",
    "                potential_results+=[res[i]]\n",
    "        elif (res[i] in ['W','O','WO']) and (res[j] in ['W','WO','O']):\n",
    "            if res[i]!=res[j]:\n",
    "                potential_results+=['WO']\n",
    "            else:\n",
    "                potential_results+=[res[i]]\n",
    "        else:\n",
    "            if res[i] in ['E','M','EM']:\n",
    "                potential_results+=[res[i]+'/'+res[j]]\n",
    "            else:\n",
    "                potential_results+=[res[j]+'/'+res[i]]\n",
    "        active_links+=[[links[i],links[j]]]\n",
    "        for k in range(j+1,N):\n",
    "            active_links+=[[links[i],links[j],links[k]]]\n",
    "            potential_results+=['?']\n",
    "            for i1 in range(k+1,N):\n",
    "                active_links+=[[links[i],links[j],links[k],links[i1]]]\n",
    "                potential_results+=['?']\n",
    "                for j1 in range(i1+1,N):\n",
    "                    active_links+=[[links[i],links[j],links[k],links[i1],links[j1]]]\n",
    "                    potential_results+=['?']\n",
    "                    for k1 in range(j1+1,N):\n",
    "                        active_links+=[[links[i],links[j],links[k],links[i1],links[j1],links[k1]]]\n",
    "                        potential_results+=['?']\n",
    "                        for i2 in range(k1+1,N):\n",
    "                            active_links+=[[links[i],links[j],links[k],links[i1],links[j1],links[k1],links[i2]]]\n",
    "                            potential_results+=['?']\n",
    "                            for j2 in range(i2+1,N):\n",
    "                                active_links+=[[links[i],links[j],links[k],links[i1],links[j1],links[k1],links[i2],links[j2]]]\n",
    "                                potential_results+=['?']\n",
    "                                for k2 in range(j2+1,N):\n",
    "                                    active_links+=[[links[i],links[j],links[k],links[i1],links[j1],links[k1],links[i2],links[j2],links[k2]]]\n",
    "                                    potential_results+=['?']\n"
   ]
  },
  {
   "cell_type": "code",
   "execution_count": 4,
   "metadata": {},
   "outputs": [],
   "source": [
    "fileo = open('guesses.txt','w')\n",
    "for i in range(1,10):\n",
    "    fileo.write(\"%s-link\\n\" %i)\n",
    "    for j in range(len(active_links)):\n",
    "        if len(active_links[j])==i:\n",
    "            fileo.write(\"%s,%s\\n\" %(active_links[j],potential_results[j]))\n",
    "fileo.close()"
   ]
  },
  {
   "cell_type": "code",
   "execution_count": 1,
   "metadata": {},
   "outputs": [],
   "source": [
    "links = ['AS','Au','uh','HS','Hu','u3m','input']\n",
    "N = len(links)\n",
    "active_links=[]\n",
    "for i in range(N):\n",
    "    active_links +=[[links[i]]]\n",
    "    for j in range(i+1,N):\n",
    "        active_links+=[[links[i],links[j]]]\n",
    "        for k in range(j+1,N):\n",
    "            active_links+=[[links[i],links[j],links[k]]]\n",
    "            for i1 in range(k+1,N):\n",
    "                active_links+=[[links[i],links[j],links[k],links[i1]]]\n",
    "                for j1 in range(i1+1,N):\n",
    "                    active_links+=[[links[i],links[j],links[k],links[i1],links[j1]]]\n",
    "                    for k1 in range(j1+1,N):\n",
    "                        active_links+=[[links[i],links[j],links[k],links[i1],links[j1],links[k1]]]\n",
    "                        for i2 in range(k1+1,N):\n",
    "                            active_links+=[[links[i],links[j],links[k],links[i1],links[j1],links[k1],links[i2]]]\n",
    "                            for j2 in range(i2+1,N):\n",
    "                                active_links+=[[links[i],links[j],links[k],links[i1],links[j1],links[k1],links[i2],links[j2]]]\n",
    "                                for k2 in range(j2+1,N):\n",
    "                                    active_links+=[[links[i],links[j],links[k],links[i1],links[j1],links[k1],links[i2],links[j2],links[k2]]]\n"
   ]
  },
  {
   "cell_type": "code",
   "execution_count": 2,
   "metadata": {},
   "outputs": [],
   "source": [
    "fileo = open('links_reduced.txt','w')\n",
    "for i in range(1,10):\n",
    "    fileo.write(\"%s-link\\n\" %i)\n",
    "    for j in range(len(active_links)):\n",
    "        if len(active_links[j])==i:\n",
    "            fileo.write(\"%s\\n\" %(active_links[j]))\n",
    "fileo.close()"
   ]
  },
  {
   "cell_type": "code",
   "execution_count": 1,
   "metadata": {},
   "outputs": [
    {
     "name": "stdout",
     "output_type": "stream",
     "text": [
      "3240000\n"
     ]
    }
   ],
   "source": [
    "count=0\n",
    "for a in [0,40000,50000,60000,100000]:## input\n",
    "    for b in [0.18,0.28,0.38,1]:## u3m\n",
    "        for c in [0.,0.2,0.5,0.8]:## u3n\n",
    "            for d in [0,0.4,0.7,0.9,1]:# AS\n",
    "                for e in [0.,0.2,0.4,0.6,0.8,1.]:## AZ\n",
    "                    for f in [1.,1.1,1.5,1.9,2.,6.]:## Au\n",
    "                        for g in [1.,1.1,1.5,2,15]:## HS\n",
    "                            for h in [0.1,0.3,0.8,0.9,1.]:##Hu\n",
    "                                for ii in [0,1]:\n",
    "                                    if ii:\n",
    "                                        for i0 in [2,3]:##l\n",
    "                                            for i1 in [2,3]:##ym\n",
    "                                                for i2 in [0,1]:##yu\n",
    "            \n",
    "                                                    count+=1\n",
    "                                    else:## nouh\n",
    "                                        count+=1\n",
    "                            \n",
    "print count\n",
    "                \n",
    "                \n",
    "                \n",
    "                "
   ]
  },
  {
   "cell_type": "code",
   "execution_count": 5,
   "metadata": {},
   "outputs": [
    {
     "data": {
      "text/plain": [
       "1575.0"
      ]
     },
     "execution_count": 5,
     "metadata": {},
     "output_type": "execute_result"
    }
   ],
   "source": [
    "(3240000./10.*7.)/60./24."
   ]
  },
  {
   "cell_type": "code",
   "execution_count": 46,
   "metadata": {},
   "outputs": [],
   "source": [
    "sets = [['AS','HS'],\n",
    "        ['AS','Hu'],\n",
    "        ['AS','input'],\n",
    "        ['AS','u3m'],\n",
    "        ['AZ','HS'],\n",
    "        ['AZ','Hu'],\n",
    "        ['Au','input'],\n",
    "        ['Au','u3m'],\n",
    "        ['Au','uh'],\n",
    "        ['HS','input'],\n",
    "        ['Hu','input'],\n",
    "        ['Hu','u3m'],\n",
    "        ['Hu','uh'],\n",
    "        ['u3m','HS'],\n",
    "        ['u3m','input'],\n",
    "        ['u3n','input'],\n",
    "        ['u3n','u3m'],\n",
    "        ['uh','input'],\n",
    "        ['uh','u3m']\n",
    "       ]\n",
    "\n",
    "missing_sets = [['AS', 'uh'],\n",
    "                ['AS', 'u3n'],\n",
    "                ['AZ', 'Au'],\n",
    "                ['AZ', 'uh'],\n",
    "                ['AZ', 'u3m'],\n",
    "                ['AZ', 'u3n'],\n",
    "                ['AZ', 'input'],\n",
    "                ['Au', 'u3n'],\n",
    "                ['Hu', 'u3n'],\n",
    "                ['HS', 'uh'],\n",
    "                ['HS', 'u3n'],\n",
    "                ['uh', 'u3n']\n",
    "               ]\n",
    "\n",
    "sets_assumed = [['AS', 'uh'],\n",
    "                ['AS','HS'],\n",
    "                ['AS','Hu'],\n",
    "                ['AS','u3m'],\n",
    "                ['AS', 'u3n'],\n",
    "                ['AS', 'input'],\n",
    "                ['AZ','uh'],\n",
    "                ['AZ','HS'],\n",
    "                ['AZ','Hu'],\n",
    "                ['AZ','u3m'],\n",
    "                ['AZ', 'u3n'],\n",
    "                ['AZ', 'input'],\n",
    "                ['Au','input'],\n",
    "                ['Au','u3m'],\n",
    "                ['Au','uh'],\n",
    "                ['Au', 'u3n'],\n",
    "                ['Hu', 'uh'],\n",
    "                ['Hu', 'u3m'],\n",
    "                ['Hu', 'u3n'],\n",
    "                ['Hu','input'],\n",
    "                ['HS','uh'],\n",
    "                ['HS', 'u3n'],\n",
    "                ['HS', 'u3m'],\n",
    "                ['HS','input'],\n",
    "                ['uh', 'u3n'],\n",
    "                ['uh','input'],\n",
    "                ['uh','u3m'] , \n",
    "                ['u3m','HS'],\n",
    "                ['u3m','input'],\n",
    "                ['u3n','input'],\n",
    "                ['u3m','u3n'],\n",
    "               ]"
   ]
  },
  {
   "cell_type": "code",
   "execution_count": 47,
   "metadata": {},
   "outputs": [],
   "source": [
    "keys = ['AS','AZ','Au','Hu','HS','uh','u3m','u3n','input']"
   ]
  },
  {
   "cell_type": "code",
   "execution_count": 48,
   "metadata": {},
   "outputs": [
    {
     "name": "stdout",
     "output_type": "stream",
     "text": [
      "AS Hu u3m\n",
      "AS Hu input\n",
      "AS HS input\n",
      "AS u3m input\n",
      "Au uh u3m\n",
      "Au uh input\n",
      "Au u3m input\n",
      "Hu uh u3m\n",
      "Hu uh input\n",
      "Hu u3m input\n",
      "uh u3m input\n"
     ]
    }
   ],
   "source": [
    "for i in range(len(keys)):\n",
    "    for j in range(i+1,len(keys)):\n",
    "        for k in range(j+1,len(keys)):\n",
    "            tmpa=[keys[i],keys[j]]\n",
    "            tmpb=[keys[i],keys[k]]\n",
    "            tmpc=[keys[j],keys[k]]\n",
    "            if (tmpa in sets) and (tmpb in sets) and (tmpc in sets):\n",
    "                print keys[i],keys[j],keys[k]\n"
   ]
  },
  {
   "cell_type": "code",
   "execution_count": 49,
   "metadata": {},
   "outputs": [],
   "source": [
    "possible_triples = []\n",
    "for i in range(len(keys)):\n",
    "    for j in range(i+1,len(keys)):\n",
    "        for k in range(j+1,len(keys)):\n",
    "            tmpa=[keys[i],keys[j]]\n",
    "            tmpb=[keys[i],keys[k]]\n",
    "            tmpc=[keys[j],keys[k]]\n",
    "            if (tmpa in sets_assumed) and (tmpb in sets_assumed) and (tmpc in sets_assumed):\n",
    "                #print keys[i],keys[j],keys[k]\n",
    "                possible_triples+=[[keys[i],keys[j],keys[k]]]\n"
   ]
  },
  {
   "cell_type": "code",
   "execution_count": 50,
   "metadata": {},
   "outputs": [],
   "source": [
    "fin_up = [['AS','Hu','u3n'],\n",
    "          ['AS','HS','input'],\n",
    "          ['AS','u3m','input'],\n",
    "          ['Au','u3m','input'],\n",
    "          ['Hu','u3m','input'],\n",
    "          ['AS','HS','u3m'],\n",
    "          ['AS','Hu','uh'],\n",
    "          ['Au','HS','u3m'],\n",
    "          ['Au','Hu','u3m'],\n",
    "          ['HS','u3m','input'],\n",
    "          ['Hu','u3m','u3n']\n",
    "         ]\n",
    "\n",
    "keys = ['AS','AZ','Au','Hu','HS','uh','u3m','u3n','input']"
   ]
  },
  {
   "cell_type": "code",
   "execution_count": 51,
   "metadata": {},
   "outputs": [
    {
     "name": "stdout",
     "output_type": "stream",
     "text": [
      "['AS', 'Hu', 'u3n']\n",
      "['AS', 'HS', 'input']\n",
      "['AS', 'u3m', 'input']\n",
      "['Au', 'u3m', 'input']\n",
      "['Hu', 'u3m', 'input']\n",
      "['AS', 'HS', 'u3m']\n",
      "['AS', 'Hu', 'uh']\n",
      "X  ['Au', 'HS', 'u3m']\n",
      "X  ['Au', 'Hu', 'u3m']\n",
      "['HS', 'u3m', 'input']\n",
      "['Hu', 'u3m', 'u3n']\n"
     ]
    }
   ],
   "source": [
    "for el in fin_up:\n",
    "    if el in possible_triples:\n",
    "        print el\n",
    "    else:\n",
    "        print \"X \",el"
   ]
  },
  {
   "cell_type": "code",
   "execution_count": 56,
   "metadata": {},
   "outputs": [
    {
     "name": "stdout",
     "output_type": "stream",
     "text": [
      "50\n"
     ]
    }
   ],
   "source": [
    "print len(possible_triples)\n",
    "reduced = []\n",
    "for el in possible_triples:\n",
    "    if 'AZ' not in el:\n",
    "        if 'u3n' not in el:\n",
    "            reduced+=[el]\n"
   ]
  },
  {
   "cell_type": "code",
   "execution_count": 59,
   "metadata": {},
   "outputs": [
    {
     "name": "stdout",
     "output_type": "stream",
     "text": [
      "19\n"
     ]
    },
    {
     "data": {
      "text/plain": [
       "[['AS', 'Hu', 'uh'],\n",
       " ['AS', 'Hu', 'u3m'],\n",
       " ['AS', 'Hu', 'input'],\n",
       " ['AS', 'HS', 'uh'],\n",
       " ['AS', 'HS', 'u3m'],\n",
       " ['AS', 'HS', 'input'],\n",
       " ['AS', 'uh', 'u3m'],\n",
       " ['AS', 'uh', 'input'],\n",
       " ['AS', 'u3m', 'input'],\n",
       " ['Au', 'uh', 'u3m'],\n",
       " ['Au', 'uh', 'input'],\n",
       " ['Au', 'u3m', 'input'],\n",
       " ['Hu', 'uh', 'u3m'],\n",
       " ['Hu', 'uh', 'input'],\n",
       " ['Hu', 'u3m', 'input'],\n",
       " ['HS', 'uh', 'u3m'],\n",
       " ['HS', 'uh', 'input'],\n",
       " ['HS', 'u3m', 'input'],\n",
       " ['uh', 'u3m', 'input']]"
      ]
     },
     "execution_count": 59,
     "metadata": {},
     "output_type": "execute_result"
    }
   ],
   "source": [
    "print len(reduced)\n",
    "reduced\n"
   ]
  },
  {
   "cell_type": "code",
   "execution_count": 64,
   "metadata": {},
   "outputs": [
    {
     "data": {
      "text/plain": [
       "[['AS', 'AZ', 'Au'],\n",
       " ['AS', 'AZ', 'Hu'],\n",
       " ['AS', 'AZ', 'HS'],\n",
       " ['AS', 'AZ', 'uh'],\n",
       " ['AS', 'AZ', 'u3m'],\n",
       " ['AS', 'AZ', 'u3n'],\n",
       " ['AS', 'AZ', 'input'],\n",
       " ['AS', 'Au', 'Hu'],\n",
       " ['AS', 'Au', 'HS'],\n",
       " ['AS', 'Au', 'uh'],\n",
       " ['AS', 'Au', 'u3m'],\n",
       " ['AS', 'Au', 'u3n'],\n",
       " ['AS', 'Au', 'input'],\n",
       " ['AS', 'Hu', 'HS'],\n",
       " ['AS', 'Hu', 'uh'],\n",
       " ['AS', 'Hu', 'u3m'],\n",
       " ['AS', 'Hu', 'u3n'],\n",
       " ['AS', 'Hu', 'input'],\n",
       " ['AS', 'HS', 'uh'],\n",
       " ['AS', 'HS', 'u3m'],\n",
       " ['AS', 'HS', 'u3n'],\n",
       " ['AS', 'HS', 'input'],\n",
       " ['AS', 'uh', 'u3m'],\n",
       " ['AS', 'uh', 'u3n'],\n",
       " ['AS', 'uh', 'input'],\n",
       " ['AS', 'u3m', 'u3n'],\n",
       " ['AS', 'u3m', 'input'],\n",
       " ['AS', 'u3n', 'input'],\n",
       " ['AZ', 'Au', 'Hu'],\n",
       " ['AZ', 'Au', 'HS'],\n",
       " ['AZ', 'Au', 'uh'],\n",
       " ['AZ', 'Au', 'u3m'],\n",
       " ['AZ', 'Au', 'u3n'],\n",
       " ['AZ', 'Au', 'input'],\n",
       " ['AZ', 'Hu', 'HS'],\n",
       " ['AZ', 'Hu', 'uh'],\n",
       " ['AZ', 'Hu', 'u3m'],\n",
       " ['AZ', 'Hu', 'u3n'],\n",
       " ['AZ', 'Hu', 'input'],\n",
       " ['AZ', 'HS', 'uh'],\n",
       " ['AZ', 'HS', 'u3m'],\n",
       " ['AZ', 'HS', 'u3n'],\n",
       " ['AZ', 'HS', 'input'],\n",
       " ['AZ', 'uh', 'u3m'],\n",
       " ['AZ', 'uh', 'u3n'],\n",
       " ['AZ', 'uh', 'input'],\n",
       " ['AZ', 'u3m', 'u3n'],\n",
       " ['AZ', 'u3m', 'input'],\n",
       " ['AZ', 'u3n', 'input'],\n",
       " ['Au', 'Hu', 'HS'],\n",
       " ['Au', 'Hu', 'uh'],\n",
       " ['Au', 'Hu', 'u3m'],\n",
       " ['Au', 'Hu', 'u3n'],\n",
       " ['Au', 'Hu', 'input'],\n",
       " ['Au', 'HS', 'uh'],\n",
       " ['Au', 'HS', 'u3m'],\n",
       " ['Au', 'HS', 'u3n'],\n",
       " ['Au', 'HS', 'input'],\n",
       " ['Au', 'uh', 'u3m'],\n",
       " ['Au', 'uh', 'u3n'],\n",
       " ['Au', 'uh', 'input'],\n",
       " ['Au', 'u3m', 'u3n'],\n",
       " ['Au', 'u3m', 'input'],\n",
       " ['Au', 'u3n', 'input'],\n",
       " ['Hu', 'HS', 'uh'],\n",
       " ['Hu', 'HS', 'u3m'],\n",
       " ['Hu', 'HS', 'u3n'],\n",
       " ['Hu', 'HS', 'input'],\n",
       " ['Hu', 'uh', 'u3m'],\n",
       " ['Hu', 'uh', 'u3n'],\n",
       " ['Hu', 'uh', 'input'],\n",
       " ['Hu', 'u3m', 'u3n'],\n",
       " ['Hu', 'u3m', 'input'],\n",
       " ['Hu', 'u3n', 'input'],\n",
       " ['HS', 'uh', 'u3m'],\n",
       " ['HS', 'uh', 'u3n'],\n",
       " ['HS', 'uh', 'input'],\n",
       " ['HS', 'u3m', 'u3n'],\n",
       " ['HS', 'u3m', 'input'],\n",
       " ['HS', 'u3n', 'input'],\n",
       " ['uh', 'u3m', 'u3n'],\n",
       " ['uh', 'u3m', 'input'],\n",
       " ['uh', 'u3n', 'input'],\n",
       " ['u3m', 'u3n', 'input']]"
      ]
     },
     "execution_count": 64,
     "metadata": {},
     "output_type": "execute_result"
    }
   ],
   "source": [
    "possible_triples"
   ]
  },
  {
   "cell_type": "code",
   "execution_count": 65,
   "metadata": {},
   "outputs": [],
   "source": [
    "possible_triples2 = []\n",
    "for i in range(len(keys)):\n",
    "    for j in range(i+1,len(keys)):\n",
    "        for k in range(j+1,len(keys)):\n",
    "            tmpa=[keys[i],keys[j]]\n",
    "            tmpb=[keys[i],keys[k]]\n",
    "            tmpc=[keys[j],keys[k]]\n",
    "            possible_triples2+=[[keys[i],keys[j],keys[k]]]\n"
   ]
  },
  {
   "cell_type": "code",
   "execution_count": 66,
   "metadata": {},
   "outputs": [
    {
     "data": {
      "text/plain": [
       "[['AS', 'AZ', 'Au'],\n",
       " ['AS', 'AZ', 'Hu'],\n",
       " ['AS', 'AZ', 'HS'],\n",
       " ['AS', 'AZ', 'uh'],\n",
       " ['AS', 'AZ', 'u3m'],\n",
       " ['AS', 'AZ', 'u3n'],\n",
       " ['AS', 'AZ', 'input'],\n",
       " ['AS', 'Au', 'Hu'],\n",
       " ['AS', 'Au', 'HS'],\n",
       " ['AS', 'Au', 'uh'],\n",
       " ['AS', 'Au', 'u3m'],\n",
       " ['AS', 'Au', 'u3n'],\n",
       " ['AS', 'Au', 'input'],\n",
       " ['AS', 'Hu', 'HS'],\n",
       " ['AS', 'Hu', 'uh'],\n",
       " ['AS', 'Hu', 'u3m'],\n",
       " ['AS', 'Hu', 'u3n'],\n",
       " ['AS', 'Hu', 'input'],\n",
       " ['AS', 'HS', 'uh'],\n",
       " ['AS', 'HS', 'u3m'],\n",
       " ['AS', 'HS', 'u3n'],\n",
       " ['AS', 'HS', 'input'],\n",
       " ['AS', 'uh', 'u3m'],\n",
       " ['AS', 'uh', 'u3n'],\n",
       " ['AS', 'uh', 'input'],\n",
       " ['AS', 'u3m', 'u3n'],\n",
       " ['AS', 'u3m', 'input'],\n",
       " ['AS', 'u3n', 'input'],\n",
       " ['AZ', 'Au', 'Hu'],\n",
       " ['AZ', 'Au', 'HS'],\n",
       " ['AZ', 'Au', 'uh'],\n",
       " ['AZ', 'Au', 'u3m'],\n",
       " ['AZ', 'Au', 'u3n'],\n",
       " ['AZ', 'Au', 'input'],\n",
       " ['AZ', 'Hu', 'HS'],\n",
       " ['AZ', 'Hu', 'uh'],\n",
       " ['AZ', 'Hu', 'u3m'],\n",
       " ['AZ', 'Hu', 'u3n'],\n",
       " ['AZ', 'Hu', 'input'],\n",
       " ['AZ', 'HS', 'uh'],\n",
       " ['AZ', 'HS', 'u3m'],\n",
       " ['AZ', 'HS', 'u3n'],\n",
       " ['AZ', 'HS', 'input'],\n",
       " ['AZ', 'uh', 'u3m'],\n",
       " ['AZ', 'uh', 'u3n'],\n",
       " ['AZ', 'uh', 'input'],\n",
       " ['AZ', 'u3m', 'u3n'],\n",
       " ['AZ', 'u3m', 'input'],\n",
       " ['AZ', 'u3n', 'input'],\n",
       " ['Au', 'Hu', 'HS'],\n",
       " ['Au', 'Hu', 'uh'],\n",
       " ['Au', 'Hu', 'u3m'],\n",
       " ['Au', 'Hu', 'u3n'],\n",
       " ['Au', 'Hu', 'input'],\n",
       " ['Au', 'HS', 'uh'],\n",
       " ['Au', 'HS', 'u3m'],\n",
       " ['Au', 'HS', 'u3n'],\n",
       " ['Au', 'HS', 'input'],\n",
       " ['Au', 'uh', 'u3m'],\n",
       " ['Au', 'uh', 'u3n'],\n",
       " ['Au', 'uh', 'input'],\n",
       " ['Au', 'u3m', 'u3n'],\n",
       " ['Au', 'u3m', 'input'],\n",
       " ['Au', 'u3n', 'input'],\n",
       " ['Hu', 'HS', 'uh'],\n",
       " ['Hu', 'HS', 'u3m'],\n",
       " ['Hu', 'HS', 'u3n'],\n",
       " ['Hu', 'HS', 'input'],\n",
       " ['Hu', 'uh', 'u3m'],\n",
       " ['Hu', 'uh', 'u3n'],\n",
       " ['Hu', 'uh', 'input'],\n",
       " ['Hu', 'u3m', 'u3n'],\n",
       " ['Hu', 'u3m', 'input'],\n",
       " ['Hu', 'u3n', 'input'],\n",
       " ['HS', 'uh', 'u3m'],\n",
       " ['HS', 'uh', 'u3n'],\n",
       " ['HS', 'uh', 'input'],\n",
       " ['HS', 'u3m', 'u3n'],\n",
       " ['HS', 'u3m', 'input'],\n",
       " ['HS', 'u3n', 'input'],\n",
       " ['uh', 'u3m', 'u3n'],\n",
       " ['uh', 'u3m', 'input'],\n",
       " ['uh', 'u3n', 'input'],\n",
       " ['u3m', 'u3n', 'input']]"
      ]
     },
     "execution_count": 66,
     "metadata": {},
     "output_type": "execute_result"
    }
   ],
   "source": [
    "possible_triples2"
   ]
  },
  {
   "cell_type": "code",
   "execution_count": null,
   "metadata": {},
   "outputs": [],
   "source": []
  },
  {
   "cell_type": "code",
   "execution_count": null,
   "metadata": {},
   "outputs": [],
   "source": []
  }
 ],
 "metadata": {
  "kernelspec": {
   "display_name": "Python 3",
   "language": "python",
   "name": "python3"
  },
  "language_info": {
   "codemirror_mode": {
    "name": "ipython",
    "version": 2
   },
   "file_extension": ".py",
   "mimetype": "text/x-python",
   "name": "python",
   "nbconvert_exporter": "python",
   "pygments_lexer": "ipython2",
   "version": "2.7.17"
  }
 },
 "nbformat": 4,
 "nbformat_minor": 2
}
