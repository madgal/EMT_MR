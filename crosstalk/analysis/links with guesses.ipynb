{
 "cells": [
  {
   "cell_type": "code",
   "execution_count": 1,
   "metadata": {},
   "outputs": [],
   "source": [
    "import numpy as np\n",
    "import pandas as pd"
   ]
  },
  {
   "cell_type": "code",
   "execution_count": 2,
   "metadata": {},
   "outputs": [],
   "source": [
    "links = ['AS','AZ','uh','Hu','Au','u3m','u3n','input','HS']\n",
    "res = ['E','E','W','M','E','WO','WO','EM','M']"
   ]
  },
  {
   "cell_type": "code",
   "execution_count": 8,
   "metadata": {},
   "outputs": [],
   "source": [
    "N = len(links)\n",
    "active_links=[]\n",
    "potential_results=[]\n",
    "for i in range(N):\n",
    "    active_links +=[[links[i]]]\n",
    "    potential_results +=[res[i]]\n",
    "    for j in range(i+1,N):\n",
    "        if (res[i] in ['E','M','EM']) and (res[j] in ['E','M','EM']):\n",
    "            if res[i]!=res[j]:\n",
    "                potential_results+=['EM']\n",
    "            else:\n",
    "                potential_results+=[res[i]]\n",
    "        elif (res[i] in ['W','O','WO']) and (res[j] in ['W','WO','O']):\n",
    "            if res[i]!=res[j]:\n",
    "                potential_results+=['WO']\n",
    "            else:\n",
    "                potential_results+=[res[i]]\n",
    "        else:\n",
    "            if res[i] in ['E','M','EM']:\n",
    "                potential_results+=[res[i]+'/'+res[j]]\n",
    "            else:\n",
    "                potential_results+=[res[j]+'/'+res[i]]\n",
    "        active_links+=[[links[i],links[j]]]\n",
    "        for k in range(j+1,N):\n",
    "            active_links+=[[links[i],links[j],links[k]]]\n",
    "            potential_results+=['?']\n",
    "            for i1 in range(k+1,N):\n",
    "                active_links+=[[links[i],links[j],links[k],links[i1]]]\n",
    "                potential_results+=['?']\n",
    "                for j1 in range(i1+1,N):\n",
    "                    active_links+=[[links[i],links[j],links[k],links[i1],links[j1]]]\n",
    "                    potential_results+=['?']\n",
    "                    for k1 in range(j1+1,N):\n",
    "                        active_links+=[[links[i],links[j],links[k],links[i1],links[j1],links[k1]]]\n",
    "                        potential_results+=['?']\n",
    "                        for i2 in range(k1+1,N):\n",
    "                            active_links+=[[links[i],links[j],links[k],links[i1],links[j1],links[k1],links[i2]]]\n",
    "                            potential_results+=['?']\n",
    "                            for j2 in range(i2+1,N):\n",
    "                                active_links+=[[links[i],links[j],links[k],links[i1],links[j1],links[k1],links[i2],links[j2]]]\n",
    "                                potential_results+=['?']\n",
    "                                for k2 in range(j2+1,N):\n",
    "                                    active_links+=[[links[i],links[j],links[k],links[i1],links[j1],links[k1],links[i2],links[j2],links[k2]]]\n",
    "                                    potential_results+=['?']\n"
   ]
  },
  {
   "cell_type": "code",
   "execution_count": 10,
   "metadata": {},
   "outputs": [],
   "source": [
    "fileo = open('guesses.txt','w')\n",
    "for i in range(1,10):\n",
    "    fileo.write(\"%s-link\\n\" %i)\n",
    "    for j in range(len(active_links)):\n",
    "        if len(active_links[j])==i:\n",
    "            fileo.write(\"%s,%s\\n\" %(active_links[j],potential_results[j]))\n",
    "fileo.close()"
   ]
  },
  {
   "cell_type": "markdown",
   "metadata": {},
   "source": [
    "# Try\n",
    "* uh, u3m\n",
    "* AS, Hu\n",
    "    * AS, input - \n",
    "    * AS, HS - \n",
    "* AZ, Hu\n",
    "* AZ, HS\n",
    "* uh, input\n",
    "* Hu, Au\n",
    "    * Hu, input - \n",
    "* Au, input\n",
    "* Au, HS\n",
    "* u3m, input\n",
    "* u3n, input\n",
    "* Au, uh\n",
    "* u3m, HS\n",
    "    * input, HS- \n",
    "\n",
    "\n",
    "\n",
    "\n",
    "* tried\n",
    "    * Au, u3m - \n",
    "    * HS, Hu - \n",
    "    * Hu, uh - \n",
    "    * u3n, u3m -"
   ]
  }
 ],
 "metadata": {
  "kernelspec": {
   "display_name": "Python 3",
   "language": "python",
   "name": "python3"
  },
  "language_info": {
   "codemirror_mode": {
    "name": "ipython",
    "version": 2
   },
   "file_extension": ".py",
   "mimetype": "text/x-python",
   "name": "python",
   "nbconvert_exporter": "python",
   "pygments_lexer": "ipython2",
   "version": "2.7.17"
  }
 },
 "nbformat": 4,
 "nbformat_minor": 2
}
