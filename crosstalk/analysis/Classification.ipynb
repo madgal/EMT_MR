{
 "cells": [
  {
   "cell_type": "code",
   "execution_count": 1,
   "metadata": {},
   "outputs": [],
   "source": [
    "import numpy as np\n",
    "import pandas as pd\n",
    "import matplotlib.pyplot as plt\n",
    "import matplotlib as mpl\n",
    "from matplotlib.colors import Normalize\n",
    "import os\n",
    "import math\n",
    "from matplotlib.patches import Patch\n",
    "from matplotlib.lines import Line2D\n",
    "import matplotlib.gridspec as gridspec"
   ]
  },
  {
   "cell_type": "code",
   "execution_count": 2,
   "metadata": {},
   "outputs": [],
   "source": [
    "from aux_func_States import *\n",
    "\n",
    "from functions_for_plotting import *"
   ]
  },
  {
   "cell_type": "code",
   "execution_count": 3,
   "metadata": {},
   "outputs": [],
   "source": [
    "mpl.rcParams['xtick.labelsize'] = 20\n",
    "mpl.rcParams['ytick.labelsize'] = 20\n",
    "mpl.rcParams.update({'font.size': 20})"
   ]
  },
  {
   "cell_type": "code",
   "execution_count": 4,
   "metadata": {
    "scrolled": false
   },
   "outputs": [],
   "source": [
    "og = pd.read_csv(\"../coupledWReg_Ccode/crosstalk_comparison/EMT_MR_comp_0_1000_res.txt\")"
   ]
  },
  {
   "cell_type": "code",
   "execution_count": 5,
   "metadata": {},
   "outputs": [
    {
     "name": "stdout",
     "output_type": "stream",
     "text": [
      "Index([u'u', u'mz', u'Z', u'ms', u'u3', u'S', u'A', u'Rmt', u'Rnox', u'h',\n",
      "       u'mh'],\n",
      "      dtype='object')\n"
     ]
    }
   ],
   "source": [
    "reduced=np.unique(og,axis=0)\n",
    "colL = og.columns\n",
    "print colL\n",
    "u,mz,Z,ms,u3,S,A,Rmt,Rnox,h,mh=0,1,2,3,4,5,6,7,8,9,10"
   ]
  },
  {
   "cell_type": "code",
   "execution_count": 6,
   "metadata": {},
   "outputs": [
    {
     "name": "stdout",
     "output_type": "stream",
     "text": [
      "u [ 1265.014555 12389.217608 19098.53803 ]\n",
      "mz [ 62.206072 301.843678 990.401024]\n",
      "Z [  5968.97567   45516.30189  742309.632898]\n",
      "ms [451.154065 458.464267 458.511561]\n",
      "u3 [ 8177.938943 16908.61767  16993.323703]\n",
      "S [196610.267902 196878.362674 238329.654592]\n",
      "A [ 68.715505 327.638356 436.489801]\n",
      "Rmt [  8.372377 128.975137 138.265605]\n",
      "Rnox [ 1.646083  8.949039 30.507473]\n",
      "h [ 26.664078 292.17448  479.867662]\n",
      "mh [ 31.108091 340.870227 559.845606]\n"
     ]
    }
   ],
   "source": [
    "for key in og.columns:\n",
    "    print key ,np.unique(og[key].values)"
   ]
  },
  {
   "cell_type": "code",
   "execution_count": 7,
   "metadata": {},
   "outputs": [
    {
     "name": "stdout",
     "output_type": "stream",
     "text": [
      "u Z [1.70416023e-03 2.72192975e-01 3.19963409e+00]\n",
      "[-0.79844961 -0.61164545  1.41009506]\n",
      "0.27219297468281206\n",
      "1.4479806438839946 \n",
      "\n",
      "mz Z [0.00133422 0.00663155 0.01042157]\n",
      "[-1.286575    0.13481569  1.15175931]\n",
      "0.0066315510150510605\n",
      "0.0037268680302862366 \n",
      "\n",
      "Z Z [1.]\n",
      "[nan]\n",
      "1.0\n",
      "0.0 \n",
      "\n",
      "ms Z [0.00060777 0.01007253 0.07681579]\n",
      "[-0.84203991 -0.56296511  1.40500501]\n",
      "0.010072528917397074\n",
      "0.03391477187710298 \n",
      "\n",
      "u3 Z [0.01101688 0.37148487 2.84694136]\n",
      "[-0.84525487 -0.55928812  1.40454299]\n",
      "0.37148487394391877\n",
      "1.2605241240420548 \n",
      "\n",
      "S Z [ 0.32106502  4.32544725 32.93869481]\n",
      "[-0.84046239 -0.56476486  1.40522725]\n",
      "4.325447246347017\n",
      "14.52454928006867 \n",
      "\n"
     ]
    },
    {
     "name": "stderr",
     "output_type": "stream",
     "text": [
      "/home/madeline/anaconda2/lib/python2.7/site-packages/ipykernel_launcher.py:5: RuntimeWarning: invalid value encountered in divide\n",
      "  \"\"\"\n"
     ]
    }
   ],
   "source": [
    "labs={0:'u',1:'mz',2:'Z',3:'ms',4:'u3',5:'S'}\n",
    "for k1 in [u,mz,Z,ms,u3,S]:\n",
    "    for k2 in [Z]:#u,mz,Z,ms,u3,S]:\n",
    "        print labs[k1],labs[k2],np.unique(reduced[:,k1]/reduced[:,k2])\n",
    "        print (np.unique(reduced[:,k1]/reduced[:,k2])-np.mean((reduced[:,k1]/reduced[:,k2])))/np.std(reduced[:,k1]/reduced[:,k2])\n",
    "        print np.median(np.unique(reduced[:,k1]/reduced[:,k2]))\n",
    "        print np.std(np.unique(reduced[:,k1]/reduced[:,k2])),'\\n'\n"
   ]
  },
  {
   "cell_type": "code",
   "execution_count": 8,
   "metadata": {},
   "outputs": [
    {
     "name": "stdout",
     "output_type": "stream",
     "text": [
      "A A [1.]\n",
      "[nan]\n",
      "1.0\n",
      "0.0 \n",
      "\n",
      "A Rmt [2.36963022 3.38429415 8.20740693]\n",
      "[-0.89690097 -0.49847954  1.39538052]\n",
      "3.384294145002536\n",
      "2.546710224461121 \n",
      "\n",
      "A Rnox [  2.2524155   36.61156868 265.16876792]\n",
      "[-0.84920625 -0.55475205  1.4039583 ]\n",
      "36.6115686835201\n",
      "116.68759483658438 \n",
      "\n",
      "A h [ 0.14319678  1.1213791  16.36995665]\n",
      "[-0.77191513 -0.64025405  1.41216918]\n",
      "1.1213791019667427\n",
      "7.42954831711917 \n",
      "\n",
      "A mh [ 0.1227401   0.96118209 14.03139142]\n",
      "[-0.77191513 -0.64025405  1.41216918]\n",
      "0.9611820864601355\n",
      "6.368184272035835 \n",
      "\n",
      "Rmt A [0.12184116 0.29548259 0.42200677]\n",
      "[-1.28356757  0.12764304  1.15592454]\n",
      "0.29548259021062445\n",
      "0.1230443042500673 \n",
      "\n",
      "Rmt Rmt [1.]\n",
      "[nan]\n",
      "1.0\n",
      "0.0 \n",
      "\n",
      "Rmt Rnox [ 0.27443692 15.45032992 78.35275439]\n",
      "[-0.91960924 -0.47064641  1.39025566]\n",
      "15.450329918106291\n",
      "33.80211431660022 \n",
      "\n",
      "Rmt h [0.01744726 0.47322958 4.83703719]\n",
      "[-0.80940514 -0.59961186  1.40901701]\n",
      "0.4732295750128485\n",
      "2.17253056597056 \n",
      "\n",
      "Rmt mh [0.0149548  0.40562535 4.14603188]\n",
      "[-0.80940514 -0.59961186  1.40901701]\n",
      "0.4056253496143563\n",
      "1.8621690566278768 \n",
      "\n",
      "Rnox A [0.00377118 0.02731377 0.44396782]\n",
      "[-0.76452634 -0.64808852  1.41261486]\n",
      "0.02731377091881147\n",
      "0.20219021028968398 \n",
      "\n",
      "Rnox Rmt [0.01276279 0.06472354 3.64382457]\n",
      "[-0.72233801 -0.69176539  1.4141034 ]\n",
      "0.06472353699244292\n",
      "1.6995840573723535 \n",
      "\n",
      "Rnox Rnox [1.]\n",
      "[nan]\n",
      "1.0\n",
      "0.0 \n",
      "\n",
      "Rnox h [0.03062909 0.06173411 0.06357476]\n",
      "[-1.41246493  0.64534635  0.76711858]\n",
      "0.06173410533827571\n",
      "0.015115581152746301 \n",
      "\n",
      "Rnox mh [0.02625351 0.05291495 0.05449265]\n",
      "[-1.41246493  0.64534635  0.76711857]\n",
      "0.052914947432807766\n",
      "0.012956212420430706 \n",
      "\n",
      "h A [0.06108752 0.89175908 6.98339715]\n",
      "[-0.83740716 -0.56824219  1.40564934]\n",
      "0.8917590832985378\n",
      "3.0861057865313923 \n",
      "\n",
      "h Rmt [ 0.20673813  2.11313927 57.31558218]\n",
      "[-0.74279367 -0.67080908  1.41360275]\n",
      "2.1131392727786493\n",
      "26.483462634351014 \n",
      "\n",
      "h Rnox [15.72951198 16.19850153 32.64869893]\n",
      "[-0.7367026  -0.67709213  1.41379473]\n",
      "16.19850153364077\n",
      "7.86756938669119 \n",
      "\n",
      "h h [1.]\n",
      "[nan]\n",
      "1.0\n",
      "0.0 \n",
      "\n",
      "h mh [0.85714286 0.85714286 0.85714286]\n",
      "[-1.12698818 -0.17638731  1.30337453]\n",
      "0.8571428566325124\n",
      "3.448831194371133e-10 \n",
      "\n",
      "mh A [0.07126877 1.0403856  8.14729668]\n",
      "[-0.83740716 -0.56824219  1.40564934]\n",
      "1.0403855981990093\n",
      "3.6004567530334812 \n",
      "\n",
      "mh Rmt [ 0.24119448  2.46532915 66.86817925]\n",
      "[-0.74279367 -0.67080908  1.41360275]\n",
      "2.46532915398591\n",
      "30.897373091630588 \n",
      "\n",
      "mh Rnox [18.35109732 18.89825179 38.09014879]\n",
      "[-0.7367026  -0.67709213  1.41379473]\n",
      "18.898251789247563\n",
      "9.178830966010231 \n",
      "\n",
      "mh h [1.16666667 1.16666667 1.16666667]\n",
      "[-1.30337472  0.17638721  1.12698798]\n",
      "1.1666666673613026\n",
      "4.694242461219928e-10 \n",
      "\n",
      "mh mh [1.]\n",
      "[nan]\n",
      "1.0\n",
      "0.0 \n",
      "\n"
     ]
    },
    {
     "name": "stderr",
     "output_type": "stream",
     "text": [
      "/home/madeline/anaconda2/lib/python2.7/site-packages/ipykernel_launcher.py:5: RuntimeWarning: invalid value encountered in divide\n",
      "  \"\"\"\n"
     ]
    }
   ],
   "source": [
    "labs={0:'u',1:'mz',2:'Z',3:'ms',4:'u3',5:'S',10:'mh',9:'h',8:'Rnox',7:'Rmt',6:'A'}\n",
    "for k1 in [A,Rmt,Rnox,h,mh]:\n",
    "    for k2 in [A,Rmt,Rnox,h,mh]:\n",
    "        print labs[k1],labs[k2],np.unique(reduced[:,k1]/reduced[:,k2])\n",
    "        print (np.unique(reduced[:,k1]/reduced[:,k2])-np.mean((reduced[:,k1]/reduced[:,k2])))/np.std(reduced[:,k1]/reduced[:,k2])\n",
    "        print np.median(np.unique(reduced[:,k1]/reduced[:,k2]))\n",
    "        print np.std(np.unique(reduced[:,k1]/reduced[:,k2])),'\\n'\n"
   ]
  },
  {
   "cell_type": "code",
   "execution_count": 9,
   "metadata": {},
   "outputs": [
    {
     "name": "stdout",
     "output_type": "stream",
     "text": [
      "u ms [ 2.80395247 27.0233004  41.65334019]\n",
      "[-1.31225578  0.19952239  1.11273339]\n",
      "27.023300396059\n",
      "16.020437655995078 \n",
      "\n",
      "mz S [0.00031639 0.00153315 0.00415559]\n",
      "[-1.05201968 -0.29248936  1.34450904]\n",
      "0.001533148050910024\n",
      "0.0016019837697168924 \n",
      "\n",
      "Z u3 [ 0.35125416  2.69189964 90.76976951]\n",
      "[-0.73473443 -0.6791145   1.41384893]\n",
      "2.6918996442126066\n",
      "42.0828517438979 \n",
      "\n"
     ]
    }
   ],
   "source": [
    "u,ms\n",
    "mz,S\n",
    "u3,Z\n",
    "\n",
    "k1,k2=u,ms\n",
    "print labs[k1],labs[k2],np.unique(reduced[:,k1]/reduced[:,k2])\n",
    "print (np.unique(reduced[:,k1]/reduced[:,k2])-np.mean((reduced[:,k1]/reduced[:,k2])))/np.std(reduced[:,k1]/reduced[:,k2])\n",
    "print np.median(np.unique(reduced[:,k1]/reduced[:,k2]))\n",
    "print np.std(np.unique(reduced[:,k1]/reduced[:,k2])),'\\n'\n",
    "\n",
    "k1,k2=mz,S\n",
    "print labs[k1],labs[k2],np.unique(reduced[:,k1]/reduced[:,k2])\n",
    "print (np.unique(reduced[:,k1]/reduced[:,k2])-np.mean((reduced[:,k1]/reduced[:,k2])))/np.std(reduced[:,k1]/reduced[:,k2])\n",
    "print np.median(np.unique(reduced[:,k1]/reduced[:,k2]))\n",
    "print np.std(np.unique(reduced[:,k1]/reduced[:,k2])),'\\n'\n",
    "\n",
    "k1,k2=Z,u3\n",
    "print labs[k1],labs[k2],np.unique(reduced[:,k1]/reduced[:,k2])\n",
    "print (np.unique(reduced[:,k1]/reduced[:,k2])-np.mean((reduced[:,k1]/reduced[:,k2])))/np.std(reduced[:,k1]/reduced[:,k2])\n",
    "print np.median(np.unique(reduced[:,k1]/reduced[:,k2]))\n",
    "print np.std(np.unique(reduced[:,k1]/reduced[:,k2])),'\\n'"
   ]
  },
  {
   "cell_type": "code",
   "execution_count": 10,
   "metadata": {},
   "outputs": [
    {
     "name": "stdout",
     "output_type": "stream",
     "text": [
      "Rmt Rnox [ 0.27443692 15.45032992 78.35275439]\n",
      "[-0.91960924 -0.47064641  1.39025566]\n",
      "15.450329918106291\n",
      "33.80211431660022 \n",
      "\n",
      "h A [0.06108752 0.89175908 6.98339715]\n",
      "[-0.83740716 -0.56824219  1.40564934]\n",
      "0.8917590832985378\n",
      "3.0861057865313923 \n",
      "\n"
     ]
    }
   ],
   "source": [
    "\n",
    "k1,k2=Rmt,Rnox\n",
    "print labs[k1],labs[k2],np.unique(reduced[:,k1]/reduced[:,k2])\n",
    "print (np.unique(reduced[:,k1]/reduced[:,k2])-np.mean((reduced[:,k1]/reduced[:,k2])))/np.std(reduced[:,k1]/reduced[:,k2])\n",
    "print np.median(np.unique(reduced[:,k1]/reduced[:,k2]))\n",
    "print np.std(np.unique(reduced[:,k1]/reduced[:,k2])),'\\n'\n",
    "\n",
    "k1,k2=h,A\n",
    "print labs[k1],labs[k2],np.unique(reduced[:,k1]/reduced[:,k2])\n",
    "print (np.unique(reduced[:,k1]/reduced[:,k2])-np.mean((reduced[:,k1]/reduced[:,k2])))/np.std(reduced[:,k1]/reduced[:,k2])\n",
    "print np.median(np.unique(reduced[:,k1]/reduced[:,k2]))\n",
    "print np.std(np.unique(reduced[:,k1]/reduced[:,k2])),'\\n'\n"
   ]
  },
  {
   "cell_type": "code",
   "execution_count": 11,
   "metadata": {},
   "outputs": [
    {
     "name": "stdout",
     "output_type": "stream",
     "text": [
      "Rmt Rnox [  0.47422581  12.57991261  12.58576473  19.77698594 113.8572522 ]\n",
      "[-0.75674885 -0.46481805 -0.46467692 -0.29125933  1.97750315]\n",
      "h A [0.05702773 0.9992748  3.07949986 3.10027744 6.28670738]\n",
      "[-1.23317444 -0.79429174  0.17464182  0.18431966  1.6685047 ]\n",
      "Z u3 [ 0.35125416  2.69189964 90.76976951]\n",
      "[-1.25133263 -1.19780619  0.81637961]\n",
      "mz S [0.00031639 0.00153315 0.00415559]\n",
      "[-1.56358063 -0.81658761  0.79338941]\n",
      "u ms [ 2.80395247 27.0233004  41.65334019]\n",
      "[-0.78217553  0.71966061  1.62686598]\n"
     ]
    }
   ],
   "source": [
    "df = pd.read_csv(\"../coupledWReg_Ccode/singles/crosstalk_u3m/EMT_MR_comp_u3m_0_000_1000_res.txt\")\n",
    "\n",
    "arr= np.unique(df,axis=0)\n",
    "\n",
    "k1,k2=Rmt,Rnox\n",
    "print labs[k1],labs[k2],np.unique(arr[:,k1]/arr[:,k2])\n",
    "print (np.unique(arr[:,k1]/arr[:,k2])-np.mean((arr[:,k1]/arr[:,k2])))/np.std(arr[:,k1]/arr[:,k2])\n",
    "k1,k2=h,A\n",
    "print labs[k1],labs[k2],np.unique(arr[:,k1]/arr[:,k2])\n",
    "print (np.unique(arr[:,k1]/arr[:,k2])-np.mean((arr[:,k1]/arr[:,k2])))/np.std(arr[:,k1]/arr[:,k2])\n",
    "k1,k2=Z,u3\n",
    "print labs[k1],labs[k2],np.unique(arr[:,k1]/arr[:,k2])\n",
    "print (np.unique(arr[:,k1]/arr[:,k2])-np.mean((arr[:,k1]/arr[:,k2])))/np.std(arr[:,k1]/arr[:,k2])\n",
    "k1,k2=mz,S\n",
    "print labs[k1],labs[k2],np.unique(arr[:,k1]/arr[:,k2])\n",
    "print (np.unique(arr[:,k1]/arr[:,k2])-np.mean((arr[:,k1]/arr[:,k2])))/np.std(arr[:,k1]/arr[:,k2])\n",
    "k1,k2=u,ms\n",
    "print labs[k1],labs[k2],np.unique(arr[:,k1]/arr[:,k2])\n",
    "print (np.unique(arr[:,k1]/arr[:,k2])-np.mean((arr[:,k1]/arr[:,k2])))/np.std(arr[:,k1]/arr[:,k2])\n"
   ]
  },
  {
   "cell_type": "code",
   "execution_count": 12,
   "metadata": {},
   "outputs": [],
   "source": [
    "og = pd.read_csv(\"../coupledWReg_Ccode/crosstalk_comparison/EMT_MR_comp_0_1000_res.txt\")\n",
    "red_og_emt = np.unique(og.values[:,:6],axis=0)\n",
    "red_og_mr = np.unique(og.values[:,6:],axis=0)\n",
    "\n",
    "uvals = og['u'].values\n",
    "emtStates = []\n",
    "for i in range(len(red_og_emt)):\n",
    "    if red_og_emt[i,0]==np.min(uvals):\n",
    "        emtStates+=['M']\n",
    "    elif red_og_emt[i,0]==np.max(uvals):\n",
    "        emtStates+=['E']\n",
    "    else:\n",
    "        emtStates+=['EM']\n",
    "        \n",
    "hvals = og['h'].values\n",
    "mrStates=[]\n",
    "for i in range(len(red_og_mr)):\n",
    "    if red_og_mr[i,3]==np.min(hvals):\n",
    "        mrStates+=['O']\n",
    "    elif red_og_mr[i,3]==np.max(hvals):\n",
    "        mrStates+=['W']\n",
    "    else:\n",
    "        mrStates+=['WO']\n",
    "        \n",
    "        \n",
    "ratios_emt=[]\n",
    "ratios_mr=[]\n",
    "emt_ksets=[[u,mz],[mz,u],[u,ms],[u3,ms],[u3,mz],[S,Z]]\n",
    "for i in range(len(red_og_emt)):\n",
    "    ratios_emt+=[[]]\n",
    "    for [k1,k2] in emt_ksets:\n",
    "        ratios_emt[i] =[(red_og_emt[i][k1-6]/red_og_emt[i][k2-6]-np.mean(og.values[:,k1]/og.values[:,k2])/np.std(og.values[:,k1]/og.values[:,k2]))]\n",
    "\n",
    "mr_ksets=[[A,Rnox],[A,Rmt],[h,Rnox],[h,Rmt],[A,h],[h,A]]\n",
    "for i in range(len(red_og_mr)):\n",
    "    ratios_mr+=[[]]\n",
    "    for [k1,k2] in mr_ksets:\n",
    "        ratios_mr[i] =[(red_og_mr[i][k1-6]/red_og_mr[i][k2-6]-np.mean(og.values[:,k1]/og.values[:,k2])/np.std(og.values[:,k1]/og.values[:,k2]))]\n",
    "\n",
    "    \n",
    "ratios_emt = np.array(ratios_emt)\n",
    "ratios_mr = np.array(ratios_mr)"
   ]
  },
  {
   "cell_type": "code",
   "execution_count": 13,
   "metadata": {},
   "outputs": [
    {
     "name": "stdout",
     "output_type": "stream",
     "text": [
      "['W', 'WO', 'O']\n",
      "[[ 68.715505   8.372377  30.507473 479.867662 559.845606]\n",
      " [327.638356 138.265605   8.949039 292.17448  340.870227]\n",
      " [436.489801 128.975137   1.646083  26.664078  31.108091]]\n",
      "['M', 'EM', 'E']\n",
      "[[1.26501455e+03 9.90401024e+02 7.42309633e+05 4.51154065e+02\n",
      "  8.17793894e+03 2.38329655e+05]\n",
      " [1.23892176e+04 3.01843678e+02 4.55163019e+04 4.58464267e+02\n",
      "  1.69086177e+04 1.96878363e+05]\n",
      " [1.90985380e+04 6.22060720e+01 5.96897567e+03 4.58511561e+02\n",
      "  1.69933237e+04 1.96610268e+05]]\n"
     ]
    }
   ],
   "source": [
    "print mrStates\n",
    "print red_og_mr\n",
    "print emtStates\n",
    "print red_og_emt"
   ]
  },
  {
   "cell_type": "code",
   "execution_count": 14,
   "metadata": {},
   "outputs": [],
   "source": [
    "df = pd.read_csv(\"../coupledWReg_Ccode/singles/crosstalk_u3m/EMT_MR_comp_u3m_0_000_1000_res.txt\")\n",
    "\n",
    "mean_emt = [np.mean(df.values[:,u]/df.values[:,ms]),np.mean(df.values[:,mz]/df.values[:,S]),np.mean(df.values[:,Z]/df.values[:,u3])]\n",
    "std_emt = [np.std(df.values[:,u]/df.values[:,ms]),np.std(df.values[:,mz]/df.values[:,S]),np.std(df.values[:,Z]/df.values[:,u3])]\n",
    "mean_mr = [np.mean(df.values[:,Rmt]/df.values[:,Rnox]),np.mean(df.values[:,h]/df.values[:,A])]\n",
    "std_mr = [np.std(df.values[:,Rmt]/df.values[:,Rnox]),]"
   ]
  },
  {
   "cell_type": "code",
   "execution_count": null,
   "metadata": {},
   "outputs": [],
   "source": []
  },
  {
   "cell_type": "code",
   "execution_count": 15,
   "metadata": {},
   "outputs": [
    {
     "ename": "NameError",
     "evalue": "name 'tmp_emt' is not defined",
     "output_type": "error",
     "traceback": [
      "\u001b[0;31m---------------------------------------------------------------------------\u001b[0m",
      "\u001b[0;31mNameError\u001b[0m                                 Traceback (most recent call last)",
      "\u001b[0;32m<ipython-input-15-926b4410d4af>\u001b[0m in \u001b[0;36m<module>\u001b[0;34m()\u001b[0m\n\u001b[1;32m      7\u001b[0m \u001b[0mstates\u001b[0m\u001b[0;34m=\u001b[0m\u001b[0;34m[\u001b[0m\u001b[0;34m]\u001b[0m\u001b[0;34m\u001b[0m\u001b[0m\n\u001b[1;32m      8\u001b[0m \u001b[0;32mfor\u001b[0m \u001b[0mi\u001b[0m \u001b[0;32min\u001b[0m \u001b[0mrange\u001b[0m\u001b[0;34m(\u001b[0m\u001b[0mlen\u001b[0m\u001b[0;34m(\u001b[0m\u001b[0mdf\u001b[0m\u001b[0;34m)\u001b[0m\u001b[0;34m)\u001b[0m\u001b[0;34m:\u001b[0m\u001b[0;34m\u001b[0m\u001b[0m\n\u001b[0;32m----> 9\u001b[0;31m     \u001b[0mtmp_emt\u001b[0m\u001b[0;34m\u001b[0m\u001b[0m\n\u001b[0m\u001b[1;32m     10\u001b[0m     \u001b[0;32mfor\u001b[0m \u001b[0;34m[\u001b[0m\u001b[0mk1\u001b[0m\u001b[0;34m,\u001b[0m\u001b[0mk2\u001b[0m\u001b[0;34m]\u001b[0m \u001b[0;32min\u001b[0m \u001b[0memt_ksets\u001b[0m\u001b[0;34m:\u001b[0m\u001b[0;34m\u001b[0m\u001b[0m\n\u001b[1;32m     11\u001b[0m         \u001b[0mtmp_emt\u001b[0m\u001b[0;34m+=\u001b[0m\u001b[0;34m[\u001b[0m\u001b[0;34m(\u001b[0m\u001b[0mdf\u001b[0m\u001b[0;34m.\u001b[0m\u001b[0mvalues\u001b[0m\u001b[0;34m[\u001b[0m\u001b[0mi\u001b[0m\u001b[0;34m,\u001b[0m\u001b[0mk1\u001b[0m\u001b[0;34m]\u001b[0m\u001b[0;34m/\u001b[0m\u001b[0mdf\u001b[0m\u001b[0;34m.\u001b[0m\u001b[0mvalues\u001b[0m\u001b[0;34m[\u001b[0m\u001b[0mi\u001b[0m\u001b[0;34m,\u001b[0m\u001b[0mk2\u001b[0m\u001b[0;34m]\u001b[0m\u001b[0;34m-\u001b[0m\u001b[0mnp\u001b[0m\u001b[0;34m.\u001b[0m\u001b[0mmean\u001b[0m\u001b[0;34m(\u001b[0m\u001b[0mdf\u001b[0m\u001b[0;34m.\u001b[0m\u001b[0mvalues\u001b[0m\u001b[0;34m[\u001b[0m\u001b[0;34m:\u001b[0m\u001b[0;34m,\u001b[0m\u001b[0mk1\u001b[0m\u001b[0;34m]\u001b[0m\u001b[0;34m/\u001b[0m\u001b[0mdf\u001b[0m\u001b[0;34m.\u001b[0m\u001b[0mvalues\u001b[0m\u001b[0;34m[\u001b[0m\u001b[0;34m:\u001b[0m\u001b[0;34m,\u001b[0m\u001b[0mk2\u001b[0m\u001b[0;34m]\u001b[0m\u001b[0;34m)\u001b[0m\u001b[0;34m)\u001b[0m\u001b[0;34m/\u001b[0m\u001b[0mnp\u001b[0m\u001b[0;34m.\u001b[0m\u001b[0mstd\u001b[0m\u001b[0;34m(\u001b[0m\u001b[0mdf\u001b[0m\u001b[0;34m.\u001b[0m\u001b[0mvalues\u001b[0m\u001b[0;34m[\u001b[0m\u001b[0;34m:\u001b[0m\u001b[0;34m,\u001b[0m\u001b[0mk1\u001b[0m\u001b[0;34m]\u001b[0m\u001b[0;34m/\u001b[0m\u001b[0mdf\u001b[0m\u001b[0;34m.\u001b[0m\u001b[0mvalues\u001b[0m\u001b[0;34m[\u001b[0m\u001b[0;34m:\u001b[0m\u001b[0;34m,\u001b[0m\u001b[0mk2\u001b[0m\u001b[0;34m]\u001b[0m\u001b[0;34m)\u001b[0m\u001b[0;34m]\u001b[0m\u001b[0;34m\u001b[0m\u001b[0m\n",
      "\u001b[0;31mNameError\u001b[0m: name 'tmp_emt' is not defined"
     ]
    }
   ],
   "source": [
    "results={'E/O':0,'E/WO':0,'E/W':0,\n",
    "             'M/O':0,'M/WO':0,'M/W':0,\n",
    "             'EM/O':0,'EM/WO':0,'EM/W':0,\n",
    "             'E':0,'EM':0,'M':0,\n",
    "             'O':0,'WO':0,'W':0}\n",
    "\n",
    "states=[]\n",
    "for i in range(len(df)):\n",
    "    tmp_emt\n",
    "    for [k1,k2] in emt_ksets:\n",
    "        tmp_emt+=[(df.values[i,k1]/df.values[i,k2]-np.mean(df.values[:,k1]/df.values[:,k2]))/np.std(df.values[:,k1]/df.values[:,k2])]\n",
    "    tmp_mr=[]\n",
    "    for [k1,k2] in mr_ksets:\n",
    "        tmp_mr+=[(df.values[i,k1]/df.values[i,k2]-np.mean(df.values[:,k1]/df.values[:,k2]))/np.std(df.values[:,k1]/df.values[:,k2])]\n",
    "            \n",
    "    tmp_mr=np.array(tmp_mr)\n",
    "    tmp_emt=np.array(tmp_emt)\n",
    "    \n",
    "    d_emt = np.sum((tmp_emt-ratios_emt)**2,axis=1)\n",
    "    loc_emt = np.argwhere(np.min(d_emt)==d_emt)[:,0][0]\n",
    "    #print emtStates[loc_emt]\n",
    "    \n",
    "    d_mr = np.sum((tmp_mr-ratios_mr)**2,axis=1)\n",
    "    print tmp_mr\n",
    "    loc_mr = np.argwhere(np.min(d_mr)==d_mr)[:,0][0]\n",
    "    #print mrStates[loc_mr]\n",
    "    \n",
    "    states+=[mrStates[loc_mr]]\n",
    "    results[emtStates[loc_emt]+\"/\"+mrStates[loc_mr]]+=1\n"
   ]
  },
  {
   "cell_type": "code",
   "execution_count": null,
   "metadata": {},
   "outputs": [],
   "source": [
    "results"
   ]
  },
  {
   "cell_type": "code",
   "execution_count": null,
   "metadata": {},
   "outputs": [],
   "source": [
    "ratios_mr"
   ]
  },
  {
   "cell_type": "code",
   "execution_count": null,
   "metadata": {
    "scrolled": true
   },
   "outputs": [],
   "source": [
    "## u,ms         mz, S             Z,u3\n",
    "## Rmt, Rnox       h,A\n",
    "\n",
    "plt.plot(og.values[:,u]/og.values[:,ms],'ro',markersize=22)\n",
    "plt.plot(df.values[:,u]/df.values[:,ms],'*')\n",
    "plt.show()\n",
    "\n",
    "plt.plot(og.values[:,mz]/og.values[:,S],'r*',markersize=22)\n",
    "plt.plot(df.values[:,mz]/df.values[:,S],'*')\n",
    "plt.show()\n",
    "plt.plot(og.values[:,Z]/og.values[:,u3],'r*',markersize=22)\n",
    "plt.plot(df.values[:,Z]/df.values[:,u3],'*')\n",
    "plt.show()\n",
    "plt.plot(og.values[:,Rmt]/og.values[:,Rnox],'r*',markersize=22)\n",
    "plt.plot(df.values[:,Rmt]/df.values[:,Rnox],'*')\n",
    "plt.show()\n",
    "plt.plot(og.values[:,h]/og.values[:,A],'r*',markersize=22)\n",
    "plt.plot(df.values[:,h]/df.values[:,A],'*')\n",
    "plt.show()"
   ]
  },
  {
   "cell_type": "code",
   "execution_count": null,
   "metadata": {
    "scrolled": true
   },
   "outputs": [],
   "source": [
    "## u,ms         mz, S             Z,u3\n",
    "## Rmt, Rnox       h,A\n",
    "\n",
    "plt.plot((og.values[:,u]/og.values[:,ms]-np.mean(og.values[:,u]/og.values[:,ms]))/np.std(og.values[:,u]/og.values[:,ms]),'ro',markersize=22)\n",
    "plt.plot((df.values[:,u]/df.values[:,ms]-np.mean(df.values[:,u]/df.values[:,ms]))/np.std(df.values[:,u]/df.values[:,ms]),'*')\n",
    "plt.show()\n",
    "\n",
    "plt.plot((og.values[:,mz]/og.values[:,S]-np.mean(og.values[:,mz]/og.values[:,S]))/np.std(og.values[:,mz]/og.values[:,S]),'r*',markersize=22)\n",
    "plt.plot((df.values[:,mz]/df.values[:,S]-np.mean(df.values[:,mz]/df.values[:,S]))/np.std(df.values[:,mz]/df.values[:,S]),'*')\n",
    "plt.show()\n",
    "plt.plot((og.values[:,Z]/og.values[:,u3]-np.mean(og.values[:,Z]/og.values[:,u3]))/np.std(og.values[:,Z]/og.values[:,u3]),'r*',markersize=22)\n",
    "plt.plot((df.values[:,Z]/df.values[:,u3]-np.mean(df.values[:,Z]/df.values[:,u3]))/np.std(df.values[:,Z]/df.values[:,u3]),'*')\n",
    "plt.show()\n",
    "plt.plot((og.values[:,Rmt]/og.values[:,Rnox]-np.mean(og.values[:,Rmt]/og.values[:,Rnox]))/np.std(og.values[:,Rmt]/og.values[:,Rnox]),'r*',markersize=22)\n",
    "plt.plot((df.values[:,Rmt]/df.values[:,Rnox]-np.mean(df.values[:,Rmt]/df.values[:,Rnox]))/np.std(df.values[:,Rmt]/df.values[:,Rnox]),'*')\n",
    "plt.show()\n",
    "plt.plot((og.values[:,h]/og.values[:,A]-np.mean(og.values[:,h]/og.values[:,A]))/np.std(og.values[:,h]/og.values[:,A]),'r*',markersize=22)\n",
    "plt.plot((df.values[:,h]/df.values[:,A]-np.mean(df.values[:,h]/df.values[:,A]))/np.std(df.values[:,h]/df.values[:,A]),'*')\n",
    "plt.show()"
   ]
  },
  {
   "cell_type": "code",
   "execution_count": null,
   "metadata": {
    "scrolled": false
   },
   "outputs": [],
   "source": [
    "df = pd.read_csv(\"../coupledWReg_Ccode/singles/crosstalk_u3m/EMT_MR_comp_u3m_0_600_1000_res.txt\")\n",
    "for k1 in [A,h]:\n",
    "    for k2 in [Rmt,Rnox,A]:\n",
    "        plt.title(labs[k1]+\" \"+labs[k2])\n",
    "        plt.plot((og.values[:,k1]/og.values[:,k2]-np.mean(og.values[:,k1]/og.values[:,k2]))/np.std(og.values[:,k1]/og.values[:,k2]),'ro',markersize=10)\n",
    "        plt.plot((df.values[:,k1]/df.values[:,k2]-np.mean(df.values[:,k1]/df.values[:,k2]))/np.std(df.values[:,k1]/df.values[:,k2]),'o')\n",
    "        plt.show()"
   ]
  },
  {
   "cell_type": "code",
   "execution_count": null,
   "metadata": {},
   "outputs": [],
   "source": [
    "for key in df.columns:\n",
    "    plt.plot(og[key],'ro',markersize=22)\n",
    "    plt.plot(df[key],'*')\n",
    "    plt.title(key)\n",
    "    plt.show()"
   ]
  },
  {
   "cell_type": "code",
   "execution_count": null,
   "metadata": {},
   "outputs": [],
   "source": []
  },
  {
   "cell_type": "code",
   "execution_count": null,
   "metadata": {},
   "outputs": [],
   "source": [
    "df = pd.read_csv(\"../coupledWReg_Ccode/singles/crosstalk_u3m/EMT_MR_comp_u3m_0_000_1000_res.txt\")\n",
    "\n",
    "mean_emt = [np.mean(df.values[:,u]/df.values[:,ms]),np.mean(df.values[:,mz]/df.values[:,S]),np.mean(df.values[:,Z]/df.values[:,u3])]\n",
    "std_emt = [np.std(df.values[:,u]/df.values[:,ms]),np.std(df.values[:,mz]/df.values[:,S]),np.std(df.values[:,Z]/df.values[:,u3])]\n",
    "mean_mr = [np.mean(df.values[:,Rmt]/df.values[:,Rnox]),np.mean(df.values[:,h]/df.values[:,A])]\n",
    "std_mr = [np.std(df.values[:,Rmt]/df.values[:,Rnox]),np.std(df.values[:,h]/df.values[:,A])]"
   ]
  },
  {
   "cell_type": "code",
   "execution_count": null,
   "metadata": {},
   "outputs": [],
   "source": []
  },
  {
   "cell_type": "markdown",
   "metadata": {},
   "source": [
    "## Entropy?? - choose lowest entropy?\n"
   ]
  },
  {
   "cell_type": "code",
   "execution_count": null,
   "metadata": {},
   "outputs": [],
   "source": [
    "og = pd.read_csv(\"../coupledWReg_Ccode/crosstalk_comparison/EMT_MR_comp_0_1000_res.txt\")\n",
    "red_og_emt = np.unique(og.values[:,:6],axis=0)\n",
    "red_og_mr = np.unique(og.values[:,6:],axis=0)\n",
    "\n",
    "uvals = og['u'].values\n",
    "emtStates = []\n",
    "for i in range(len(red_og_emt)):\n",
    "    if red_og_emt[i,0]==np.min(uvals):\n",
    "        emtStates+=['M']\n",
    "    elif red_og_emt[i,0]==np.max(uvals):\n",
    "        emtStates+=['E']\n",
    "    else:\n",
    "        emtStates+=['EM']\n",
    "        \n",
    "hvals = og['h'].values\n",
    "mrStates=[]\n",
    "for i in range(len(red_og_mr)):\n",
    "    if red_og_mr[i,3]==np.min(hvals):\n",
    "        mrStates+=['O']\n",
    "    elif red_og_mr[i,3]==np.max(hvals):\n",
    "        mrStates+=['W']\n",
    "    else:\n",
    "        mrStates+=['WO']\n",
    "        \n",
    "      "
   ]
  },
  {
   "cell_type": "code",
   "execution_count": null,
   "metadata": {},
   "outputs": [],
   "source": [
    "uniques = np.unique(og.values,axis=0)\n",
    "print uniques[:,u]\n",
    "print uniques[:,h]\n",
    "states=['M/W','M/WO','M/O','EM/W','EM/WO','EM/O','E/W','E/WO','E/O']"
   ]
  },
  {
   "cell_type": "code",
   "execution_count": null,
   "metadata": {},
   "outputs": [],
   "source": [
    "for el in ['900','800','600','200','000']:\n",
    "    df = pd.read_csv(\"../coupledWReg_Ccode/singles/crosstalk_u3n/EMT_MR_comp_u3n_0_\"+el+\"_1000_res.txt\")\n",
    "\n",
    "    results={'E/O':0,'E/WO':0,'E/W':0,\n",
    "                 'M/O':0,'M/WO':0,'M/W':0,\n",
    "                 'EM/O':0,'EM/WO':0,'EM/W':0}\n",
    "\n",
    "    for i in range(len(df)):\n",
    "        #print df['u'].values[i], df['h'].values[i]\n",
    "        tmpS =[]\n",
    "        for k in range(len(uniques)):\n",
    "            tmp=0\n",
    "            for j in range(len(df.columns)):\n",
    "                prob=df.values[i,j]/uniques[k,j]\n",
    "                tmp+=np.log10(prob)**2\n",
    "            tmpS+=[tmp]\n",
    "            #print tmp\n",
    "        loc = np.argwhere(np.min(tmpS)==tmpS)[:,0]\n",
    "        #print states[loc[0]],'\\n'\n",
    "        results[states[loc[0]]]+=1\n",
    "\n",
    "    print results"
   ]
  },
  {
   "cell_type": "code",
   "execution_count": null,
   "metadata": {},
   "outputs": [],
   "source": [
    "for el in ['900','800','600','200','000']:\n",
    "    df = pd.read_csv(\"../coupledWReg_Ccode/singles/crosstalk_HS/EMT_MR_comp_HS_1_00_1000_res.txt\")\n",
    "\n",
    "    results={'E/O':0,'E/WO':0,'E/W':0,\n",
    "                 'M/O':0,'M/WO':0,'M/W':0,\n",
    "                 'EM/O':0,'EM/WO':0,'EM/W':0}\n",
    "\n",
    "    for i in range(len(df)):\n",
    "        #print df['u'].values[i], df['h'].values[i]\n",
    "        tmpS =[]\n",
    "        for k in range(len(uniques)):\n",
    "            tmp=0\n",
    "            for j in range(len(df.columns)):\n",
    "                prob=df.values[i,j]/uniques[k,j]\n",
    "                tmp+=np.log10(prob)**2\n",
    "            tmpS+=[tmp]\n",
    "            #print tmp\n",
    "        loc = np.argwhere(np.min(tmpS)==tmpS)[:,0]\n",
    "        #print states[loc[0]],'\\n'\n",
    "        results[states[loc[0]]]+=1\n",
    "\n",
    "    print results"
   ]
  },
  {
   "cell_type": "code",
   "execution_count": null,
   "metadata": {},
   "outputs": [],
   "source": [
    "uniques = np.unique(og.values,axis=0)\n",
    "print uniques[:,u]\n",
    "print uniques[:,h]\n",
    "states=['M/W','M/WO','M/O','EM/W','EM/WO','EM/O','E/W','E/WO','E/O']"
   ]
  },
  {
   "cell_type": "code",
   "execution_count": null,
   "metadata": {},
   "outputs": [],
   "source": [
    "for el in [0]:\n",
    "    df = pd.read_csv(\"../coupledWReg_Ccode/crosstalk_comparison/EMT_MR_comp_0_1000_res.txt\")\n",
    "\n",
    "    results={'E/O':0,'E/WO':0,'E/W':0,\n",
    "                 'M/O':0,'M/WO':0,'M/W':0,\n",
    "                 'EM/O':0,'EM/WO':0,'EM/W':0,\n",
    "                'E':0,'EM':0,'M':0,'W':0,'WO':0,'O':0}\n",
    "\n",
    "    for i in range(len(df)):\n",
    "        #print df['u'].values[i], df['h'].values[i]\n",
    "        tmpS =[]\n",
    "        for k in range(len(uniques)):\n",
    "            tmp=0\n",
    "            for j in range(len(df.columns)):\n",
    "                prob=df.values[i,j]/uniques[k,j]\n",
    "                tmp+=np.log10(prob)**2\n",
    "            tmpS+=[tmp]\n",
    "            #print tmp\n",
    "        loc = np.argwhere(np.min(tmpS)==tmpS)[:,0]\n",
    "        #print states[loc[0]],'\\n'\n",
    "        results[states[loc[0]]]+=1\n",
    "        tmpA,tmpB  =states[loc[0]].split(\"/\")\n",
    "        results[tmpA]+=1\n",
    "        results[tmpB]+=1\n",
    "\n",
    "    print results"
   ]
  },
  {
   "cell_type": "code",
   "execution_count": null,
   "metadata": {},
   "outputs": [],
   "source": [
    "results_og={'E/O':0,'E/WO':0,'E/W':0,\n",
    "                 'M/O':0,'M/WO':0,'M/W':0,\n",
    "                 'EM/O':0,'EM/WO':0,'EM/W':0,\n",
    "                'E':0,'EM':0,'M':0,'W':0,'WO':0,'O':0}\n",
    "\n",
    "for i in range(len(og.values)):\n",
    "    \n",
    "    dist = np.sum((og.values[i]-uniques)**2,axis=1)\n",
    "    loc = np.argwhere(np.min(dist)==dist)[:,0][0]\n",
    "    results_og[states[loc]]+=1\n",
    "    tmpA,tmpB  =states[loc].split(\"/\")\n",
    "    results_og[tmpA]+=1\n",
    "    results_og[tmpB]+=1\n"
   ]
  },
  {
   "cell_type": "code",
   "execution_count": null,
   "metadata": {},
   "outputs": [],
   "source": [
    "results"
   ]
  },
  {
   "cell_type": "code",
   "execution_count": null,
   "metadata": {},
   "outputs": [],
   "source": [
    "results_og"
   ]
  },
  {
   "cell_type": "code",
   "execution_count": null,
   "metadata": {},
   "outputs": [],
   "source": [
    "for i in range(len(og)):\n",
    "        tmpS =[]\n",
    "        for k in range(len(uniques)):\n",
    "            tmp=0\n",
    "            for j in range(len(og.columns)):\n",
    "                prob=og.values[i,j]/uniques[k,j]\n",
    "                tmp+=np.log10(prob)**2\n",
    "            tmpS+=[tmp]\n",
    "            #print tmp\n",
    "        locI = np.argwhere(np.min(tmpS)==tmpS)[:,0][0]\n",
    "\n",
    "        dist = np.sum((og.values[i]-uniques)**2,axis=1)\n",
    "        locD = np.argwhere(np.min(dist)==dist)[:,0][0]\n",
    "\n",
    "        if locI!=locD:\n",
    "            print locI,locD"
   ]
  },
  {
   "cell_type": "code",
   "execution_count": null,
   "metadata": {},
   "outputs": [],
   "source": [
    "df = pd.read_csv(\"data/crosstalk_comparison.txt\")\n",
    "inds = np.argwhere(df['nics']==1000)[:,0]\n",
    "print df.columns[10:-1]\n",
    "print df.values[inds[4],10:-1]"
   ]
  },
  {
   "cell_type": "markdown",
   "metadata": {},
   "source": [
    "## Check entropy for \"all\""
   ]
  },
  {
   "cell_type": "code",
   "execution_count": null,
   "metadata": {},
   "outputs": [],
   "source": [
    "for el in range(10):\n",
    "    df = pd.read_csv(\"../coupledWReg_Ccode/singles/crosstalk_u3m/EMT_MR_comp_u3m_0_\"+str(el)+\"00_1000_res.txt\")\n",
    "\n",
    "    results={'E/O':0,'E/WO':0,'E/W':0,\n",
    "                 'M/O':0,'M/WO':0,'M/W':0,\n",
    "                 'EM/O':0,'EM/WO':0,'EM/W':0}\n",
    "\n",
    "    for i in range(len(df)):\n",
    "        tmpS =[]\n",
    "        for k in range(len(uniques)):\n",
    "            tmp=0\n",
    "            for j in range(len(df.columns)):\n",
    "                prob=df.values[i,j]/uniques[k,j]\n",
    "                tmp+=np.log10(prob)**2\n",
    "            tmpS+=[tmp]\n",
    "        loc = np.argwhere(np.min(tmpS)==tmpS)[:,0]\n",
    "        results[states[loc[0]]]+=1\n",
    "\n",
    "    print results"
   ]
  },
  {
   "cell_type": "code",
   "execution_count": null,
   "metadata": {},
   "outputs": [],
   "source": [
    "for el in range(10):\n",
    "    df = pd.read_csv(\"../coupledWReg_Ccode/singles/crosstalk_u3n/EMT_MR_comp_u3n_0_\"+str(el)+\"00_1000_res.txt\")\n",
    "\n",
    "    results={'E/O':0,'E/WO':0,'E/W':0,\n",
    "                 'M/O':0,'M/WO':0,'M/W':0,\n",
    "                 'EM/O':0,'EM/WO':0,'EM/W':0}\n",
    "\n",
    "    for i in range(len(df)):\n",
    "        tmpS =[]\n",
    "        for k in range(len(uniques)):\n",
    "            tmp=0\n",
    "            for j in range(len(df.columns)):\n",
    "                prob=df.values[i,j]/uniques[k,j]\n",
    "                tmp+=np.log10(prob)**2\n",
    "            tmpS+=[tmp]\n",
    "        loc = np.argwhere(np.min(tmpS)==tmpS)[:,0]\n",
    "        results[states[loc[0]]]+=1\n",
    "\n",
    "    print results\n",
    "    "
   ]
  },
  {
   "cell_type": "code",
   "execution_count": null,
   "metadata": {},
   "outputs": [],
   "source": [
    "for el in range(10):\n",
    "    df = pd.read_csv(\"../coupledWReg_Ccode/singles/crosstalk_iHu/EMT_MR_comp_Hu_0_\"+str(el)+\"00_1000_res.txt\")\n",
    "\n",
    "    results={'E/O':0,'E/WO':0,'E/W':0,\n",
    "                 'M/O':0,'M/WO':0,'M/W':0,\n",
    "                 'EM/O':0,'EM/WO':0,'EM/W':0}\n",
    "\n",
    "    for i in range(len(df)):\n",
    "        tmpS =[]\n",
    "        for k in range(len(uniques)):\n",
    "            tmp=0\n",
    "            for j in range(len(df.columns)):\n",
    "                prob=df.values[i,j]/uniques[k,j]\n",
    "                tmp+=np.log10(prob)**2\n",
    "            tmpS+=[tmp]\n",
    "        loc = np.argwhere(np.min(tmpS)==tmpS)[:,0]\n",
    "        results[states[loc[0]]]+=1\n",
    "\n",
    "    print results"
   ]
  },
  {
   "cell_type": "code",
   "execution_count": null,
   "metadata": {},
   "outputs": [],
   "source": [
    "for el in range(10):\n",
    "    df = pd.read_csv(\"../coupledWReg_Ccode/singles/crosstalk_AZ/EMT_MR_comp_AZ_0_\"+str(el)+\"0_1000_res.txt\")\n",
    "\n",
    "    results={'E/O':0,'E/WO':0,'E/W':0,\n",
    "                 'M/O':0,'M/WO':0,'M/W':0,\n",
    "                 'EM/O':0,'EM/WO':0,'EM/W':0}\n",
    "\n",
    "    for i in range(len(df)):\n",
    "        tmpS =[]\n",
    "        for k in range(len(uniques)):\n",
    "            tmp=0\n",
    "            for j in range(len(df.columns)):\n",
    "                prob=df.values[i,j]/uniques[k,j]\n",
    "                tmp+=np.log10(prob)**2\n",
    "            tmpS+=[tmp]\n",
    "        loc = np.argwhere(np.min(tmpS)==tmpS)[:,0]\n",
    "        results[states[loc[0]]]+=1\n",
    "\n",
    "    print results"
   ]
  },
  {
   "cell_type": "code",
   "execution_count": null,
   "metadata": {},
   "outputs": [],
   "source": [
    "for el in range(10):\n",
    "    df = pd.read_csv(\"../coupledWReg_Ccode/singles/crosstalk_AS/EMT_MR_comp_AS_0_\"+str(el)+\"0_1000_res.txt\")\n",
    "\n",
    "    results={'E/O':0,'E/WO':0,'E/W':0,\n",
    "                 'M/O':0,'M/WO':0,'M/W':0,\n",
    "                 'EM/O':0,'EM/WO':0,'EM/W':0}\n",
    "\n",
    "    for i in range(len(df)):\n",
    "        tmpS =[]\n",
    "        for k in range(len(uniques)):\n",
    "            tmp=0\n",
    "            for j in range(len(df.columns)):\n",
    "                prob=df.values[i,j]/uniques[k,j]\n",
    "                tmp+=np.log10(prob)**2\n",
    "            tmpS+=[tmp]\n",
    "        loc = np.argwhere(np.min(tmpS)==tmpS)[:,0]\n",
    "        results[states[loc[0]]]+=1\n",
    "\n",
    "    print results"
   ]
  },
  {
   "cell_type": "code",
   "execution_count": null,
   "metadata": {},
   "outputs": [],
   "source": [
    "for el in range(1,10):\n",
    "    df = pd.read_csv(\"../coupledWReg_Ccode/singles/crosstalk_Au/EMT_MR_comp_Au_\"+str(el)+\"_00_1000_res.txt\")\n",
    "\n",
    "    results={'E/O':0,'E/WO':0,'E/W':0,\n",
    "                 'M/O':0,'M/WO':0,'M/W':0,\n",
    "                 'EM/O':0,'EM/WO':0,'EM/W':0}\n",
    "\n",
    "    for i in range(len(df)):\n",
    "        tmpS =[]\n",
    "        for k in range(len(uniques)):\n",
    "            tmp=0\n",
    "            for j in range(len(df.columns)):\n",
    "                prob=df.values[i,j]/uniques[k,j]\n",
    "                tmp+=np.log10(prob)**2\n",
    "            tmpS+=[tmp]\n",
    "        loc = np.argwhere(np.min(tmpS)==tmpS)[:,0]\n",
    "        results[states[loc[0]]]+=1\n",
    "\n",
    "    print results"
   ]
  },
  {
   "cell_type": "code",
   "execution_count": null,
   "metadata": {},
   "outputs": [],
   "source": [
    "for el in range(1,10):\n",
    "    df = pd.read_csv(\"../coupledWReg_Ccode/singles/crosstalk_HS/EMT_MR_comp_HS_\"+str(el)+\"_00_1000_res.txt\")\n",
    "\n",
    "    results={'E/O':0,'E/WO':0,'E/W':0,\n",
    "                 'M/O':0,'M/WO':0,'M/W':0,\n",
    "                 'EM/O':0,'EM/WO':0,'EM/W':0}\n",
    "\n",
    "    for i in range(len(df)):\n",
    "        tmpS =[]\n",
    "        for k in range(len(uniques)):\n",
    "            tmp=0\n",
    "            for j in range(len(df.columns)):\n",
    "                prob=df.values[i,j]/uniques[k,j]\n",
    "                tmp+=np.log10(prob)**2\n",
    "            tmpS+=[tmp]\n",
    "        loc = np.argwhere(np.min(tmpS)==tmpS)[:,0]\n",
    "        results[states[loc[0]]]+=1\n",
    "\n",
    "    print results"
   ]
  },
  {
   "cell_type": "markdown",
   "metadata": {},
   "source": [
    "# Entropy vs info gain"
   ]
  },
  {
   "cell_type": "code",
   "execution_count": null,
   "metadata": {},
   "outputs": [],
   "source": [
    "og = pd.read_csv(\"../coupledWReg_Ccode/crosstalk_comparison/EMT_MR_comp_0_1000_res.txt\")\n",
    "red_og_emt = np.unique(og.values[:,:6],axis=0)\n",
    "red_og_mr = np.unique(og.values[:,6:],axis=0)\n",
    "u,mz,Z,ms,u3,S,A,Rmt,Rnox,h,mh=0,1,2,3,4,5,6,7,8,9,10\n",
    "\n",
    "uvals = og['u'].values\n",
    "emtStates = []\n",
    "for i in range(len(red_og_emt)):\n",
    "    if red_og_emt[i,0]==np.min(uvals):\n",
    "        emtStates+=['M']\n",
    "    elif red_og_emt[i,0]==np.max(uvals):\n",
    "        emtStates+=['E']\n",
    "    else:\n",
    "        emtStates+=['EM']\n",
    "        \n",
    "hvals = og['h'].values\n",
    "mrStates=[]\n",
    "for i in range(len(red_og_mr)):\n",
    "    if red_og_mr[i,3]==np.min(hvals):\n",
    "        mrStates+=['O']\n",
    "    elif red_og_mr[i,3]==np.max(hvals):\n",
    "        mrStates+=['W']\n",
    "    else:\n",
    "        mrStates+=['WO']\n",
    "        \n",
    "      "
   ]
  },
  {
   "cell_type": "code",
   "execution_count": null,
   "metadata": {},
   "outputs": [],
   "source": [
    "uniques = np.unique(og.values,axis=0)\n",
    "print uniques[:,u]\n",
    "print uniques[:,h]\n",
    "states=['M/W','M/WO','M/O','EM/W','EM/WO','EM/O','E/W','E/WO','E/O']"
   ]
  },
  {
   "cell_type": "code",
   "execution_count": null,
   "metadata": {},
   "outputs": [],
   "source": [
    "for el in ['900','800','600','200','000']:\n",
    "    df = pd.read_csv(\"../coupledWReg_Ccode/singles/crosstalk_u3n/EMT_MR_comp_u3n_0_\"+el+\"_1000_res.txt\")\n",
    "\n",
    "    results1={'E/O':0,'E/WO':0,'E/W':0, 'M/O':0,'M/WO':0,'M/W':0,'EM/O':0,'EM/WO':0,'EM/W':0}\n",
    "    results2={'E/O':0,'E/WO':0,'E/W':0, 'M/O':0,'M/WO':0,'M/W':0,'EM/O':0,'EM/WO':0,'EM/W':0}\n",
    "    results3={'E/O':0,'E/WO':0,'E/W':0, 'M/O':0,'M/WO':0,'M/W':0,'EM/O':0,'EM/WO':0,'EM/W':0}\n",
    "    results4={'E/O':0,'E/WO':0,'E/W':0, 'M/O':0,'M/WO':0,'M/W':0,'EM/O':0,'EM/WO':0,'EM/W':0}\n",
    "\n",
    "    for i in range(len(df)):\n",
    "        #print df['u'].values[i], df['h'].values[i]\n",
    "        tmpS =[]\n",
    "        tmpS2 =[]\n",
    "        tmpS3=[]\n",
    "        tmpS4=[]\n",
    "        for k in range(len(uniques)):\n",
    "            tmp=0\n",
    "            tmp2=0\n",
    "            tmp3=0\n",
    "            tmp4=0\n",
    "            for j in range(len(df.columns)):\n",
    "                prob=df.values[i,j]/uniques[k,j]\n",
    "                tmp+=np.log10(prob)**2\n",
    "                tmp3+=np.log10(prob)\n",
    "                tmp2+=prob*np.log10(prob)\n",
    "                tmp4+=prob*np.log10(prob)**2\n",
    "            tmpS+=[tmp]\n",
    "            tmpS2+=[np.abs(tmp2)]\n",
    "            tmpS3+=[np.abs(tmp3)]\n",
    "            tmpS4+=[tmp4]\n",
    "            #print tmp\n",
    "        loc1 = np.argwhere(np.min(tmpS)==tmpS)[:,0]\n",
    "        loc2 = np.argwhere(np.min(tmpS2)==tmpS2)[:,0]\n",
    "        loc3 = np.argwhere(np.min(tmpS3)==tmpS3)[:,0]\n",
    "        loc4 = np.argwhere(np.min(tmpS4)==tmpS4)[:,0]\n",
    "        #print states[loc[0]],'\\n'\n",
    "        results1[states[loc1[0]]]+=1\n",
    "        results2[states[loc2[0]]]+=1\n",
    "        results3[states[loc3[0]]]+=1\n",
    "        results4[states[loc4[0]]]+=1\n",
    "\n",
    "    print results1\n",
    "   # print results2    \n",
    "    #print results3    \n",
    "    print results4 ,'\\n'   "
   ]
  },
  {
   "cell_type": "code",
   "execution_count": null,
   "metadata": {},
   "outputs": [],
   "source": []
  },
  {
   "cell_type": "markdown",
   "metadata": {},
   "source": [
    "# Entropy vs info gain - on normalized states\n"
   ]
  },
  {
   "cell_type": "code",
   "execution_count": null,
   "metadata": {},
   "outputs": [],
   "source": [
    "og = pd.read_csv(\"../coupledWReg_Ccode/crosstalk_comparison/EMT_MR_comp_0_1000_res.txt\")\n",
    "red_og_emt = np.unique(og.values[:,:6],axis=0)\n",
    "red_og_mr = np.unique(og.values[:,6:],axis=0)\n",
    "u,mz,Z,ms,u3,S,A,Rmt,Rnox,h,mh=0,1,2,3,4,5,6,7,8,9,10\n",
    "\n",
    "uvals = og['u'].values\n",
    "emtStates = []\n",
    "for i in range(len(red_og_emt)):\n",
    "    if red_og_emt[i,0]==np.min(uvals):\n",
    "        emtStates+=['M']\n",
    "    elif red_og_emt[i,0]==np.max(uvals):\n",
    "        emtStates+=['E']\n",
    "    else:\n",
    "        emtStates+=['EM']\n",
    "        \n",
    "hvals = og['h'].values\n",
    "mrStates=[]\n",
    "for i in range(len(red_og_mr)):\n",
    "    if red_og_mr[i,3]==np.min(hvals):\n",
    "        mrStates+=['O']\n",
    "    elif red_og_mr[i,3]==np.max(hvals):\n",
    "        mrStates+=['W']\n",
    "    else:\n",
    "        mrStates+=['WO']\n",
    "        \n",
    "      "
   ]
  },
  {
   "cell_type": "code",
   "execution_count": null,
   "metadata": {},
   "outputs": [],
   "source": [
    "uniques = np.unique(og.values,axis=0)\n",
    "print uniques[:,u]\n",
    "print uniques[:,h]\n",
    "states=['M/W','M/WO','M/O','EM/W','EM/WO','EM/O','E/W','E/WO','E/O']\n",
    "\n",
    "mean_og = np.mean(og.values,axis=0)\n",
    "std_og = np.std(og.values,axis=0)"
   ]
  },
  {
   "cell_type": "code",
   "execution_count": null,
   "metadata": {},
   "outputs": [],
   "source": [
    "for el in ['900','800','600','200','000']:\n",
    "    df = pd.read_csv(\"../coupledWReg_Ccode/singles/crosstalk_u3n/EMT_MR_comp_u3n_0_\"+el+\"_1000_res.txt\")\n",
    "\n",
    "    results1={'E/O':0,'E/WO':0,'E/W':0, 'M/O':0,'M/WO':0,'M/W':0,'EM/O':0,'EM/WO':0,'EM/W':0}\n",
    "    results2={'E/O':0,'E/WO':0,'E/W':0, 'M/O':0,'M/WO':0,'M/W':0,'EM/O':0,'EM/WO':0,'EM/W':0}\n",
    "    results3={'E/O':0,'E/WO':0,'E/W':0, 'M/O':0,'M/WO':0,'M/W':0,'EM/O':0,'EM/WO':0,'EM/W':0}\n",
    "    results4={'E/O':0,'E/WO':0,'E/W':0, 'M/O':0,'M/WO':0,'M/W':0,'EM/O':0,'EM/WO':0,'EM/W':0}\n",
    "    results5={'E/O':0,'E/WO':0,'E/W':0, 'M/O':0,'M/WO':0,'M/W':0,'EM/O':0,'EM/WO':0,'EM/W':0}\n",
    "    \n",
    "    full_setp = np.append(df.values,og.values,axis=0)\n",
    "    mean_df = np.mean(full_setp,axis=0)\n",
    "    std_df = np.std(full_setp,axis=0)\n",
    "\n",
    "    for i in range(len(df)):\n",
    "        #print df['u'].values[i], df['h'].values[i]\n",
    "        tmpS =[]\n",
    "        tmpS2 =[]\n",
    "        tmpS3=[]\n",
    "        tmpS4=[]\n",
    "        tmpS5=[]\n",
    "        \n",
    "        for k in range(len(uniques)):\n",
    "            tmp=0\n",
    "            tmp2=0\n",
    "            tmp3=0\n",
    "            tmp4=0\n",
    "            tmp5=0\n",
    "            for j in range(len(df.columns)):\n",
    "                prob=((df.values[i,j]-mean_df)/std_df)/((uniques[k,j]-mean_og)/std_og)\n",
    "                prob2=((df.values[i,j]))/((uniques[k,j]))\n",
    "                #print prob\n",
    "                #tmp+=np.log10(prob)**2\n",
    "                #tmp3+=np.log10(prob)\n",
    "                #tmp2+=prob*np.log10(prob)\n",
    "                #tmp4+=prob*np.log10(prob)**2\n",
    "                tmp+=prob\n",
    "                tmp2+=prob**2\n",
    "                tmp3+=np.abs(prob)*np.log10(prob**2)\n",
    "                tmp4+=prob*np.log10(np.abs(prob))\n",
    "                tmp5+=np.log10(prob2)**2\n",
    "            tmpS+=[tmp]\n",
    "            tmpS2+=[np.abs(tmp2)]\n",
    "            tmpS3+=[np.abs(tmp3)]\n",
    "            tmpS4+=[tmp4]\n",
    "            tmpS5+=[tmp5]\n",
    "            #print tmp\n",
    "        loc1 = np.argwhere(np.min(tmpS)==tmpS)[:,0]\n",
    "        loc2 = np.argwhere(np.min(tmpS2)==tmpS2)[:,0]\n",
    "        loc3 = np.argwhere(np.min(tmpS3)==tmpS3)[:,0]\n",
    "        loc4 = np.argwhere(np.min(tmpS4)==tmpS4)[:,0]\n",
    "        loc5 = np.argwhere(np.min(tmpS5)==tmpS5)[:,0]\n",
    "        #print states[loc[0]],'\\n'\n",
    "        results1[states[loc1[0]]]+=1\n",
    "        results2[states[loc2[0]]]+=1\n",
    "        results3[states[loc3[0]]]+=1\n",
    "        results4[states[loc4[0]]]+=1\n",
    "        results5[states[loc5[0]]]+=1\n",
    "\n",
    "    print results1\n",
    "    print results2    \n",
    "    print results3    \n",
    "    print results4    \n",
    "    print results5 ,'\\n'   "
   ]
  },
  {
   "cell_type": "code",
   "execution_count": 6,
   "metadata": {},
   "outputs": [],
   "source": [
    "###################\n"
   ]
  },
  {
   "cell_type": "code",
   "execution_count": 33,
   "metadata": {},
   "outputs": [],
   "source": [
    "dfnoem = pd.read_csv(\"../normalCells_coupled/noPartialEMT/crosstalk_comparison/EMT_MR_comp_0_1000_res.txt\")\n",
    "dfnowo = pd.read_csv(\"../normalCells_coupled/normal_metabolic/crosstalk_comparison/EMT_MR_comp_0_1000_res.txt\")\n",
    "dfog = pd.read_csv(\"../coupledWReg_Ccode/crosstalk_comparison/EMT_MR_comp_0_1000_res.txt\")\n",
    "dfnohh = pd.read_csv(\"../normalCells_coupled/bothModified/crosstalk_comparison/EMT_MR_comp_0_1000_res.txt\")\n",
    "tmp = pd.read_csv(\"../normalCells_coupled/bothModified/crosstalk_Hu_u3m_input/EMT_MR_Hu_0_0_u3m_0_0_input_0_1000_res.txt\")"
   ]
  },
  {
   "cell_type": "code",
   "execution_count": 34,
   "metadata": {},
   "outputs": [
    {
     "name": "stdout",
     "output_type": "stream",
     "text": [
      "u [ 1557.823875 33948.268289]\n",
      "[5501.072522]\n",
      "[ 1265.014555 12389.217608 19098.53803 ]\n",
      "mz [ 100.758154 1673.108608]\n",
      "[149.117726]\n",
      "[ 62.206072 301.843678 990.401024]\n",
      "Z [   6359.333974 1177805.879679]\n",
      "[51167.306045]\n",
      "[  5968.97567   45516.30189  742309.632898]\n",
      "ms [447.195943 458.511449]\n",
      "[121.133997]\n",
      "[451.154065 458.464267 458.511561]\n",
      "u3 [ 5601.839277 16993.122321]\n",
      "[23427.569649]\n",
      "[ 8177.938943 16908.61767  16993.323703]\n",
      "S [196610.90323  259606.812165]\n",
      "[47333.534543]\n",
      "[196610.267902 196878.362674 238329.654592]\n",
      "A [ 79.079849 384.998313]\n",
      "[255.312321]\n",
      "[ 68.715505 327.638356 436.489801]\n",
      "Rmt [ 12.77508  104.151456]\n",
      "[531.060134]\n",
      "[  8.372377 128.975137 138.265605]\n",
      "Rnox [ 1.632091 23.62897 ]\n",
      "[31.191541]\n",
      "[ 1.646083  8.949039 30.507473]\n",
      "h [ 19.916108 327.834101]\n",
      "[904.57312]\n",
      "[ 26.664078 292.17448  479.867662]\n",
      "mh [ 29.210291 480.823349]\n",
      "[1326.707243]\n",
      "[ 31.108091 340.870227 559.845606]\n"
     ]
    }
   ],
   "source": [
    "for key in dfnoem:\n",
    "    print key,np.unique(dfnohh[key])\n",
    "    print np.unique(tmp[key])\n",
    "    #print np.unique(dfnowo[key])   \n",
    "    print np.unique(dfog[key])"
   ]
  },
  {
   "cell_type": "code",
   "execution_count": 40,
   "metadata": {},
   "outputs": [
    {
     "name": "stdout",
     "output_type": "stream",
     "text": [
      "578 422 415 585 0 0\n",
      "19 295 415 585 0\n",
      "578 422 394 138 0\n",
      "{'EM': 0, 'E': 1000, 'WO': 1000, 'M': 0, 'M/W': 0, 'EM/WO': 0, 'M/O': 0, 'O': 0, 'W': 0, 'M/WO': 0, 'EM/W': 0, 'E/O': 0, 'E/WO': 1000, 'EM/O': 0, 'E/W': 0}\n"
     ]
    }
   ],
   "source": [
    "hh= getStates(dfnohh)\n",
    "em= getStates(dfnoem)\n",
    "wo= getStates(dfnowo)\n",
    "\n",
    "print hh['E'],hh['M'],hh['W'],hh['O'],hh['WO'],hh['EM']\n",
    "print wo['E'],wo['M'],wo['W'],wo['O'],wo['WO']\n",
    "print em['E'],em['M'],em['W'],em['O'],em['EM']\n",
    "print getStates(tmp,noHH='noHH')"
   ]
  },
  {
   "cell_type": "code",
   "execution_count": 41,
   "metadata": {},
   "outputs": [],
   "source": [
    "res = pd.read_csv(\"data/noHH_crosstalk_Hu_u3m_input.txt\")"
   ]
  },
  {
   "cell_type": "code",
   "execution_count": 42,
   "metadata": {},
   "outputs": [],
   "source": [
    "inds = np.argwhere(res['INPUT']==0)[:,0]\n",
    "inds2 = np.argwhere(res['U3M']==0)[:,0]\n",
    "inds = np.intersect1d(inds,inds2)"
   ]
  },
  {
   "cell_type": "code",
   "execution_count": 43,
   "metadata": {
    "scrolled": false
   },
   "outputs": [
    {
     "name": "stdout",
     "output_type": "stream",
     "text": [
      "0.0 0.0 0.8 1000 0 0 0 0 1000\n",
      "0.0 0.0 0.9 1000 0 0 0 0 1000\n",
      "0.0 0.0 1.0 1000 0 0 0 0 1000\n",
      "0.0 0.0 0.5 1000 0 0 0 0 1000\n",
      "0.0 0.0 0.1 1000 0 0 0 0 1000\n",
      "0.0 0.0 0.4 1000 0 0 0 0 1000\n",
      "0.0 0.0 0.2 1000 0 0 0 0 1000\n",
      "0.0 0.0 0.0 0 1000 0 0 0 1000\n",
      "0.0 0.0 0.3 1000 0 0 0 0 1000\n",
      "0.0 0.0 0.7 1000 0 0 0 0 1000\n",
      "0.0 0.0 0.6 1000 0 0 0 0 1000\n"
     ]
    }
   ],
   "source": [
    "for i in range(len(inds)):\n",
    "    print res['INPUT'].values[inds[i]], res['U3M'].values[inds[i]],res['HU'].values[inds[i]],res['E'].values[inds[i]]    , res['EM'].values[inds[i]] , res['M'].values[inds[i]],   res['W'].values[inds[i]]  , res['O'].values[inds[i]] ,res['WO'].values[inds[i]]    "
   ]
  },
  {
   "cell_type": "code",
   "execution_count": null,
   "metadata": {},
   "outputs": [],
   "source": []
  }
 ],
 "metadata": {
  "kernelspec": {
   "display_name": "Python 3",
   "language": "python",
   "name": "python3"
  },
  "language_info": {
   "codemirror_mode": {
    "name": "ipython",
    "version": 2
   },
   "file_extension": ".py",
   "mimetype": "text/x-python",
   "name": "python",
   "nbconvert_exporter": "python",
   "pygments_lexer": "ipython2",
   "version": "2.7.17"
  }
 },
 "nbformat": 4,
 "nbformat_minor": 2
}
