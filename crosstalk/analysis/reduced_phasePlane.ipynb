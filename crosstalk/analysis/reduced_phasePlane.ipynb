{
 "cells": [
  {
   "cell_type": "code",
   "execution_count": 1,
   "metadata": {},
   "outputs": [],
   "source": [
    "import numpy as np\n",
    "import pandas as pd\n",
    "import matplotlib\n",
    "import matplotlib.pyplot as plt\n",
    "import matplotlib.gridspec as gridspec\n",
    "import matplotlib.font_manager\n",
    "import matplotlib.patches as mpatches\n",
    "from matplotlib.patches import Patch\n",
    "from matplotlib import cm\n",
    "from shapely import geometry\n",
    "from descartes import PolygonPatch\n",
    "\n",
    "from PIL import Image"
   ]
  },
  {
   "cell_type": "code",
   "execution_count": 2,
   "metadata": {},
   "outputs": [],
   "source": [
    "from aux_func_States import getLegend\n",
    "from aux_func_States import equals"
   ]
  },
  {
   "cell_type": "code",
   "execution_count": 3,
   "metadata": {},
   "outputs": [],
   "source": [
    "matplotlib.rcParams['font.family'] = 'serif'\n",
    "matplotlib.rcParams['font.serif'] = 'Times New Roman'\n",
    "\n",
    "matplotlib.rcParams['xtick.labelsize'] = 20\n",
    "matplotlib.rcParams['ytick.labelsize'] = 20\n",
    "matplotlib.rcParams.update({'font.size': 20})"
   ]
  },
  {
   "cell_type": "code",
   "execution_count": 4,
   "metadata": {},
   "outputs": [],
   "source": [
    "labelD={'W':'W','O':'O','WO':'W/O',\n",
    "        'E':'E','EM':'E/M','M':'M',\n",
    "        'E/O':'E-O','E/W':'E-W','E/WO':'E-W/O',\n",
    "        'EM/O':'E/M-O','EM/W':'E/M-W','EM/WO':'E/M-W/O',\n",
    "        'M/O':'M-O','M/W':'M-W','M/WO':'M-W/O'}"
   ]
  },
  {
   "cell_type": "code",
   "execution_count": 5,
   "metadata": {},
   "outputs": [],
   "source": [
    "def getColor(label):\n",
    "    \n",
    "    ### Reduced EMT states\n",
    "    if equals(label,['E']):\n",
    "        return 'r'\n",
    "    if equals(label,['M']):\n",
    "        return 'b'\n",
    "    if equals(label,['EM']):\n",
    "        return 'y'\n",
    "    if equals(label,['E','M']):\n",
    "        return 'purple'\n",
    "    if equals(label,['E','EM']):\n",
    "        return 'orange'\n",
    "    if equals(label,['M','EM']):\n",
    "        return 'g'\n",
    "    if equals(label,['E','M','EM']):\n",
    "        return 'k'\n",
    "    \n",
    "    ### REduced to Metabolic states\n",
    "    if equals(label,['W']):\n",
    "        return 'r'\n",
    "    if equals(label,['O']):\n",
    "        return 'b'\n",
    "    if equals(label,['WO']):\n",
    "        return 'y'\n",
    "    if equals(label,['W','O']):\n",
    "        return 'purple'\n",
    "    if equals(label,['W','WO']):\n",
    "        return 'orange'\n",
    "    if equals(label,['O','WO']):\n",
    "        return 'g'\n",
    "    if equals(label,['O','W','WO']):\n",
    "        return 'k'\n",
    "    \n",
    "    ### make the all 9 coupled states always be black\n",
    "    if equals(label,['E/O','E/WO','EM/O','M/O','EM/WO','M/WO','M/W','EM/W','E/W']):\n",
    "        return 'k'\n",
    "    \n",
    "    \n",
    "    ##generate the color dictionary based on the keys so that you can easily add results (511 total possible combos)\n",
    "    keys=[  ['E/W'],['M/W'],['EM/W'],\n",
    "            ['E/O'],['M/O'],['EM/O'],\n",
    "            ['E/WO'],['M/WO'],['EM/WO'],\n",
    "\n",
    "            ['E/O','EM/WO'],\n",
    "            ['E/O','E/WO'],\n",
    "            ['E/O','E/W'],\n",
    "\n",
    "            ['E/O','E/W','E/WO'],\n",
    "            ['E/O','E/WO','EM/W'],\n",
    "            ['E/O','E/WO','M/W'],\n",
    "            ['E/O','EM/W','EM/WO'],\n",
    "            ['E/O','M/W','EM/WO'],\n",
    "            ['E/O','M/W','M/WO'],\n",
    "            ['M/W','M/WO','M/O'],\n",
    "            ['E/O','EM/O','M/O'],\n",
    "\n",
    "            ['E/O','EM/WO','M/W','M/WO'],\n",
    "            ['E/W','EM/WO','M/O','M/WO'],\n",
    "            ['E/WO','EM/WO','M/O','M/WO'],\n",
    "            ['E/W','EM/W','M/O','M/WO'],\n",
    "            ['E/W','E/WO','E/O','M/W'],\n",
    "            ['EM/O','M/W','M/WO','M/O'],\n",
    "            ['E/O','EM/O','M/O','M/W'],\n",
    "\n",
    "            ['E/W','EM/W','M/O','M/W','M/WO'],\n",
    "            ['E/WO','EM/O','EM/WO','M/O','M/WO'],\n",
    "            ['E/W','EM/WO','M/W','M/O','M/WO'],\n",
    "            ['E/WO','EM/WO','M/W','M/O','M/WO'],\n",
    "            ['E/O','E/W','E/WO','EM/W','M/W'],\n",
    "            ['E/O','E/W','E/WO','M/WO','M/W'],\n",
    "            ['E/O','EM/O','M/O','M/WO','M/W'],\n",
    "            ['EM/WO','EM/O','M/O','M/WO','M/W'],\n",
    "\n",
    "            ['E/O','E/WO','EM/O','EM/WO','M/O','M/WO'],\n",
    "            ['E/WO','EM/O','EM/WO','M/O','M/W','M/WO'],\n",
    "            ['E/O','E/W','E/WO','EM/W','M/WO','M/W'],\n",
    "            ['E/O','E/W','E/WO','M/O','M/WO','M/W'],\n",
    "            ['E/O','EM/O','EM/WO','M/O','M/W','M/WO'],\n",
    "            ['EM/W','EM/O','EM/WO','M/O','M/W','M/WO'],\n",
    "            ['E/O','EM/O','EM/W','M/O','M/W','M/WO'],\n",
    "\n",
    "            ['E/O','E/WO','EM/O','EM/WO','M/WO','M/O','M/W'],\n",
    "            ['E/O','E/WO','E/W','EM/W','M/WO','M/O','M/W'],\n",
    "            ['E/O','EM/WO','EM/O','EM/W','M/WO','M/O','M/W'],\n",
    "\n",
    "            ['E/O','E/WO','EM/O','EM/W','EM/WO','M/O','M/WO','M/W'],\n",
    "            ['E/O','E/WO','E/W','EM/W','EM/WO','M/W','M/O','M/WO'],\n",
    "             ]\n",
    "    \n",
    "    __clist=[]\n",
    "    cmap1= cm.get_cmap('tab20b')\n",
    "    cmap2= cm.get_cmap('tab20c')\n",
    "    count,base=0,0\n",
    "    for i in range(20):\n",
    "        __clist+=[matplotlib.colors.to_hex(cmap1(base+count*4))]\n",
    "        __clist+=[matplotlib.colors.to_hex(cmap2(base+count*4))]\n",
    "        count+=1\n",
    "        if count==5:\n",
    "                count=0\n",
    "                base+=1\n",
    "    __clist+=['yellow','beige','chartreuse','cyan','lime','magenta','darkviolet','blue','red','saddlebrown']\n",
    "                \n",
    "    cmap = matplotlib.cm.get_cmap('hsv')\n",
    "    norm = matplotlib.colors.Normalize(vmin=0.0, vmax=len(keys))\n",
    "\n",
    "    for i in range(len(keys)):\n",
    "        if equals(label,keys[i]):\n",
    "            if i>=len(__clist):\n",
    "                print \"NEED MORE COLORS\"\n",
    "            return __clist[i%len(__clist)]\n",
    "            #return cmap(norm(i))"
   ]
  },
  {
   "cell_type": "code",
   "execution_count": 6,
   "metadata": {},
   "outputs": [],
   "source": [
    "def colorMap(fileN,reduced=None):\n",
    "    df = pd.read_csv(fileN)\n",
    "    lab={}\n",
    "    if reduced:\n",
    "        keys=['E','EM','M','W','O','WO']\n",
    "        mainKey='col'\n",
    "    else:\n",
    "        keys=['E/O','E/WO','E/W','EM/O','EM/WO','EM/W','M/O','M/WO','M/W']\n",
    "        mainKey='t3'\n",
    "    for i in range(len(df.values)):\n",
    "        tmp=[]\n",
    "        for key in keys:\n",
    "            if key in df.keys():\n",
    "                if df[key].values[i]==1:\n",
    "                    tmp+=[key]\n",
    "        lab[df[mainKey].values[i]] =tmp\n",
    "        \n",
    "    return lab"
   ]
  },
  {
   "cell_type": "code",
   "execution_count": 7,
   "metadata": {},
   "outputs": [
    {
     "name": "stderr",
     "output_type": "stream",
     "text": [
      "/home/madeline/anaconda2/lib/python2.7/site-packages/matplotlib/font_manager.py:1331: UserWarning: findfont: Font family [u'serif'] not found. Falling back to DejaVu Sans\n",
      "  (prop.get_family(), self.defaultFamily[fontext]))\n"
     ]
    },
    {
     "data": {
      "image/png": "[encoded data removed]",
      "text/plain": [
       "<Figure size 432x288 with 1 Axes>"
      ]
     },
     "metadata": {
      "needs_background": "light"
     },
     "output_type": "display_data"
    }
   ],
   "source": [
    "###########\n",
    "fig = plt.figure()\n",
    "labs = colorMap(\"data/d_no_EM_AZ_red_legend.txt\",reduced=True)\n",
    "df = pd.read_csv(\"data/d_no_EM_AZ_red.txt\")\n",
    "check=[]\n",
    "for i in range(len(df)):\n",
    "    if df['color'].values[i] not in check:\n",
    "        plt.fill_between([df['X1'].values[i],df['X2'].values[i]],-10.,110.,facecolor=getColor(labs[df['color'].values[i]]),linewidth=0.0,label=labs[df['color'].values[i]])\n",
    "        check+=[df['color'].values[i]]\n",
    "    else:\n",
    "        plt.fill_between([df['X1'].values[i],df['X2'].values[i]],-10.,110.,facecolor=getColor(labs[df['color'].values[i]]),linewidth=0.0)\n",
    "plt.legend(loc='center left', bbox_to_anchor=(1.05, 0.5),frameon=False)\n",
    "plt.yticks([])\n",
    "plt.xlim(0,1)\n",
    "plt.ylim(0,100)\n",
    "plt.xlabel(\"$\\lambda_{AMPK-|Zeb}$\")\n",
    "fig.savefig(\"figures/noEM_AZ_red.png\",bbox_inches='tight')"
   ]
  },
  {
   "cell_type": "code",
   "execution_count": 8,
   "metadata": {},
   "outputs": [
    {
     "data": {
      "image/png": "[encoded data removed]",
      "text/plain": [
       "<Figure size 432x288 with 1 Axes>"
      ]
     },
     "metadata": {
      "needs_background": "light"
     },
     "output_type": "display_data"
    }
   ],
   "source": [
    "###########\n",
    "\n",
    "fig = plt.figure()\n",
    "labs = colorMap(\"data/d_no_EM_HS_red_legend.txt\",reduced=True)\n",
    "df = pd.read_csv(\"data/d_no_EM_HS_red.txt\")\n",
    "check=[]\n",
    "for i in range(len(df)):\n",
    "    if df['color'].values[i] not in check:\n",
    "        plt.fill_between([df['X1'].values[i],df['X2'].values[i]],-10.,110.,facecolor=getColor(labs[df['color'].values[i]]),linewidth=0.0,label=labs[df['color'].values[i]])\n",
    "        check+=[df['color'].values[i]]\n",
    "    else:\n",
    "        plt.fill_between([df['X1'].values[i],df['X2'].values[i]],-10.,110.,facecolor=getColor(labs[df['color'].values[i]]),linewidth=0.0)\n",
    "plt.legend(loc='center left', bbox_to_anchor=(1.05, 0.5),frameon=False)\n",
    "plt.yticks([])\n",
    "plt.xlim(1,9)\n",
    "plt.ylim(0,100)\n",
    "plt.xlabel(\"$\\lambda_{Hif1->Snail}$\")\n",
    "fig.savefig(\"figures/noEM_HS_red.png\",bbox_inches='tight')"
   ]
  },
  {
   "cell_type": "code",
   "execution_count": 9,
   "metadata": {},
   "outputs": [
    {
     "data": {
      "image/png": "[encoded data removed]",
      "text/plain": [
       "<Figure size 432x288 with 1 Axes>"
      ]
     },
     "metadata": {
      "needs_background": "light"
     },
     "output_type": "display_data"
    }
   ],
   "source": [
    "###########\n",
    "fig = plt.figure()\n",
    "labs = colorMap(\"data/d_no_EM_Hu_red_legend.txt\",reduced=True)\n",
    "df = pd.read_csv(\"data/d_no_EM_Hu_red.txt\")\n",
    "check=[]\n",
    "for i in range(len(df)):\n",
    "    if df['color'].values[i] not in check:\n",
    "        plt.fill_between([df['X1'].values[i],df['X2'].values[i]],-10.,110.,facecolor=getColor(labs[df['color'].values[i]]),linewidth=0.0,label=labs[df['color'].values[i]])\n",
    "        check+=[df['color'].values[i]]\n",
    "    else:\n",
    "        plt.fill_between([df['X1'].values[i],df['X2'].values[i]],-10.,110.,facecolor=getColor(labs[df['color'].values[i]]),linewidth=0.0)\n",
    "plt.legend(loc='center left', bbox_to_anchor=(1.05, 0.5),frameon=False)\n",
    "plt.yticks([])\n",
    "plt.xlim(0,1)\n",
    "plt.ylim(0,100)\n",
    "plt.xlabel(\"$\\lambda_{Hif1-|\\mu_{200}}$\")\n",
    "fig.savefig(\"figures/noEM_Hu_red.png\",bbox_inches='tight')"
   ]
  },
  {
   "cell_type": "code",
   "execution_count": 10,
   "metadata": {},
   "outputs": [
    {
     "data": {
      "image/png": "[encoded data removed]",
      "text/plain": [
       "<Figure size 432x288 with 1 Axes>"
      ]
     },
     "metadata": {
      "needs_background": "light"
     },
     "output_type": "display_data"
    }
   ],
   "source": [
    "###########\n",
    "fig = plt.figure()\n",
    "labs = colorMap(\"data/d_no_EM_AZ_Hu_red_legend.txt\",reduced=True)\n",
    "df = pd.read_csv(\"data/d_no_EM_AZ_Hu_red.txt\")\n",
    "check=[]\n",
    "for i in range(len(df)):\n",
    "    if df['color'].values[i] not in check:\n",
    "        plt.fill_between([df['X1'].values[i],df['X2'].values[i]],df['Y1'].values[i],df['Y2'].values[i],facecolor=getColor(labs[df['color'].values[i]]),linewidth=0.0,label=labs[df['color'].values[i]])\n",
    "        check+=[df['color'].values[i]]\n",
    "    else:\n",
    "        plt.fill_between([df['X1'].values[i],df['X2'].values[i]],df['Y1'].values[i],df['Y2'].values[i],facecolor=getColor(labs[df['color'].values[i]]),linewidth=0.0)\n",
    "plt.legend(loc='center left', bbox_to_anchor=(1.05, 0.5),frameon=False)\n",
    "#plt.yticks([])\n",
    "plt.xlim(0,0.9)\n",
    "plt.ylim(0,0.9)\n",
    "plt.xlabel(\"$\\lambda_{Hif1-|\\mu_{200}}$\")\n",
    "plt.ylabel(\"$\\lambda_{AMPK-|Zeb}$\")\n",
    "fig.savefig(\"figures/noEM_AZ_Hu_red.png\",bbox_inches='tight')"
   ]
  },
  {
   "cell_type": "code",
   "execution_count": 11,
   "metadata": {},
   "outputs": [
    {
     "data": {
      "image/png": "[encoded data removed]",
      "text/plain": [
       "<Figure size 432x288 with 1 Axes>"
      ]
     },
     "metadata": {
      "needs_background": "light"
     },
     "output_type": "display_data"
    }
   ],
   "source": [
    "###########\n",
    "fig = plt.figure()\n",
    "labs = colorMap(\"data/d_no_EM_Hu_input_red_legend.txt\",reduced=True)\n",
    "df = pd.read_csv(\"data/d_no_EM_Hu_input_red.txt\")\n",
    "check=[]\n",
    "for i in range(len(df)):\n",
    "    if df['color'].values[i] not in check:\n",
    "        plt.fill_between([df['X1'].values[i],df['X2'].values[i]],df['Y1'].values[i],df['Y2'].values[i],facecolor=getColor(labs[df['color'].values[i]]),linewidth=0.0,label=labs[df['color'].values[i]])\n",
    "        check+=[df['color'].values[i]]\n",
    "    else:\n",
    "        plt.fill_between([df['X1'].values[i],df['X2'].values[i]],df['Y1'].values[i],df['Y2'].values[i],facecolor=getColor(labs[df['color'].values[i]]),linewidth=0.0)\n",
    "plt.legend(loc='center left', bbox_to_anchor=(1.05, 0.5),frameon=False)\n",
    "#plt.yticks([])\n",
    "plt.xlim(0,1)\n",
    "plt.ylim(0,100000)\n",
    "plt.xlabel(\"$\\lambda_{Hif1-|\\mu_{200}}$\")\n",
    "plt.ylabel(\"Input to Snail\")\n",
    "fig.savefig(\"figures/noEM_Hu_input_red.png\",bbox_inches='tight')"
   ]
  },
  {
   "cell_type": "code",
   "execution_count": 12,
   "metadata": {},
   "outputs": [
    {
     "data": {
      "image/png": "[encoded data removed]",
      "text/plain": [
       "<Figure size 432x288 with 1 Axes>"
      ]
     },
     "metadata": {
      "needs_background": "light"
     },
     "output_type": "display_data"
    }
   ],
   "source": [
    "###########\n",
    "fig = plt.figure()\n",
    "labs = colorMap(\"data/d_noWO_u3m_red_legend.txt\",reduced=True)\n",
    "df = pd.read_csv(\"data/d_noWO_u3m_red.txt\")\n",
    "check=[]\n",
    "for i in range(len(df)):\n",
    "    if df['color'].values[i] not in check:\n",
    "        plt.fill_between([df['X1'].values[i],df['X2'].values[i]],-10.,110.,facecolor=getColor(labs[df['color'].values[i]]),linewidth=0.0,label=labs[df['color'].values[i]])\n",
    "        check+=[df['color'].values[i]]\n",
    "    else:\n",
    "        plt.fill_between([df['X1'].values[i],df['X2'].values[i]],-10.,110.,facecolor=getColor(labs[df['color'].values[i]]),linewidth=0.0)\n",
    "plt.legend(loc='center left', bbox_to_anchor=(1.05, 0.5),frameon=False)\n",
    "plt.yticks([])\n",
    "plt.xlim(0,1)\n",
    "plt.ylim(0,100)\n",
    "\n",
    "plt.xlabel(\"$\\lambda_{\\mu_{34}->mtROS}$\")\n",
    "fig.savefig(\"figures/noWO_u3m_red.png\",bbox_inches='tight')"
   ]
  },
  {
   "cell_type": "code",
   "execution_count": 13,
   "metadata": {},
   "outputs": [
    {
     "data": {
      "image/png": "[encoded data removed]",
      "text/plain": [
       "<Figure size 432x288 with 1 Axes>"
      ]
     },
     "metadata": {
      "needs_background": "light"
     },
     "output_type": "display_data"
    }
   ],
   "source": [
    "###########\n",
    "fig = plt.figure()\n",
    "labs = colorMap(\"data/d_noWO_u3n_red_legend.txt\",reduced=True)\n",
    "df = pd.read_csv(\"data/d_noWO_u3n_red.txt\")\n",
    "check=[]\n",
    "for i in range(len(df)):\n",
    "    if df['color'].values[i] not in check:\n",
    "        plt.fill_between([df['X1'].values[i],df['X2'].values[i]],-10.,110.,facecolor=getColor(labs[df['color'].values[i]]),linewidth=0.0,label=labs[df['color'].values[i]])\n",
    "        check+=[df['color'].values[i]]\n",
    "    else:\n",
    "        plt.fill_between([df['X1'].values[i],df['X2'].values[i]],-10.,110.,facecolor=getColor(labs[df['color'].values[i]]),linewidth=0.0)\n",
    "plt.legend(loc='center left', bbox_to_anchor=(1.05, 0.5),frameon=False)\n",
    "plt.yticks([])\n",
    "plt.xlim(0,1)\n",
    "plt.ylim(0,100)\n",
    "plt.xlabel(\"$\\lambda_{\\mu_{34}->noxROS}$\")\n",
    "fig.savefig(\"figures/noWO_u3n_red.png\",bbox_inches='tight')"
   ]
  },
  {
   "cell_type": "code",
   "execution_count": null,
   "metadata": {},
   "outputs": [],
   "source": []
  }
 ],
 "metadata": {
  "kernelspec": {
   "display_name": "Python 3",
   "language": "python",
   "name": "python3"
  },
  "language_info": {
   "codemirror_mode": {
    "name": "ipython",
    "version": 2
   },
   "file_extension": ".py",
   "mimetype": "text/x-python",
   "name": "python",
   "nbconvert_exporter": "python",
   "pygments_lexer": "ipython2",
   "version": "2.7.17"
  }
 },
 "nbformat": 4,
 "nbformat_minor": 2
}
