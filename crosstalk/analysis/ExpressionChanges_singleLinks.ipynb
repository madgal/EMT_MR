{
 "cells": [
  {
   "cell_type": "code",
   "execution_count": 1,
   "metadata": {},
   "outputs": [],
   "source": [
    "import numpy as np\n",
    "import pandas as pd\n",
    "import matplotlib.pyplot as plt\n",
    "import matplotlib as mpl\n",
    "from matplotlib.colors import Normalize\n",
    "import os\n",
    "import math\n",
    "from matplotlib.patches import Patch\n",
    "from matplotlib.lines import Line2D\n",
    "import matplotlib.gridspec as gridspec"
   ]
  },
  {
   "cell_type": "code",
   "execution_count": 2,
   "metadata": {},
   "outputs": [],
   "source": [
    "from aux_func_States import *\n",
    "\n",
    "from functions_for_plotting import *"
   ]
  },
  {
   "cell_type": "code",
   "execution_count": 3,
   "metadata": {},
   "outputs": [],
   "source": [
    "mpl.rcParams['xtick.labelsize'] = 20\n",
    "mpl.rcParams['ytick.labelsize'] = 20\n",
    "mpl.rcParams.update({'font.size': 20})"
   ]
  },
  {
   "cell_type": "code",
   "execution_count": 4,
   "metadata": {},
   "outputs": [],
   "source": [
    "xlabel,title,fsave='','','tmp'"
   ]
  },
  {
   "cell_type": "code",
   "execution_count": 5,
   "metadata": {},
   "outputs": [],
   "source": [
    "def plotRESvlambda_singleLink(fileN,xlabel,title,fsave,typeV):\n",
    "    df = pd.read_csv(fileN)\n",
    "    xval=df[xlabel.upper()].values\n",
    "    \n",
    "    if typeV=='EMT':\n",
    "        cols={'E':'r','EM':'k','M':'b'}\n",
    "        listV=['E','EM','M']\n",
    "    else:\n",
    "        cols={'O':'r','WO':'k','W':'b'}\n",
    "        listV=['O','WO','W']\n",
    "    fig,axs = plt.subplots(2,3,figsize=(15,6))\n",
    "    check=[]\n",
    "    for i in range(len(df.values)):\n",
    "        row,col=0,0\n",
    "        for el in listV:\n",
    "            if df[el].values[i]==1:\n",
    "                tmp=el\n",
    "        for key in ['u','mz','Z','ms','u3','S']:#,'A','Rmt','Rnox','h','mh']:\n",
    "            if tmp not in check and row==0 and col==0:\n",
    "                axs[row,col].plot(xval[i],df[key].values[i],color=cols[tmp],marker='*',label=tmp)\n",
    "                check+=[tmp]\n",
    "            else:\n",
    "                axs[row,col].plot(xval[i],df[key].values[i],color=cols[tmp],marker='*')\n",
    "            axs[row,col].set_xlabel(\"$\\lambda_{\"+xlabel+\"}$\")\n",
    "            axs[row,col].set_ylabel(key)\n",
    "            col+=1\n",
    "            if col==3:\n",
    "                row+=1\n",
    "                col=0\n",
    "    plt.suptitle(xlabel)\n",
    "    axs[0,0].legend()\n",
    "    plt.show()\n",
    "\n",
    "    fig,axs = plt.subplots(2,3,figsize=(15,6))\n",
    "    row,col=0,0\n",
    "        \n",
    "    for i in range(len(df.values)):\n",
    "        row,col=0,0\n",
    "        for el in listV:\n",
    "            if df[el].values[i]==1:\n",
    "                tmp=el\n",
    "        for key in ['A','Rmt','Rnox','h','mh']:\n",
    "            if tmp not in check and row==0 and col==0:\n",
    "                axs[row,col].plot(xval[i],df[key].values[i],color=cols[tmp],marker='*',label=tmp)\n",
    "                check+=[tmp]\n",
    "            else:\n",
    "                axs[row,col].plot(xval[i],df[key].values[i],color=cols[tmp],marker='*')\n",
    "            axs[row,col].set_xlabel(\"$\\lambda_{\"+xlabel+\"}$\")\n",
    "            axs[row,col].set_ylabel(key)\n",
    "            col+=1\n",
    "            if col==3:\n",
    "                row+=1\n",
    "                col=0\n",
    "    plt.suptitle(xlabel)\n",
    "    plt.legend(bbox_to_anchor=(1.1,1))\n",
    "    plt.show()"
   ]
  },
  {
   "cell_type": "code",
   "execution_count": null,
   "metadata": {
    "scrolled": false
   },
   "outputs": [],
   "source": [
    "dirN='data/vals_crosstalk_Au.txt'\n",
    "xlabel='AU'\n",
    "plotRESvlambda_singleLink(dirN,xlabel,title,fsave,'EMT')\n",
    "\n",
    "dirN='data/vals_crosstalk_iHu.txt'\n",
    "xlabel='HU'\n",
    "plotRESvlambda_singleLink(dirN,xlabel,title,fsave,'EMT')\n",
    "\n",
    "dirN='data/vals_crosstalk_AZ.txt'\n",
    "xlabel='AZ'\n",
    "plotRESvlambda_singleLink(dirN,xlabel,title,fsave,'EMT')\n",
    "\n",
    "dirN='data/vals_crosstalk_AS.txt'\n",
    "xlabel='AS'\n",
    "plotRESvlambda_singleLink(dirN,xlabel,title,fsave,'EMT')\n",
    "\n",
    "dirN='data/vals_crosstalk_HS.txt'\n",
    "xlabel='HS'\n",
    "plotRESvlambda_singleLink(dirN,xlabel,title,fsave,'EMT')\n",
    "\n",
    "dirN='data/vals_crosstalk_u3m.txt'\n",
    "xlabel='U3M'\n",
    "plotRESvlambda_singleLink(dirN,xlabel,title,fsave,'MR')\n",
    "    \n",
    "dirN='data/vals_crosstalk_u3n.txt'\n",
    "xlabel='U3N'\n",
    "plotRESvlambda_singleLink(dirN,xlabel,title,fsave,'MR')\n"
   ]
  },
  {
   "cell_type": "code",
   "execution_count": 34,
   "metadata": {},
   "outputs": [
    {
     "ename": "TypeError",
     "evalue": "plotRESvlambda_singleLink() takes exactly 5 arguments (4 given)",
     "output_type": "error",
     "traceback": [
      "\u001b[0;31m---------------------------------------------------------------------------\u001b[0m",
      "\u001b[0;31mTypeError\u001b[0m                                 Traceback (most recent call last)",
      "\u001b[0;32m<ipython-input-34-57c2b19fdd62>\u001b[0m in \u001b[0;36m<module>\u001b[0;34m()\u001b[0m\n\u001b[1;32m      1\u001b[0m \u001b[0mfileN\u001b[0m \u001b[0;34m=\u001b[0m \u001b[0;34m'data/crosstalk_input.txt'\u001b[0m\u001b[0;34m\u001b[0m\u001b[0m\n\u001b[0;32m----> 2\u001b[0;31m \u001b[0mplotRESvlambda_singleLink\u001b[0m\u001b[0;34m(\u001b[0m\u001b[0mdirN\u001b[0m\u001b[0;34m,\u001b[0m\u001b[0mxlabel\u001b[0m\u001b[0;34m,\u001b[0m\u001b[0mtitle\u001b[0m\u001b[0;34m,\u001b[0m\u001b[0mfsave\u001b[0m\u001b[0;34m)\u001b[0m\u001b[0;34m\u001b[0m\u001b[0m\n\u001b[0m",
      "\u001b[0;31mTypeError\u001b[0m: plotRESvlambda_singleLink() takes exactly 5 arguments (4 given)"
     ]
    }
   ],
   "source": [
    "fileN = 'data/crosstalk_input.txt'\n",
    "plotRESvlambda_singleLink(dirN,xlabel,title,fsave)\n"
   ]
  },
  {
   "cell_type": "code",
   "execution_count": 8,
   "metadata": {
    "scrolled": false
   },
   "outputs": [],
   "source": [
    "for i in range(1,11):\n",
    "    if i!=8:\n",
    "        fileN = \"data/crosstalk_uh\"+str(i)+\".txt\"\n",
    "        title ='uh'+str(i)\n",
    "        fsave='figures/crosstalk_uh'+str(i)\n",
    "        xlabel='uH'\n"
   ]
  },
  {
   "cell_type": "code",
   "execution_count": null,
   "metadata": {},
   "outputs": [],
   "source": []
  }
 ],
 "metadata": {
  "kernelspec": {
   "display_name": "Python 3",
   "language": "python",
   "name": "python3"
  },
  "language_info": {
   "codemirror_mode": {
    "name": "ipython",
    "version": 2
   },
   "file_extension": ".py",
   "mimetype": "text/x-python",
   "name": "python",
   "nbconvert_exporter": "python",
   "pygments_lexer": "ipython2",
   "version": "2.7.17"
  }
 },
 "nbformat": 4,
 "nbformat_minor": 2
}
