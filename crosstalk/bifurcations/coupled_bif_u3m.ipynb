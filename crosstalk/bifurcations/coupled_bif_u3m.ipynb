{
 "cells": [
  {
   "cell_type": "markdown",
   "metadata": {},
   "source": [
    "u3m -> mtROS = 0.5"
   ]
  },
  {
   "cell_type": "code",
   "execution_count": 1,
   "metadata": {},
   "outputs": [],
   "source": [
    "import PyDSTool\n",
    "from PyDSTool.Toolbox import phaseplane as pp\n",
    "import matplotlib\n",
    "from pylab import *\n",
    "import copy\n",
    "import math\n",
    "matplotlib.rcParams.update({'font.size': 30})\n",
    "from matplotlib.lines import Line2D\n",
    "\n",
    "from mpi4py import MPI\n",
    "myrank = MPI.COMM_WORLD.Get_rank()\n",
    "nprocs = MPI.COMM_WORLD.Get_size()\n",
    "stat = MPI.Status()\n",
    "\n",
    "from bif_functions import *\n"
   ]
  },
  {
   "cell_type": "code",
   "execution_count": 2,
   "metadata": {},
   "outputs": [],
   "source": [
    "DSargsF = PyDSTool.args(name='bothFull',checklevel=2)\n",
    "DSargsF.fnspecs = {'H':(['X','X0','nX','lamdaX'],'lamdaX+(1.-lamdaX)/(1.+(X/X0)**nX)'),\n",
    "                  'Z':(['mzX','uX','u0X','nuX','kzX','gzX'],'gzX*mzX*L(uX,u0X,nuX)/kzX'),\n",
    "                  'M' : (['i','n','x','x0'],'(x/x0)**i/(1+(x/x0))**n'),\n",
    "                  'indL': (['i'],'if(i==0,li0,if(i==1,li1,if(i==2,li2,if(i==3,li3,if(i==4,li4,if(i==5,li5,li6))))))'),\n",
    "                  'indLh': (['i'],'if(i==0,lih0,if(i==1,lih1,if(i==2,lih2,lih2)))'),\n",
    "                  'indYm': (['i'],'if(i==0,ymi0,if(i==1,ymi1,if(i==2,ymi2,if(i==3,ymi3,if(i==4,ymi4,if(i==5,ymi5,ymi6))))))'),\n",
    "                  'indYmh': (['i'],'if(i==0,ymih0,if(i==1,ymih1,if(i==2,ymih2,ymih2)))'),\n",
    "                  'indYu': (['i'],'if(i==0,yui0,if(i==1,yui1,if(i==2,yui2,if(i==3,yui3,if(i==4,yui4,if(i==5,yui5,yui6))))))'),\n",
    "                  'indYuh': (['i'],'if(i==0,yuih0,if(i==1,yuih1,if(i==2,yuih2,yuih2)))'),\n",
    "                  'combination':(['k','n'],'special_gamma(n+1)/special_gamma(k+1)/special_gamma(n-k+1)'),\n",
    "                  'combinationU':(['k','n'],'k*special_gamma(n+1)/special_gamma(k+1)/special_gamma(n-k+1)'),\n",
    "                  'L' : (['X','X0','nX'],'sum(i,0,6,li[i]*combination([i],nX)*M([i],nX,X,X0))'),\n",
    "                  'Lh' : (['X','X0','nX'],'sum(i,0,2,lih[i]*combination([i],nX)*M([i],nX,X,X0))'),\n",
    "                  'Ym' : (['X','X0','nX'],'sum(i,0,6,ymi[i]*combination([i],nX)*M([i],nX,X,X0))'),\n",
    "                  'Ymh' : (['X','X0','nX'],'sum(i,0,2,ymi[i]*combination([i],nX)*M([i],nX,X,X0))'),\n",
    "                  'Yu' : (['X','X0','nX'],'sum(i,0,6,yui[i]*combinationU([i],nX)*M([i],nX,X,X0))'),\n",
    "                  'L3' : (['X','X0','nX'],'sum(i,0,2,li[i]*combination([i],nX)*M([i],nX,X,X0))'),\n",
    "                  'Ym3' : (['X','X0','nX'],'sum(i,0,2,ymi[i]*combination([i],nX)*M([i],nX,X,X0))'),\n",
    "                  'Yu3' : (['X','X0','nX'],'sum(i,0,2,yui[i]*combinationU([i],nX)*M([i],nX,X,X0))'),\n",
    "                  'Yuh' : (['X','X0','nX'],'sum(i,0,2,yuih[i]*combinationU([i],nX)*M([i],nX,X,X0))'),\n",
    "                  'R':(['R1','R2'],'R1+R2'),\n",
    "                  'CompRmt':(['yyX', 'gnX', 'hX', 'h0rmtX', 'nhmtX', 'AX', 'A0rmtX',  'namtX'],'yyX*(gnX+(AX/A0rmtX)**namtX)/(1.+(hX/h0rmtX)**nhmtX+(AX/A0rmtX)**namtX)'),\n",
    "                  'CompRn':(['g0X', 'hX', 'h0rnX', 'nhnX', 'ghnX', 'AX', 'A0rnX', 'ganX',  'nanxX'],'(g0X+ghnX*(hX/h0rnX)**nhnX+ganX*(AX/A0rnX)**nanxX)/(1.+(hX/h0rnX)**nhnX+(AX/A0rnX)**nanxX)')\n",
    "                        }\n"
   ]
  },
  {
   "cell_type": "code",
   "execution_count": 3,
   "metadata": {},
   "outputs": [],
   "source": [
    "DSargsF.varspecs = {'u':'gu*H(Z(mz,u,u0,nu,kz,gz),Z0u,nzu,lamdazu)*H(S,S0u,nsu,lamdaSu)*H(h,h0u,nhu,lamdahu)*H(A,A0u,nAu,lamdaAu)-mz*Yu(u,u0,nu)-mh*Yuh(0,u0,nuh)-ku*u',\n",
    "                   'mz':'gmz*H(Z(mz,u,u0,nu,kz,gz),Z0m,nzm,lamdaZm)*H(S,S0m,nsm,lamdaSm)*H(A,A0m,nAm,lamdaAm)-mz*Ym(u,u0,nu)-kmz*mz',\n",
    "                   'ms':'gms*H(S,S0ms,nsms,lamdaSms)*H(I,I0m,nIm,lamdaIm)*H(h,h0ms,nhms,lamdahms)*H(A,A0ms,nAms,lamdaAms)-ms*Ym(u3,u30,nu3)-kms*ms',\n",
    "                   'u3':'gu3*H(Z(mz,u,u0,nu,kz,gz),Z0u3,nzu3,lamdazu3)*H(S,S0u3,nsu3,lamdaSu3)-ms*Yu3(u3,u30,nu3)-ku3*u3',\n",
    "                   'S':'gs*ms*L3(u3,u30,nu3)-ks*S',\n",
    "                   'A':'ga*H(R(Rmt,Rnox),R0ra,nra,lambdara)*H(h,h0ha,nha,lambdaha)*H(A,A0aa,naa,lambdaaa)-ka*A',\n",
    "                   'h':'gh*mh*Lh(0.,u0,nuh)-kh*h',\n",
    "                   'Rmt':'grm*H(A,A0aR,nar,lambdaar)*CompRmt(y,gn,h,h0hrm,nhrm,A,A0rm,narm)-krm*Rmt*H(u3,nu30rm,n3m,lamda3m)',\n",
    "                   'Rnox':'grn*CompRn(gn,h,h0hrn,nhrn,g1,A,A0rn,g2,narn)-krn*Rnox*H(u3,nu30rn,n3n,lamda3n)',\n",
    "                   'mh':'gmh*H(A,A0ah,nah,lambdaah)-kmh*mh*H(h,h0hh,nhh,lambdahh)*H(R(Rmt,Rnox),R0rh,nrh,lambdarh)-mh*Ymh(0.,u0,nuh)'\n",
    "                }\n",
    "\n"
   ]
  },
  {
   "cell_type": "code",
   "execution_count": 4,
   "metadata": {},
   "outputs": [],
   "source": [
    "\n",
    "DSargsF.pars ={'gz':100.,'gu':2100.,'gms':90.,'gu3':1350.,'gs':100.,'gmz':11.,'grn':40.,'grm':150.,'ga':30.,'gn':0.2,'g1':5.,'g2':0.2,'gmh':10.,'gh':1.5,'y':8.,\n",
    "                'ks':0.125,'kz':0.1,'ku':0.05,'kmz':0.5,'kms':0.5,'ku3':0.05,'ka':0.2,'krm':5.,'krn':5.,'kmh':.143,'kh':1.75,\n",
    "                'Z0u':220000.,'I0m':50000.,'S0ms':200000.,'u30':10000.,'S0u3':300000.,'h0ha':250.,'A0aa':350.,'h0hrm':200.,'h0hrn':250.,'A0rn':150.,'A0rm':150.,\n",
    "                'Z0u3':600000.,'Z0m':25000,'S0u':180000.,'S0m':180000.,'u0':10000.,'h0u':200.,'A0u':300.,'A0m':300.,'A0ms':300.,'A0aR':350.,'R0ra':100.,\n",
    "                'h0ms':200.,'nu30rn':10000.,'nu30rm':10000.,'A0ah':250.,'R0rh':300.,'h0hh':80.,\n",
    "                'lamdahu':1.,'lamdaAu':1.,'lamdaAms':1.,'lamdahms':1.,'lamdaAm':1.,'lamda3n':1.,'lamda3m':0.5,\n",
    "                'lamdazu':0.1,'lamdaSu':0.1,'lamdaIm':10.,'lamdaSms':0.1,'lamdazu3':0.2,'lamdaSu3':0.1,'lamdaZm':7.5,'lamdaSm':10.,\n",
    "                'lambdarh':0.2,'lambdahh':0.1,'lambdaah':0.1,'lambdaar':0.25,'lambdara':8.,'lambdaha':0.1,'lambdaaa':0.2,\n",
    "                'nu3':2,'nzu3':2,'nsms':1,'nIm':2,'nsu3':1,'naa':2,'nra':4,'nha':1,'nar':2,'narm':4,'nhrm':2,'nhrn':2,\n",
    "                'nzu':3,'nsu':2,'nzm':2,'nsm':2,'nu':6,'nuh':2,'nhu':1,'nAu':1,'nAm':2,'nAms':2,'nhms':2,\n",
    "                'narn':2,'nah':1,'nrh':4,'nhh':4,'n3m':3,'n3n':2,\n",
    "                'I':50000.,\n",
    "                'ymi0':0.,'ymi1':0.04,'ymi2':0.2,'ymi3':1.,'ymi4':1.,'ymi5':1.,'ymi6':1.,\n",
    "                'yui0':0.,'yui1':0.005,'yui2':0.05,'yui3':0.5,'yui4':0.5,'yui5':0.5,'yui6':0.5,\n",
    "                'li0':1.,'li1':0.6,'li2':0.3,'li3':0.1,'li4':0.05,'li5':0.05,'li6':0.05,\n",
    "                'ymih0':0.,'ymih1':0.04,'ymih2':0.2,\n",
    "                'yuih0':0.,'yuih1':0.005,'yuih2':0.05,\n",
    "                'lih0':1.,'lih1':0.6,'lih2':0.3\n",
    "                }\n"
   ]
  },
  {
   "cell_type": "code",
   "execution_count": 5,
   "metadata": {},
   "outputs": [],
   "source": [
    "DSargsF.ics={'u':1000,'mz':1000,'S':200000,'ms':2000,'u3':4000,'h':100,'A':100,'Rnox':100,'Rmt':100,'mh':100}\n",
    "DSargsF.xdomain = {'u':[0,20000],'mz':[0,1500],'S':[0,400000],'ms':[0,20000],'u3':[0,20000],'A':[0,1000],'h':[0,1000],'Rmt':[0,1000],'Rnox':[0,1000],'mh':[0,1000]}\n",
    "DSargsF.tdomain = [0,5000]\n",
    "DSargsF.algparams = {'init_step':0.4}\n",
    "new_domains = {'u':[0,20000],'mz':[0,1500],'S':[0,400000],'ms':[0,20000],'u3':[0,20000],'A':[0,1000],'h':[0,1000],'Rmt':[0,1000],'Rnox':[0,1000],'mh':[0,1000]}\n",
    "\n",
    "\n"
   ]
  },
  {
   "cell_type": "code",
   "execution_count": 6,
   "metadata": {},
   "outputs": [],
   "source": [
    "ode = PyDSTool.Generator.Vode_ODEsystem(DSargsF)"
   ]
  },
  {
   "cell_type": "code",
   "execution_count": 7,
   "metadata": {},
   "outputs": [],
   "source": [
    "Ffixed_points = pp.find_fixedpoints(ode,n=25,maxsearch=1e+5,eps=1e-5)#10)"
   ]
  },
  {
   "cell_type": "code",
   "execution_count": 8,
   "metadata": {},
   "outputs": [
    {
     "data": {
      "text/plain": [
       "['A', 'Rmt', 'Rnox', 'mh', 'u3', 'S', 'u', 'ms', 'h', 'mz']"
      ]
     },
     "execution_count": 8,
     "metadata": {},
     "output_type": "execute_result"
    }
   ],
   "source": [
    "Ffixed_points[0].keys()"
   ]
  },
  {
   "cell_type": "code",
   "execution_count": 9,
   "metadata": {
    "scrolled": true
   },
   "outputs": [
    {
     "name": "stdout",
     "output_type": "stream",
     "text": [
      "0 8 6 9\n"
     ]
    },
    {
     "data": {
      "image/png": "[encoded data removed]",
      "text/plain": [
       "<Figure size 432x288 with 1 Axes>"
      ]
     },
     "metadata": {
      "needs_background": "light"
     },
     "output_type": "display_data"
    },
    {
     "data": {
      "image/png": "[encoded data removed]",
      "text/plain": [
       "<Figure size 432x288 with 1 Axes>"
      ]
     },
     "metadata": {
      "needs_background": "light"
     },
     "output_type": "display_data"
    },
    {
     "data": {
      "image/png": "[encoded data removed]",
      "text/plain": [
       "<Figure size 432x288 with 1 Axes>"
      ]
     },
     "metadata": {
      "needs_background": "light"
     },
     "output_type": "display_data"
    },
    {
     "data": {
      "image/png": "[encoded data removed]",
      "text/plain": [
       "<Figure size 432x288 with 1 Axes>"
      ]
     },
     "metadata": {
      "needs_background": "light"
     },
     "output_type": "display_data"
    }
   ],
   "source": [
    "tmp_Ffp=[]\n",
    "for i in range(len(Ffixed_points)):\n",
    "    tmp_Ffp+=[Ffixed_points[i].values()]\n",
    "tmp_Ffp = np.array(tmp_Ffp)\n",
    "columns=np.array(Ffixed_points[0].keys())\n",
    "iA = np.argwhere(columns=='A')[0][0]\n",
    "ih = np.argwhere(columns=='h')[0][0]\n",
    "iu = np.argwhere(columns=='u')[0][0]\n",
    "imz = np.argwhere(columns=='mz')[0][0]\n",
    "imr = np.argwhere(columns=='Rmt')[0][0]\n",
    "inr = np.argwhere(columns=='Rnox')[0][0]\n",
    "imh = np.argwhere(columns=='mh')[0][0]\n",
    "iu3 = np.argwhere(columns=='u3')[0][0]\n",
    "iS = np.argwhere(columns=='S')[0][0]\n",
    "ims = np.argwhere(columns=='ms')[0][0]\n",
    "\n",
    "print iA,ih,iu,imz\n",
    "\n",
    "plt.plot(tmp_Ffp[:,iA],tmp_Ffp[:,imz],'*')\n",
    "plt.show()\n",
    "plt.plot(tmp_Ffp[:,iu],tmp_Ffp[:,ih],'*')\n",
    "plt.show()\n",
    "plt.plot(tmp_Ffp[:,iA],tmp_Ffp[:,ih],'*')\n",
    "plt.show()\n",
    "plt.plot(tmp_Ffp[:,iu],tmp_Ffp[:,imz],'*')\n",
    "plt.show()"
   ]
  },
  {
   "cell_type": "code",
   "execution_count": 10,
   "metadata": {},
   "outputs": [],
   "source": [
    "def new_reducefp(tmp_Ffp):\n",
    "    tmpb = copy.deepcopy(tmp_Ffp)\n",
    "    finalV=[]\n",
    "    i=0\n",
    "    while i<len(tmpb) and i<50:\n",
    "        dat= np.sum((tmpb[i]-tmpb[:])**2,axis=1)<100\n",
    "        finalV+=[tmpb[i]]\n",
    "        inds = np.argwhere(dat==1)[:,0]\n",
    "        tmpb=np.delete(tmpb,inds,axis=0)\n",
    "        i+=1\n",
    "\n",
    "    for i in range(4):\n",
    "        dat= np.sum((tmp_Ffp[i]-tmp_Ffp[:])**2,axis=1)<100\n",
    "\n",
    "        plt.plot(dat,'*')\n",
    "\n",
    "    finalV=np.array(finalV)\n",
    "    plt.close()\n",
    "    plt.plot(np.array(finalV)[:,iA],np.array(finalV)[:,imz],'o',markersize=10)\n",
    "    \n",
    "    finalArr = []\n",
    "    for i in range(len(finalV)):\n",
    "        finalArr+=[{'A':finalV[i][iA],'h':finalV[i][ih],'u':finalV[i][iu],'mz':finalV[i][imz],'Rmt':finalV[i][imr],\n",
    "                    'Rnox':finalV[i][inr],'mh':finalV[i][imh],'u3':finalV[i][iu3],'S':finalV[i][iS],'ms':finalV[i][ims]}]\n",
    "    return finalArr"
   ]
  },
  {
   "cell_type": "code",
   "execution_count": 11,
   "metadata": {
    "scrolled": true
   },
   "outputs": [
    {
     "name": "stdout",
     "output_type": "stream",
     "text": [
      "{'A': 489.2107871394019, 'S': 196610.26787419038, 'u': 19098.53920733662, 'ms': 458.5115605784156, 'Rmt': 205.375260629731, 'Rnox': 1.6439796628276047, 'h': 28.878991347247062, 'mh': 33.692156571823425, 'u3': 16993.32370217244, 'mz': 62.20607110406503}\n",
      "{'A': 489.2107871394019, 'Rmt': 205.375260629731, 'Rnox': 1.6439796628276047, 'mh': 33.692156571823425, 'u3': 16993.32370217244, 'S': 196610.26787419038, 'u': 19098.53920733662, 'ms': 458.5115605784156, 'h': 28.878991347247062, 'mz': 62.20607110406503}\n",
      "['A', 'S', 'u', 'ms', 'Rmt', 'Rnox', 'h', 'mh', 'u3', 'mz']\n"
     ]
    },
    {
     "data": {
      "image/png": "[encoded data removed]",
      "text/plain": [
       "<Figure size 432x288 with 1 Axes>"
      ]
     },
     "metadata": {
      "needs_background": "light"
     },
     "output_type": "display_data"
    }
   ],
   "source": [
    "fixed_points = new_reducefp(tmp_Ffp)\n",
    "print fixed_points[0]\n",
    "print Ffixed_points[0]\n",
    "print fixed_points[0].keys()"
   ]
  },
  {
   "cell_type": "code",
   "execution_count": 13,
   "metadata": {},
   "outputs": [
    {
     "name": "stdout",
     "output_type": "stream",
     "text": [
      "B Point found \n",
      "LP Point found \n",
      "LP Point found \n",
      "LP Point found \n",
      "B Point found \n"
     ]
    }
   ],
   "source": [
    "PyContF=getCont(DSargsF,fixed_points,2000,1e+0,'u3',[0,20000])\n"
   ]
  },
  {
   "cell_type": "code",
   "execution_count": 14,
   "metadata": {},
   "outputs": [],
   "source": [
    "sol_cont = PyContF['EMT-MR'].sol"
   ]
  },
  {
   "cell_type": "code",
   "execution_count": 15,
   "metadata": {},
   "outputs": [
    {
     "data": {
      "text/plain": [
       "Pointset EMT-MR (non-parameterized)\n",
       "Coordinates:\n",
       "A:  [490.65040393 490.64342156, ..., 490.5083929  490.51349528]\n",
       "Rmt:  [215.72072047 215.65687402, ..., 214.45986889 214.50386315]\n",
       "Rnox:  [1.64646767 1.64645043, ..., 1.64613166 1.64614323]\n",
       "S:  [188098.48354375 188156.56480783, ..., 189229.30985842 189190.40715204]\n",
       "h:  [29.76429832 29.75838177, ..., 29.64851173 29.65251449]\n",
       "mh:  [34.7250147  34.71811206, ..., 34.58993035 34.59460024]\n",
       "ms:  [460.02346519 460.01306753, ..., 459.82125303 459.82820172]\n",
       "mz:  [649.18845641 648.81331598, ..., 56.32461394 56.29829796]\n",
       "u:  [3100.02374388 3106.08295133, ..., 19995.33444014 20000.        ]\n",
       "u3:  [20000.         19977.15230093, ..., 19561.48883041 19576.35599599]\n",
       "Labels by index:  0: {P: {keys=plot,startx,data,name}}, {B: {keys=plot,data,name}}, {EP: {keys=stab,domain,data}},\n",
       "                  1: {EP: {keys=stab,domain,data}},\n",
       "                  2: {EP: {keys=stab,domain,data}},\n",
       "                  .\n",
       "                  .\n",
       "                  .\n",
       "                  1137: {EP: {keys=data,domain,stab}},\n",
       "                  1138: {EP: {keys=data,domain,stab}},\n",
       "                  1139: {P: {keys=plot,startx,data,name}}, {B: {keys=plot,data,name}}, {EP: {keys=data,domain,stab}}"
      ]
     },
     "execution_count": 15,
     "metadata": {},
     "output_type": "execute_result"
    }
   ],
   "source": [
    "sol_cont"
   ]
  },
  {
   "cell_type": "code",
   "execution_count": null,
   "metadata": {},
   "outputs": [],
   "source": [
    "solC_mz = nullclines('mz',DSargsF,fixed_points,new_domains,1000)"
   ]
  },
  {
   "cell_type": "code",
   "execution_count": null,
   "metadata": {
    "scrolled": true
   },
   "outputs": [],
   "source": [
    "solC_a = nullclines('A',DSargsF,fixed_points,new_domains,1000)"
   ]
  },
  {
   "cell_type": "code",
   "execution_count": null,
   "metadata": {},
   "outputs": [],
   "source": [
    "solC_u = nullclines('u',DSargsF,fixed_points,new_domains,1000)"
   ]
  },
  {
   "cell_type": "code",
   "execution_count": null,
   "metadata": {
    "scrolled": true
   },
   "outputs": [],
   "source": [
    "solC_h = nullclines('h',DSargsF,fixed_points,new_domains,1000)"
   ]
  },
  {
   "cell_type": "code",
   "execution_count": null,
   "metadata": {},
   "outputs": [],
   "source": [
    "plt.plot(solC_a['A'],solC_a['mz'],color='b',label='dA/dt=0')\n",
    "plt.plot(solC_mz['A'],solC_mz['mz'],color='g',label='dmz/dt=0')\n",
    "for i in range(len(fixed_points)):\n",
    "    plt.plot(fixed_points[i]['A'],fixed_points[i]['mz'],'ko')\n",
    "#plt.ylim(0,100)"
   ]
  },
  {
   "cell_type": "code",
   "execution_count": null,
   "metadata": {},
   "outputs": [],
   "source": [
    "plt.plot(solC_u['u'],solC_u['h'],color='b',label='du/dt=0')\n",
    "plt.plot(solC_h['u'],solC_h['h'],color='g',label='dh/dt=0')\n",
    "for i in range(len(fixed_points)):\n",
    "    plt.plot(fixed_points[i]['u'],fixed_points[i]['h'],'ko')\n",
    "plt.ylim(0,600)"
   ]
  },
  {
   "cell_type": "code",
   "execution_count": null,
   "metadata": {},
   "outputs": [],
   "source": [
    "plt.plot(solC_u['u'],solC_u['mz'],color='b',label='du/dt=0')\n",
    "plt.plot(solC_mz['u'],solC_mz['mz'],color='b',label='dmz/dt=0')\n"
   ]
  },
  {
   "cell_type": "code",
   "execution_count": null,
   "metadata": {},
   "outputs": [],
   "source": [
    "plt.plot(solC_a['A'],solC_a['h'],color='b',label='dA/dt=0')\n",
    "plt.plot(solC_h['A'],solC_h['h'],color='g',label='dh/dt=0')\n",
    "for i in range(len(fixed_points)):\n",
    "    plt.plot(fixed_points[i]['A'],fixed_points[i]['h'],'ko')\n",
    "\n",
    "plt.ylim(0,700)\n",
    "plt.legend()"
   ]
  },
  {
   "cell_type": "code",
   "execution_count": null,
   "metadata": {},
   "outputs": [],
   "source": []
  },
  {
   "cell_type": "code",
   "execution_count": null,
   "metadata": {},
   "outputs": [],
   "source": []
  }
 ],
 "metadata": {
  "kernelspec": {
   "display_name": "Python 3",
   "language": "python",
   "name": "python3"
  },
  "language_info": {
   "codemirror_mode": {
    "name": "ipython",
    "version": 2
   },
   "file_extension": ".py",
   "mimetype": "text/x-python",
   "name": "python",
   "nbconvert_exporter": "python",
   "pygments_lexer": "ipython2",
   "version": "2.7.17"
  }
 },
 "nbformat": 4,
 "nbformat_minor": 2
}
