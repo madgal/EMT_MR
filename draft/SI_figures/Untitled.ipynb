{
 "cells": [
  {
   "cell_type": "code",
   "execution_count": 1,
   "metadata": {},
   "outputs": [],
   "source": [
    "import numpy as np\n",
    "import pandas as pd\n",
    "import matplotlib\n",
    "import matplotlib.pyplot as plt\n",
    "import matplotlib.gridspec as gridspec\n",
    "import matplotlib.font_manager\n",
    "import matplotlib.patches as mpatches\n",
    "from matplotlib.patches import Patch\n",
    "from matplotlib import cm\n",
    "from shapely import geometry\n",
    "from descartes import PolygonPatch\n",
    "import math\n",
    "\n",
    "from aux_func_States import equals\n",
    "\n",
    "from PIL import Image"
   ]
  },
  {
   "cell_type": "code",
   "execution_count": 2,
   "metadata": {},
   "outputs": [],
   "source": [
    "df = pd.read_csv(\"/home/madeline/Research/EMT_MR/crosstalk/analysis/data/crosstalk_uh_u3n.txt\")"
   ]
  },
  {
   "cell_type": "code",
   "execution_count": 3,
   "metadata": {},
   "outputs": [
    {
     "data": {
      "text/plain": [
       "Index([u'AS', u'AZ', u'AU', u'HS', u'HU', u'INPUT', u'U3M', u'U3N', u'UH',\n",
       "       u'UHV', u'E', u'EM', u'M', u'W', u'WO', u'O', u'M/W', u'M/WO', u'M/O',\n",
       "       u'EM/W', u'EM/WO', u'EM/O', u'E/W', u'E/WO', u'E/O', u'nics'],\n",
       "      dtype='object')"
      ]
     },
     "execution_count": 3,
     "metadata": {},
     "output_type": "execute_result"
    }
   ],
   "source": [
    "df.columns"
   ]
  },
  {
   "cell_type": "code",
   "execution_count": 29,
   "metadata": {},
   "outputs": [
    {
     "data": {
      "text/plain": [
       "Index([u'M/W', u'M/WO', u'M/O', u'EM/W', u'EM/WO', u'EM/O', u'E/W', u'E/WO',\n",
       "       u'E/O'],\n",
       "      dtype='object')"
      ]
     },
     "execution_count": 29,
     "metadata": {},
     "output_type": "execute_result"
    }
   ],
   "source": [
    "df.columns[16:-1]"
   ]
  },
  {
   "cell_type": "code",
   "execution_count": 30,
   "metadata": {},
   "outputs": [],
   "source": [
    "xun_ok=[]\n",
    "for i in range(4):\n",
    "       for j in range(1,4):\n",
    "               for k in range(4):\n",
    "                     if (j==1 and k<=0) or (j==2 and k<=1) or (j==3):\n",
    "                              xun_ok+=[i*100+j*10+k]\n",
    "\n",
    "inds = []\n",
    "for el in xun_ok:\n",
    "    inds += list(np.argwhere(df['UHV'].values==el)[:,0])\n"
   ]
  },
  {
   "cell_type": "code",
   "execution_count": 31,
   "metadata": {},
   "outputs": [
    {
     "data": {
      "text/plain": [
       "array([0.039, 0.086, 0.695, ..., 0.036, 0.042, 0.172])"
      ]
     },
     "execution_count": 31,
     "metadata": {},
     "output_type": "execute_result"
    }
   ],
   "source": [
    "np.round(df.values[inds],3)[:,8]"
   ]
  },
  {
   "cell_type": "code",
   "execution_count": 32,
   "metadata": {},
   "outputs": [
    {
     "name": "stdout",
     "output_type": "stream",
     "text": [
      "(1715, 26)\n",
      "[[0. 0. 0. 0. 0. 0. 0. 0. 1.]\n",
      " [0. 0. 0. 0. 0. 0. 0. 1. 0.]\n",
      " [0. 0. 0. 0. 0. 1. 0. 0. 0.]\n",
      " [0. 0. 0. 0. 1. 0. 0. 0. 0.]\n",
      " [0. 0. 1. 0. 0. 0. 0. 0. 0.]\n",
      " [0. 1. 0. 0. 0. 0. 0. 0. 0.]\n",
      " [1. 0. 0. 0. 0. 0. 0. 0. 0.]]\n"
     ]
    }
   ],
   "source": [
    "usefulData = np.round(df.values[inds],4)\n",
    "states = np.unique(usefulData[:,16:-1],axis=0)\n",
    "print usefulData.shape\n",
    "print states"
   ]
  },
  {
   "cell_type": "code",
   "execution_count": 33,
   "metadata": {},
   "outputs": [],
   "source": [
    "tags = { 0:'M/W' ,1:'M/WO', 2:'M/O',\n",
    "        3:'EM/W', 4:'EM/WO', 5:'EM/O',\n",
    "        6:'E/W', 7:'E/WO', 8:'E/O'}\n",
    "results = { 'M/W':{'x':[],'y':[]} ,'M/WO':{'x':[],'y':[]}, 'M/O':{'x':[],'y':[]},\n",
    "           'EM/W':{'x':[],'y':[]}, 'EM/WO':{'x':[],'y':[]}, 'EM/O':{'x':[],'y':[]},\n",
    "           'E/W':{'x':[],'y':[]}, 'E/WO':{'x':[],'y':[]}, 'E/O':{'x':[],'y':[]}}\n",
    "\n",
    "\n",
    "eps = 0.00001\n",
    "xbreaks,ybreaks=[],[]\n",
    "for el in states:\n",
    "    for i in range(len(el)):\n",
    "        tmp = usefulData[:,16:-1]\n",
    "        if i==0:\n",
    "            locs = np.argwhere(el[i]==tmp[:,i])[:,0]\n",
    "        else:\n",
    "            locs2 = np.argwhere(el[i]==tmp[:,i])[:,0]\n",
    "            locs = np.intersect1d(locs,locs2)\n",
    "\n",
    "    xv = usefulData[locs,7]\n",
    "    yv = usefulData[locs,8]        \n",
    "    \n",
    "    sloc = np.argwhere(el==1)[:,0]\n",
    "    \n",
    "    for i in sloc:\n",
    "        ss = tags[i]\n",
    "        results[ss]['x'] +=[np.min(xv),np.max(xv)]\n",
    "        xbreaks +=[np.min(xv),np.max(xv)]\n",
    "        results[ss]['y'] +=[np.min(yv),np.max(yv)]\n",
    "        ybreaks +=[np.min(yv),np.max(yv)]\n",
    " \n",
    "\n",
    "xbreaks = np.sort(np.unique(xbreaks))\n",
    "ybreaks = np.sort(np.unique(ybreaks))"
   ]
  },
  {
   "cell_type": "code",
   "execution_count": 34,
   "metadata": {},
   "outputs": [
    {
     "name": "stdout",
     "output_type": "stream",
     "text": [
      "[0.  0.4 0.9]\n",
      "[0.0024 0.0052 0.1238 0.2813 0.3675 0.5853 0.5866 0.6926 0.6949 0.6956\n",
      " 0.6958 0.9595 0.9596]\n"
     ]
    }
   ],
   "source": [
    "print xbreaks\n",
    "print ybreaks"
   ]
  },
  {
   "cell_type": "code",
   "execution_count": 35,
   "metadata": {},
   "outputs": [],
   "source": [
    "x1,x2,y1,y2=[],[],[],[]\n",
    "finalRes=[]\n",
    "for i in range(len(xbreaks)-1):\n",
    "    for j in range(len(ybreaks)-1):\n",
    "\n",
    "        tmpR = []\n",
    "        for el in results:\n",
    "            xlow,xhigh,ylow,yhigh = False,False,False,False\n",
    "            if i<len(xbreaks)-1 and len(results[el]['x'])>0:\n",
    "                xlow = results[el]['x'][0]<xbreaks[i]+eps\n",
    "                xhigh = results[el]['x'][1]>xbreaks[i+1]-eps\n",
    "            elif   len(results[el]['x'])>0:\n",
    "                xlow = results[el]['x'][0]<xbreaks[i]+eps\n",
    "                xhigh=True\n",
    "            if j<len(ybreaks)-1 and len(results[el]['y'])>0:\n",
    "                ylow = results[el]['y'][0]<ybreaks[j]+eps\n",
    "                yhigh = results[el]['y'][1]>ybreaks[j+1]-eps\n",
    "            elif len(results[el]['y'])>0:\n",
    "                ylow = results[el]['y'][0]<ybreaks[j]+eps\n",
    "                yhigh=True\n",
    "                \n",
    "\n",
    "            #print xlow,xhigh,results[el]['x']\n",
    "            #print ylow,yhigh,results[el]['y']     ,'\\n'     \n",
    "            if xlow and xhigh and ylow and yhigh:\n",
    "                tmpR+=[el]\n",
    "        if len(tmpR)>0:# and xlow and xhigh and ylow and yhigh:\n",
    "                x1+=[xbreaks[i]]\n",
    "                x2+=[xbreaks[i+1]]                \n",
    "                y1+=[ybreaks[j]]                \n",
    "                y2+=[ybreaks[j+1]]\n",
    "                finalRes+=[tmpR]"
   ]
  },
  {
   "cell_type": "code",
   "execution_count": 36,
   "metadata": {},
   "outputs": [
    {
     "name": "stdout",
     "output_type": "stream",
     "text": [
      "24\n",
      "0.0 0.4 0.0024 0.0052 ['E/O']\n",
      "0.0 0.4 0.0052 0.1238 ['EM/O', 'E/O']\n",
      "0.0 0.4 0.1238 0.2813 ['EM/O', 'M/O', 'E/O']\n",
      "0.0 0.4 0.2813 0.3675 ['EM/O', 'M/O', 'E/WO', 'E/O']\n",
      "0.0 0.4 0.3675 0.5853 ['EM/O', 'M/O', 'E/WO', 'E/O', 'EM/WO']\n",
      "0.0 0.4 0.5853 0.5866 ['EM/O', 'M/O', 'E/WO', 'EM/WO']\n",
      "0.0 0.4 0.5866 0.6926 ['EM/O', 'M/O', 'EM/WO']\n",
      "0.0 0.4 0.6926 0.6949 ['M/O', 'EM/WO']\n",
      "0.0 0.4 0.6949 0.6956 ['M/O']\n",
      "0.0 0.4 0.6956 0.6958 ['M/O', 'M/WO']\n",
      "0.0 0.4 0.6958 0.9595 ['M/O', 'M/WO', 'M/W']\n",
      "0.0 0.4 0.9595 0.9596 ['M/WO', 'M/W']\n",
      "0.4 0.9 0.0024 0.0052 ['E/O']\n",
      "0.4 0.9 0.0052 0.1238 ['EM/O', 'E/O']\n",
      "0.4 0.9 0.1238 0.2813 ['EM/O', 'M/O', 'E/O']\n",
      "0.4 0.9 0.2813 0.3675 ['EM/O', 'M/O', 'E/O']\n",
      "0.4 0.9 0.3675 0.5853 ['EM/O', 'M/O', 'E/O']\n",
      "0.4 0.9 0.5853 0.5866 ['EM/O', 'M/O']\n",
      "0.4 0.9 0.5866 0.6926 ['EM/O', 'M/O']\n",
      "0.4 0.9 0.6926 0.6949 ['M/O']\n",
      "0.4 0.9 0.6949 0.6956 ['M/O']\n",
      "0.4 0.9 0.6956 0.6958 ['M/O', 'M/WO']\n",
      "0.4 0.9 0.6958 0.9595 ['M/O', 'M/WO', 'M/W']\n",
      "0.4 0.9 0.9595 0.9596 ['M/WO', 'M/W']\n"
     ]
    },
    {
     "data": {
      "image/png": "[encoded data removed]",
      "text/plain": [
       "<Figure size 432x288 with 1 Axes>"
      ]
     },
     "metadata": {
      "needs_background": "light"
     },
     "output_type": "display_data"
    }
   ],
   "source": [
    "print len(x1)\n",
    "for i in range(len(x1)):\n",
    "    plt.fill_between([x1[i],x2[i]],y1[i],y2[i])\n",
    "    print x1[i],x2[i],y1[i],y2[i],finalRes[i]"
   ]
  },
  {
   "cell_type": "code",
   "execution_count": 37,
   "metadata": {},
   "outputs": [],
   "source": [
    "colLst=list(np.unique(finalRes))\n",
    "\n"
   ]
  },
  {
   "cell_type": "code",
   "execution_count": 12,
   "metadata": {},
   "outputs": [],
   "source": [
    "name='data_uh_u3n'\n",
    "fileo = open(\"data/\"+name+\".txt\",'w')\n",
    "\n",
    "fileo.write(\"X1,X2,Y1,Y2,color\\n\")\n",
    "\n",
    "for i in range(len(x1)):\n",
    "\n",
    "    for j in range(len(colLst)):\n",
    "        if equals(finalRes[i],colLst[j]):\n",
    "            colN = j+1\n",
    "    fileo.write(\"%s,%s,%s,%s,%s\\n\" %(x1[i],x2[i],y1[i],y2[i],colN))\n",
    "\n",
    "fileo.close()\n",
    "#####################33\n",
    "fileo = open(\"data/\"+name+\"_HHOnlhy.txt\",'w')\n",
    "\n",
    "fileo.write(\"X1,X2,Y1,Y2\\n\")\n",
    "\n",
    "for i in range(len(x1)):\n",
    "    if equals(finalRes[i],['EM/WO']):\n",
    "        fileo.write(\"%s,%s,%s,%s\\n\" %(x1[i],x2[i],y1[i],y2[i]))\n",
    "\n",
    "fileo.close()\n",
    "#############################\n",
    "fileo = open(\"data/\"+name+\"_HHexists.txt\",'w')\n",
    "\n",
    "fileo.write(\"X1,X2,Y1,Y2\\n\")\n",
    "\n",
    "for i in range(len(x1)):\n",
    "    if 'EM/WO' in finalRes[i]:\n",
    "        fileo.write(\"%s,%s,%s,%s\\n\" %(x1[i],x2[i],y1[i],y2[i]))\n",
    "\n",
    "fileo.close()\n",
    "#############################\n",
    "fileo = open(\"data/\"+name+\"_legend.txt\",'w')\n",
    "fileo.write('E/O,E/W,E/WO,EM/O,EM/W,EM/WO,M/O,M/W,M/WO,E,EM,M,O,WO,W,t3\\n')\n",
    "\n",
    "for i in range(len(colLst)):\n",
    "    tmp=[]\n",
    "    for el in ['E/O','E/W','E/WO','EM/O','EM/W','EM/WO','M/O','M/W','M/WO']:\n",
    "        if el in colLst[i]:\n",
    "            fileo.write(\"1,\")\n",
    "            tmp+=el.split(\"/\")\n",
    "        else:\n",
    "            fileo.write(\"0,\")            \n",
    "    for el in ['E','EM','M','O','WO','W']:\n",
    "        if el in tmp:\n",
    "            fileo.write(\"1,\")\n",
    "        else:\n",
    "            fileo.write(\"0,\")\n",
    "    fileo.write(\"%s\\n\" %(i+1))\n",
    "fileo.close()"
   ]
  },
  {
   "cell_type": "code",
   "execution_count": null,
   "metadata": {},
   "outputs": [],
   "source": [
    "\n"
   ]
  }
 ],
 "metadata": {
  "kernelspec": {
   "display_name": "Python 3",
   "language": "python",
   "name": "python3"
  },
  "language_info": {
   "codemirror_mode": {
    "name": "ipython",
    "version": 2
   },
   "file_extension": ".py",
   "mimetype": "text/x-python",
   "name": "python",
   "nbconvert_exporter": "python",
   "pygments_lexer": "ipython2",
   "version": "2.7.17"
  }
 },
 "nbformat": 4,
 "nbformat_minor": 2
}
