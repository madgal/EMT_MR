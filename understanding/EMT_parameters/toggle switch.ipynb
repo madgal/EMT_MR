{
 "cells": [
  {
   "cell_type": "code",
   "execution_count": 1,
   "metadata": {},
   "outputs": [],
   "source": [
    "import PyDSTool\n",
    "from PyDSTool.Toolbox import phaseplane as pp\n",
    "import matplotlib\n",
    "from pylab import *\n",
    "import copy\n",
    "import math\n",
    "matplotlib.rcParams.update({'font.size': 30})\n"
   ]
  },
  {
   "cell_type": "code",
   "execution_count": 2,
   "metadata": {},
   "outputs": [],
   "source": [
    "def plotContPartial(DSarg,fixed_points,x,y,title,maxnum,step,col='k'):\n",
    "        DSargs = copy.deepcopy(DSarg)\n",
    "        freepar=x\n",
    "        DSargs.pdomain={x:[0,100000]}\n",
    "        odex = PyDSTool.Generator.Vode_ODEsystem(DSargs)\n",
    "        odex.set(ics=fixed_points[0])\n",
    "        PCargs = PyDSTool.args(name='EMTest',type='EP-C')\n",
    "        PCargs.freepars =[x]\n",
    "        PCargs.MaxNumPoints = maxnum ## max number for each call of forward and backward\n",
    "        PCargs.MaxStepSize = 1e+2\n",
    "        PCargs.MinStepSize = 1e-2\n",
    "        PCargs.StepSize = step\n",
    "        PCargs.StopAtPoints = ['B'] ##  stops searching once this point is hit\n",
    "        PCargs.LocBifPoints = 'all' ##\n",
    "        PCargs.SaveEigen = True\n",
    "\n",
    "        PyCont = PyDSTool.ContClass(odex) # Set up continuation class\n",
    "        PyCont.newCurve(PCargs)\n",
    "        PyCont['EMTest'].forward()\n",
    "        PyCont['EMTest'].backward()\n",
    "        PyCont.display([x,y],stability=True,color=col)\n",
    "        PyCont.plot.toggleLabels(\"off\")\n",
    "        plt.title('')\n",
    "        plt.xlabel(x+\" (molecules)\",fontsize=20)\n",
    "        plt.ylabel(y+\" (molecules)\",fontsize=20)\n",
    "        #plt.savefig(title+\".png\",bbox_inches='tight')\n",
    "        #plt.show()\n",
    "        #plt.close()\n",
    "\n"
   ]
  },
  {
   "cell_type": "code",
   "execution_count": 3,
   "metadata": {},
   "outputs": [],
   "source": [
    "def reduce_fp(fixed_points):\n",
    "\n",
    "        final = []\n",
    "        for el in fixed_points:\n",
    "                if len(final)>0:\n",
    "                        addI=True\n",
    "                        for item in final:\n",
    "                                if np.abs(el['u']-item['u'])<0.001:\n",
    "                                        if np.abs(el['mz']-item['mz'])<0.001:\n",
    "                                                addI=False\n",
    "                        if addI:\n",
    "                                final+=[el]\n",
    "\n",
    "                else:\n",
    "                        final+=[el]\n",
    "\n",
    "        return tuple(final)\n",
    "\n"
   ]
  },
  {
   "cell_type": "code",
   "execution_count": 4,
   "metadata": {},
   "outputs": [],
   "source": [
    "DSargs = PyDSTool.args(name='emt',checklevel=2)\n",
    "DSargs.fnspecs = {'H':(['X','X0','nX','lamdaX'],'lamdaX+(1.-lamdaX)/(1.+(X/X0)**nX)')}\n",
    "\n",
    "DSargs.pars = { 'ga':10.,'ka':0.1,'gb':10.,'kb':0.1,\n",
    "                'a0a':2,'naa':2,'laa':5,'b0a':3,'nba':2,'lba':8,\n",
    "                'a0b':2,'nab':2,'lab':5,'b0b':3,'nbb':2,'lbb':8}\n",
    "\n",
    "\n",
    "DSargs.varspecs = { 'a':'ga*H(a,a0a,naa,laa)*H(b,b0a,nba,lba)-ka*a','b':'gb*H(a,a0b,nab,lab)*H(b,b0b,nbb,lbb)-kb*b'}"
   ]
  },
  {
   "cell_type": "code",
   "execution_count": 8,
   "metadata": {},
   "outputs": [
    {
     "name": "stdout",
     "output_type": "stream",
     "text": [
      "Reduced\n",
      "({'a': 3999.9972312478676, 'b': 3999.9972312478676},)\n"
     ]
    }
   ],
   "source": [
    "DSargs.ics = {'a':5,'b':0}\n",
    "DSargs.xdomain = {'a':[0,10000],'b':[0,10000]}\n",
    "DSargs.tdomain = [0,5000]\n",
    "DSargs.algparams = {'init_step':0.1}\n",
    "\n",
    "ode = PyDSTool.Generator.Vode_ODEsystem(DSargs)\n",
    "Ffixed_points = pp.find_fixedpoints(ode,n=6,maxsearch=1e+6,eps=1e-10)\n",
    "\n",
    "fixed_points = reduce_fp(Ffixed_points)\n",
    "print(\"Reduced\")\n",
    "print(fixed_points)\n"
   ]
  },
  {
   "cell_type": "code",
   "execution_count": null,
   "metadata": {},
   "outputs": [],
   "source": []
  }
 ],
 "metadata": {
  "kernelspec": {
   "display_name": "Python 2",
   "language": "python",
   "name": "python2"
  },
  "language_info": {
   "codemirror_mode": {
    "name": "ipython",
    "version": 2
   },
   "file_extension": ".py",
   "mimetype": "text/x-python",
   "name": "python",
   "nbconvert_exporter": "python",
   "pygments_lexer": "ipython2",
   "version": "2.7.17"
  }
 },
 "nbformat": 4,
 "nbformat_minor": 2
}
