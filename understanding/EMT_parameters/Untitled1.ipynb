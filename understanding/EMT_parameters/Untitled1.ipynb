{
 "cells": [
  {
   "cell_type": "code",
   "execution_count": 1,
   "metadata": {},
   "outputs": [],
   "source": [
    "import PyDSTool\n",
    "from PyDSTool.Toolbox import phaseplane as pp\n",
    "import matplotlib\n",
    "from pylab import *\n",
    "import copy\n",
    "import math\n",
    "matplotlib.rcParams.update({'font.size': 30})\n",
    "\n",
    "\n",
    "from parameters_emt_B import *\n",
    "\n"
   ]
  },
  {
   "cell_type": "code",
   "execution_count": 2,
   "metadata": {},
   "outputs": [],
   "source": [
    "def reduce_fp(fixed_points):\n",
    "\n",
    "        final = []\n",
    "        for el in fixed_points:\n",
    "                if len(final)>0:\n",
    "                        addI=True\n",
    "                        for item in final:\n",
    "                                if np.abs(el['u']-item['u'])<0.001:\n",
    "                                        if np.abs(el['mz']-item['mz'])<0.001:\n",
    "                                                addI=False\n",
    "                        if addI:\n",
    "                                final+=[el]\n",
    "\n",
    "                else:\n",
    "                        final+=[el]\n",
    "\n",
    "        return tuple(final)\n",
    "\n",
    "\n"
   ]
  },
  {
   "cell_type": "code",
   "execution_count": 3,
   "metadata": {},
   "outputs": [],
   "source": [
    "DSargs = PyDSTool.args(name='emt',checklevel=2)\n",
    "DSargs.fnspecs = {'H':(['X','X0','nX','lamdaX'],'lamdaX+(1.-lamdaX)/(1.+(X/X0)**nX)'),\n",
    "                  'Z':(['mzX','uX','u0X','nuX','kzX','gzX'],'gzX*mzX*L(uX,u0X,nuX)/kzX'),\n",
    "                  'M' : (['i','n','x','x0'],'(x/x0)**i/(1+(x/x0))**n'),\n",
    "                  'indL': (['i'],'if(i==0,li0,if(i==1,li1,if(i==2,li2,if(i==3,li3,if(i==4,li4,if(i==5,li5,li6))))))'),\n",
    "                  'indYm': (['i'],'if(i==0,ymi0,if(i==1,ymi1,if(i==2,ymi2,if(i==3,ymi3,if(i==4,ymi4,if(i==5,ymi5,ymi6))))))'),\n",
    "                  'indYu': (['i'],'if(i==0,yui0,if(i==1,yui1,if(i==2,yui2,if(i==3,yui3,if(i==4,yui4,if(i==5,yui5,yui6))))))'),\n",
    "                  'combination':(['k','n'],'special_gamma(n+1)/special_gamma(k+1)/special_gamma(n-k+1)'),\n",
    "                  'combinationU':(['k','n'],'k*special_gamma(n+1)/special_gamma(k+1)/special_gamma(n-k+1)'),\n",
    "                  'L' : (['X','X0','nX'],'sum(i,0,6,li[i]*combination([i],nX)*M([i],nX,X,X0))'),\n",
    "                  'Ym' : (['X','X0','nX'],'sum(i,0,6,ymi[i]*combination([i],nX)*M([i],nX,X,X0))'),\n",
    "                  'Yu' : (['X','X0','nX'],'sum(i,0,6,yui[i]*combinationU([i],nX)*M([i],nX,X,X0))'),\n",
    "                  'L3' : (['X','X0','nX'],'sum(i,0,2,li[i]*combination([i],nX)*M([i],nX,X,X0))'),\n",
    "                  'Ym3' : (['X','X0','nX'],'sum(i,0,2,ymi[i]*combination([i],nX)*M([i],nX,X,X0))'),\n",
    "                  'Yu3' : (['X','X0','nX'],'sum(i,0,2,yui[i]*combinationU([i],nX)*M([i],nX,X,X0))')}\n",
    "\n",
    "DSargs.pars = { 'gz':gz, 'u0':u0,'nu':nu,'kz':kz,\n",
    "                'li0':li0, 'li1':li1, 'li2':li2, 'li3':li3, 'li4':li4, 'li5':li5, 'li6':li6,\n",
    "                'ymi0':ymi0, 'ymi1':ymi1, 'ymi2':ymi2, 'ymi3':ymi3, 'ymi4':ymi4, 'ymi5':ymi5, 'ymi6':ymi6,\n",
    "                'yui0':yui0, 'yui1':yui1, 'yui2':yui2, 'yui3':yui3, 'yui4':yui4, 'yui5':yui5, 'yui6':yui6,\n",
    "                'gu':gu, 'Z0u':Z0u,'nzu':nzu, 'lamdazu':lamdazu,'S0u':S0u,'nsu':nsu,'lamdaSu':lamdaSu,'u0':u0,'nu':nu,'ku':ku,\n",
    "                'gmz':gmz, 'Z0m':Z0m,'nzm':nzm, 'lamdaZm':lamdaZm,'S0m':S0m,'nsm':nsm,'lamdaSm':lamdaSm,'u0':u0,'nu':nu,'kmz':kmz,\n",
    "                'gms':gms, 'I0m':I0m, 'nIm':nIm, 'lamdaIm':lamdaIm, 'S0ms':S0ms, 'nsms':nsms, 'lamdaSms':lamdaSms, 'u30':u30,\n",
    "                'nu3':nu3, 'kms':kms, 'gu3':gu3, 'Z0u3':Z0u3, 'nzu3':nzu3, 'lamdazu3':lamdazu3, 'S0u3':S0u3, 'nsu3':nsu3,\n",
    "                'lamdaSu3':lamdaSu3, 'ku3':ku3, 'gs':gs, 'ks':ks}\n",
    "\n",
    "DSargs.varspecs = { 'u':'gu*H(Z(mz,u,u0,nu,kz,gz),Z0u,nzu,lamdazu)*H(S,S0u,nsu,lamdaSu)-mz*Yu(u,u0,nu)-ku*u',\n",
    "                   'mz':'gmz*H(Z(mz,u,u0,nu,kz,gz),Z0m,nzm,lamdaZm)*H(S,S0m,nsm,lamdaSm)-mz*Ym(u,u0,nu)-kmz*mz',\n",
    "                   'ms':'gms*H(I,I0m,nIm,lamdaIm)*H(S,S0ms,nsms,lamdaSms)-ms*Ym3(u3,u30,nu3)-kms*ms',\n",
    "                   'u3':'gu3*H(Z(mz,u,u0,nu,kz,gz),Z0u3,nzu3,lamdazu3)*H(S,S0u3,nsu3,lamdaSu3)-ms*Yu3(u3,u30,nu3)-ku3*u3',\n",
    "                    'S':'gs*ms*L3(u3,u30,nu3)-ks*S'\n",
    "\n",
    "                }\n"
   ]
  },
  {
   "cell_type": "code",
   "execution_count": 4,
   "metadata": {},
   "outputs": [],
   "source": [
    "def plotContPartial2(DSarg,fixed_points,x,y,title,maxnum,step,col='k'):\n",
    "        DSargs = copy.deepcopy(DSarg)\n",
    "        freepar='I'\n",
    "        DSargs.pdomain={'I':[0,100000]}\n",
    "        odex = PyDSTool.Generator.Vode_ODEsystem(DSargs)\n",
    "        odex.set(ics=fixed_points[0])\n",
    "        PCargs = PyDSTool.args(name='EMTest',type='EP-C')\n",
    "        PCargs.freepars =['I']\n",
    "        PCargs.MaxNumPoints = maxnum ## max number for each call of forward and backward\n",
    "        PCargs.MaxStepSize = 1e+2\n",
    "        PCargs.MinStepSize = 1e-2\n",
    "        PCargs.StepSize = step\n",
    "        PCargs.StopAtPoints = ['B'] ##  stops searching once this point is hit\n",
    "        PCargs.LocBifPoints = 'all' ##\n",
    "        PCargs.SaveEigen = True\n",
    "\n",
    "        PyCont = PyDSTool.ContClass(odex) # Set up continuation class\n",
    "        PyCont.newCurve(PCargs)\n",
    "        PyCont['EMTest'].forward()\n",
    "        PyCont['EMTest'].backward()\n",
    "        PyCont.display([x,y],stability=True,color=col)\n",
    "        PyCont.plot.toggleLabels(\"off\")\n",
    "        plt.title('')\n",
    "        plt.xlabel(x+\" (molecules)\",fontsize=20)\n",
    "        plt.ylabel(y+\" (molecules)\",fontsize=20)\n",
    "        #plt.savefig(title+\".png\",bbox_inches='tight')\n",
    "        #plt.show()\n",
    "        #plt.close()\n",
    "\n"
   ]
  },
  {
   "cell_type": "code",
   "execution_count": 5,
   "metadata": {},
   "outputs": [],
   "source": [
    "DSargs.ics = {'u':1000,'mz':1000,'S':200000,'ms':2000,'u3':4000}\n",
    "DSargs.xdomain = {'u':[0,100000],'mz':[0,100000],'S':[0,400000],'ms':[0,100000],'u3':[0,100000]}\n",
    "DSargs.tdomain = [0,5000]\n",
    "DSargs.algparams = {'init_step':0.1}\n",
    "DSargs.pars['I']=50000\n",
    "\n"
   ]
  },
  {
   "cell_type": "code",
   "execution_count": 6,
   "metadata": {},
   "outputs": [
    {
     "name": "stdout",
     "output_type": "stream",
     "text": [
      "LP Point found \n",
      "Test function going crazy:  class Hopf_Bor(BorderMethod, BiAltMethod) \n",
      "\n",
      "Test function going crazy:  class Hopf_Bor(BorderMethod, BiAltMethod) \n",
      "\n",
      "LP Point found \n",
      "LP Point found \n",
      "Test function going crazy:  class Hopf_Bor(BorderMethod, BiAltMethod) \n",
      "\n",
      "Test function going crazy:  class Hopf_Bor(BorderMethod, BiAltMethod) \n",
      "\n",
      "LP Point found \n",
      "B Point found \n"
     ]
    },
    {
     "name": "stderr",
     "output_type": "stream",
     "text": [
      "/home/madeline/anaconda2/lib/python2.7/site-packages/matplotlib/cbook/deprecation.py:107: MatplotlibDeprecationWarning: Using pyplot.axes(ax) with ax an Axes argument is deprecated. Please use pyplot.sca(ax) instead.\n",
      "  warnings.warn(message, mplDeprecation, stacklevel=1)\n"
     ]
    },
    {
     "name": "stdout",
     "output_type": "stream",
     "text": [
      "LP Point found \n",
      "Test function going crazy:  class Hopf_Bor(BorderMethod, BiAltMethod) \n",
      "\n",
      "Test function going crazy:  class Hopf_Bor(BorderMethod, BiAltMethod) \n",
      "\n",
      "LP Point found \n",
      "LP Point found \n",
      "Test function going crazy:  class Hopf_Bor(BorderMethod, BiAltMethod) \n",
      "\n",
      "Test function going crazy:  class Hopf_Bor(BorderMethod, BiAltMethod) \n",
      "\n",
      "Test function going crazy:  class Hopf_Bor(BorderMethod, BiAltMethod) \n",
      "\n",
      "LP Point found \n",
      "B Point found \n",
      "LP Point found \n",
      "LP Point found \n",
      "LP Point found \n",
      "LP Point found \n",
      "B Point found \n",
      "LP Point found \n",
      "LP Point found \n",
      "LP Point found \n",
      "Test function going crazy:  class Hopf_Bor(BorderMethod, BiAltMethod) \n",
      "\n",
      "Test function going crazy:  class Hopf_Bor(BorderMethod, BiAltMethod) \n",
      "\n",
      "LP Point found \n",
      "B Point found \n",
      "LP Point found \n",
      "Test function going crazy:  class Hopf_Bor(BorderMethod, BiAltMethod) \n",
      "\n",
      "LP Point found \n",
      "LP Point found \n",
      "Test function going crazy:  class Hopf_Bor(BorderMethod, BiAltMethod) \n",
      "\n",
      "Test function going crazy:  class Hopf_Bor(BorderMethod, BiAltMethod) \n",
      "\n",
      "LP Point found \n"
     ]
    },
    {
     "data": {
      "image/png": "[encoded data removed]",
      "text/plain": [
       "<Figure size 432x288 with 1 Axes>"
      ]
     },
     "metadata": {
      "needs_background": "light"
     },
     "output_type": "display_data"
    }
   ],
   "source": [
    "DSargs.pars['lamdaIm']=10.\n",
    "el=[40000,48000,50000,56000,62000]\n",
    "col=['r','m','k','g','b']\n",
    "for i in range(len(el)):\n",
    "                DSargs.pars['I']=el[i]\n",
    "                ode = PyDSTool.Generator.Vode_ODEsystem(DSargs)\n",
    "                Ffixed_points = pp.find_fixedpoints(ode,n=5,maxsearch=1e+4,eps=1e-10)\n",
    "                fixed_points = reduce_fp(Ffixed_points)\n",
    "                plotContPartial2(DSargs,fixed_points,'u','mz','EMT_redCont_lamdaIm',2000,1e+0,col[i])\n"
   ]
  },
  {
   "cell_type": "code",
   "execution_count": null,
   "metadata": {},
   "outputs": [],
   "source": []
  }
 ],
 "metadata": {
  "kernelspec": {
   "display_name": "Python 2",
   "language": "python",
   "name": "python2"
  },
  "language_info": {
   "codemirror_mode": {
    "name": "ipython",
    "version": 2
   },
   "file_extension": ".py",
   "mimetype": "text/x-python",
   "name": "python",
   "nbconvert_exporter": "python",
   "pygments_lexer": "ipython2",
   "version": "2.7.17"
  }
 },
 "nbformat": 4,
 "nbformat_minor": 2
}
